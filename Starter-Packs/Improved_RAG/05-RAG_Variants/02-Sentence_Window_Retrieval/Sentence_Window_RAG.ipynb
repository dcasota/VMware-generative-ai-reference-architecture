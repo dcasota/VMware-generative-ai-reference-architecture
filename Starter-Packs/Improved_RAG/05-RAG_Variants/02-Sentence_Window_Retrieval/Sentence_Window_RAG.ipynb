{
 "cells": [
  {
   "cell_type": "markdown",
   "source": "# Sentence Window Improved RAG",
   "metadata": {},
   "id": "21f9146a-c6f3-4a78-b3fb-0d262492e87c"
  },
  {
   "cell_type": "code",
   "source": [
    "import time\n",
    "# Start timer to time the notebook execution\n",
    "start = time.time()\n",
    "\n",
    "import pandas as pd\n",
    "import os\n",
    "import ast\n",
    "import yaml\n",
    "from dotmap import DotMap\n",
    "import psycopg2\n",
    "from sqlalchemy import make_url\n",
    "from IPython.display import display, Markdown\n",
    "import ipywidgets as widgets\n",
    "widgets.IntSlider()\n",
    "\n",
    "from llama_index.core import VectorStoreIndex\n",
    "from llama_index.vector_stores.postgres import PGVectorStore\n",
    "from llama_index.core import (\n",
    "    SimpleDirectoryReader,\n",
    "    StorageContext,\n",
    ")\n",
    "from llama_index.readers.file import PyMuPDFReader\n",
    "from llama_index.embeddings.nvidia import NVIDIAEmbedding\n",
    "from llama_index.postprocessor.nvidia_rerank import NVIDIARerank\n",
    "from llama_index.core import Settings\n",
    "from llama_index.llms.openai_like import OpenAILike\n",
    "from llama_index.core.node_parser import SentenceWindowNodeParser\n",
    "from llama_index.core.ingestion import IngestionPipeline\n",
    "from llama_index.core.indices.postprocessor import MetadataReplacementPostProcessor\n",
    "\n",
    "import sys\n",
    "utils_path = \"../../08-Utils\"\n",
    "if utils_path not in sys.path:\n",
    "    sys.path.append(utils_path)\n",
    "\n",
    "from helpers import (\n",
    "    get_indices_with_nulls,\n",
    "    remove_elements,\n",
    "    generate_responses_dict,\n",
    "    get_short_docs,\n",
    "    TextCleaner,\n",
    "    save_results,\n",
    ")"
   ],
   "metadata": {
    "collapsed": false,
    "ExecuteTime": {
     "end_time": "2024-08-26T16:09:09.942516Z",
     "start_time": "2024-08-26T16:09:01.606802Z"
    }
   },
   "id": "cb14fd5b562cb2ad",
   "outputs": [
    {
     "name": "stderr",
     "output_type": "stream",
     "text": [
      "None of PyTorch, TensorFlow >= 2.0, or Flax have been found. Models won't be available and only tokenizers, configuration and file/data utilities can be used.\n"
     ]
    }
   ],
   "execution_count": 1
  },
  {
   "metadata": {
    "ExecuteTime": {
     "end_time": "2024-08-26T16:09:09.971577Z",
     "start_time": "2024-08-26T16:09:09.944777Z"
    }
   },
   "cell_type": "code",
   "source": [
    "# Open the Starter Pack global configuration file\n",
    "with open('../../07-Starter_Pack_config/improved_rag_config.yaml', 'r') as file:\n",
    "    config = yaml.safe_load(file)\n",
    "config = DotMap(config)"
   ],
   "id": "6c189d7a702eaa1e",
   "outputs": [],
   "execution_count": 2
  },
  {
   "cell_type": "code",
   "source": [
    "# LLamaIndex LLM provider\n",
    "llm_cfg = config.ml_models.llm_generator\n",
    "Settings.llm = OpenAILike(\n",
    "        model=llm_cfg.model,\n",
    "        api_key=llm_cfg.api_key,\n",
    "        api_base=llm_cfg.api_base,\n",
    "        temperature=llm_cfg.temperature,\n",
    "        max_tokens=llm_cfg.max_tokens,\n",
    "        repetition_penalty=llm_cfg.repetition_penalty,\n",
    ")\n",
    "\n",
    "# LLamaIndex embedding model\n",
    "emb_cfg = config.ml_models.embedder\n",
    "Settings.embed_model = NVIDIAEmbedding(\n",
    "        base_url=emb_cfg.api_base,\n",
    "        model=emb_cfg.model,\n",
    "        embed_batch_size=emb_cfg.batch_size,\n",
    "        truncate=\"END\",\n",
    ")\n",
    "EMBEDDING_SIZE = len(Settings.embed_model.get_text_embedding(\"hi\"))"
   ],
   "metadata": {
    "collapsed": false,
    "ExecuteTime": {
     "end_time": "2024-08-26T16:09:10.789098Z",
     "start_time": "2024-08-26T16:09:09.973092Z"
    }
   },
   "id": "3eb2c391167f0fe1",
   "outputs": [],
   "execution_count": 3
  },
  {
   "cell_type": "markdown",
   "source": "## For this notebook, we'll use a set of E-books (PDF) about [NASA's history](https://www.nasa.gov/history/explore-nasas-history)",
   "metadata": {
    "collapsed": false
   },
   "id": "fc3bd5b0b6b8fa75"
  },
  {
   "cell_type": "code",
   "source": [
    "%%time\n",
    "# >> Text Extraction\n",
    "# The PyMuPDFReader takes ~ 1/20 the time it takes to the default reader to ingest the PDF files\n",
    "# Note: PyMuPDFReader creates a document object per page in a PDF document.\n",
    "\n",
    "# Lamda function to add the file name as metadata at loading time\n",
    "filename_fn = lambda filename: {\"file_name\": filename.split(\"/\")[-1]}\n",
    "\n",
    "reader = SimpleDirectoryReader(\n",
    "        input_dir='../' + config.file_paths.kb_doc_dir,\n",
    "        required_exts=[\".pdf\"],\n",
    "        file_extractor={\".pdf\":PyMuPDFReader()},\n",
    "        file_metadata=filename_fn,\n",
    "        num_files_limit=10,\n",
    ")\n",
    "documents = reader.load_data()\n",
    "\n",
    "# Filter out documents with null (`\\x00') characters\n",
    "# which are incompatible with PGVector.\n",
    "# Also remove documents a number of words < MIN_DOC_LENGTH\n",
    "bad_docs = get_indices_with_nulls(documents)\n",
    "short_docs = get_short_docs(\n",
    "        documents,\n",
    "        config.llama_index.min_doc_length)\n",
    "docs_to_remove = set(bad_docs + short_docs)\n",
    "documents = remove_elements(documents, docs_to_remove)"
   ],
   "metadata": {
    "collapsed": false,
    "ExecuteTime": {
     "end_time": "2024-08-26T16:09:57.207412Z",
     "start_time": "2024-08-26T16:09:10.791381Z"
    }
   },
   "id": "62a5607ae62bfc69",
   "outputs": [
    {
     "name": "stdout",
     "output_type": "stream",
     "text": [
      "CPU times: user 33.3 s, sys: 12.2 s, total: 45.5 s\n",
      "Wall time: 46.4 s\n"
     ]
    }
   ],
   "execution_count": 4
  },
  {
   "cell_type": "code",
   "source": [
    "# Create the sentence window node parser\n",
    "sentence_window = config.llama_index.sentence_window\n",
    "\n",
    "node_parser = SentenceWindowNodeParser.from_defaults(\n",
    "    window_size=sentence_window.window_size,\n",
    "    window_metadata_key=sentence_window.win_mdata_key,\n",
    "    original_text_metadata_key=sentence_window.orig_mdata_key,\n",
    ")\n",
    "\n",
    "pipeline = IngestionPipeline(\n",
    "        transformations=[\n",
    "                TextCleaner(),\n",
    "                SentenceWindowNodeParser(\n",
    "                        window_size=sentence_window.window_size,\n",
    "                        window_metadata_key=sentence_window.win_mdata_key,\n",
    "                        original_text_metadata_key=sentence_window.orig_mdata_key,\n",
    "                )\n",
    "        ],\n",
    ")\n",
    "\n",
    "nodes = pipeline.run(\n",
    "        documents=documents,\n",
    "        show_progress=True\n",
    ")"
   ],
   "metadata": {
    "collapsed": false,
    "ExecuteTime": {
     "end_time": "2024-08-26T16:10:09.679816Z",
     "start_time": "2024-08-26T16:09:57.210363Z"
    }
   },
   "id": "4635cfb46f8ca816",
   "outputs": [
    {
     "data": {
      "text/plain": [
       "Parsing nodes:   0%|          | 0/3692 [00:00<?, ?it/s]"
      ],
      "application/vnd.jupyter.widget-view+json": {
       "version_major": 2,
       "version_minor": 0,
       "model_id": "4b8358293ca14892ae903b3c7dbc4aee"
      }
     },
     "metadata": {},
     "output_type": "display_data"
    }
   ],
   "execution_count": 5
  },
  {
   "cell_type": "markdown",
   "source": "## Building the index on a new DB table called NASA_HISTORY_BOOKS_SENTENCE_INDEX",
   "metadata": {},
   "id": "fea97dda-8457-4f32-a2c7-26ae92eaf0b4"
  },
  {
   "cell_type": "code",
   "source": [
    "%%time\n",
    "\n",
    "# Connect to the PostgreSQL engine ans initialize de DB to serve as vector/document store.\n",
    "db_cfg = config.postgresql\n",
    "connection_string = (f\"postgresql://{db_cfg.user}:\"\n",
    "                     f\"{db_cfg.password}@{db_cfg.db_host}:{db_cfg.port}/{db_cfg.default_db}\")\n",
    "conn = psycopg2.connect(connection_string)\n",
    "conn.autocommit = True\n",
    "\n",
    "# Create a url object to store DB connection parameters\n",
    "url = make_url(connection_string)\n",
    "conn = psycopg2.connect(connection_string)\n",
    "cursor = conn.cursor()\n",
    "cursor.execute(f\"DROP TABLE IF EXISTS public.data_{db_cfg.tables.sentence_window};\")\n",
    "conn.commit()\n",
    "conn.close()\n",
    "\n",
    "# Connect to the PGVector extension\n",
    "vector_store = PGVectorStore.from_params(\n",
    "        database=url.database,\n",
    "        host=url.host,\n",
    "        password=url.password,\n",
    "        port=url.port,\n",
    "        user=url.username,\n",
    "        table_name=db_cfg.tables.sentence_window,\n",
    "        embed_dim=EMBEDDING_SIZE, # embedding model dimension\n",
    "        cache_ok=True,\n",
    "        hybrid_search=db_cfg.pgvector.hybrid_search, # retrieve nodes based on vector values and keywords\n",
    ")\n",
    "\n",
    "# Populate the new index with documents (nodes) and their embeddings.\n",
    "storage_context = StorageContext.from_defaults(vector_store=vector_store)\n",
    "sentence_index = VectorStoreIndex(\n",
    "    nodes=nodes,\n",
    "    storage_context=storage_context,\n",
    "    show_progress=True,\n",
    "    transformations=None,\n",
    ")"
   ],
   "metadata": {
    "collapsed": false,
    "ExecuteTime": {
     "end_time": "2024-08-26T16:29:06.727497Z",
     "start_time": "2024-08-26T16:10:09.681047Z"
    }
   },
   "id": "e099027279772442",
   "outputs": [
    {
     "data": {
      "text/plain": [
       "Generating embeddings:   0%|          | 0/2048 [00:00<?, ?it/s]"
      ],
      "application/vnd.jupyter.widget-view+json": {
       "version_major": 2,
       "version_minor": 0,
       "model_id": "cc9188e73b064355b9ce5a1f801469ca"
      }
     },
     "metadata": {},
     "output_type": "display_data"
    },
    {
     "data": {
      "text/plain": [
       "Generating embeddings:   0%|          | 0/2048 [00:00<?, ?it/s]"
      ],
      "application/vnd.jupyter.widget-view+json": {
       "version_major": 2,
       "version_minor": 0,
       "model_id": "a531afcb4dd346c8bbdb986766df7907"
      }
     },
     "metadata": {},
     "output_type": "display_data"
    },
    {
     "data": {
      "text/plain": [
       "Generating embeddings:   0%|          | 0/2048 [00:00<?, ?it/s]"
      ],
      "application/vnd.jupyter.widget-view+json": {
       "version_major": 2,
       "version_minor": 0,
       "model_id": "57700e016fb7444d92697b02e63c0dd7"
      }
     },
     "metadata": {},
     "output_type": "display_data"
    },
    {
     "data": {
      "text/plain": [
       "Generating embeddings:   0%|          | 0/2048 [00:00<?, ?it/s]"
      ],
      "application/vnd.jupyter.widget-view+json": {
       "version_major": 2,
       "version_minor": 0,
       "model_id": "0d97603115334b6c950cf62aedf6dda7"
      }
     },
     "metadata": {},
     "output_type": "display_data"
    },
    {
     "data": {
      "text/plain": [
       "Generating embeddings:   0%|          | 0/2048 [00:00<?, ?it/s]"
      ],
      "application/vnd.jupyter.widget-view+json": {
       "version_major": 2,
       "version_minor": 0,
       "model_id": "1f9d7599c32348ca86cfc5e651142bfa"
      }
     },
     "metadata": {},
     "output_type": "display_data"
    },
    {
     "data": {
      "text/plain": [
       "Generating embeddings:   0%|          | 0/2048 [00:00<?, ?it/s]"
      ],
      "application/vnd.jupyter.widget-view+json": {
       "version_major": 2,
       "version_minor": 0,
       "model_id": "988bf44e185d46728c39b4b397f0b5ea"
      }
     },
     "metadata": {},
     "output_type": "display_data"
    },
    {
     "data": {
      "text/plain": [
       "Generating embeddings:   0%|          | 0/2048 [00:00<?, ?it/s]"
      ],
      "application/vnd.jupyter.widget-view+json": {
       "version_major": 2,
       "version_minor": 0,
       "model_id": "354461be0ff54de884c1956337f7f0f0"
      }
     },
     "metadata": {},
     "output_type": "display_data"
    },
    {
     "data": {
      "text/plain": [
       "Generating embeddings:   0%|          | 0/2048 [00:00<?, ?it/s]"
      ],
      "application/vnd.jupyter.widget-view+json": {
       "version_major": 2,
       "version_minor": 0,
       "model_id": "81c9d350a97042538b9957b16e043e59"
      }
     },
     "metadata": {},
     "output_type": "display_data"
    },
    {
     "data": {
      "text/plain": [
       "Generating embeddings:   0%|          | 0/2048 [00:00<?, ?it/s]"
      ],
      "application/vnd.jupyter.widget-view+json": {
       "version_major": 2,
       "version_minor": 0,
       "model_id": "a61febc86c7b4415a373dee11c1ae77f"
      }
     },
     "metadata": {},
     "output_type": "display_data"
    },
    {
     "data": {
      "text/plain": [
       "Generating embeddings:   0%|          | 0/2048 [00:00<?, ?it/s]"
      ],
      "application/vnd.jupyter.widget-view+json": {
       "version_major": 2,
       "version_minor": 0,
       "model_id": "0a1ece2945e243d794f7342d2d7e82b7"
      }
     },
     "metadata": {},
     "output_type": "display_data"
    },
    {
     "data": {
      "text/plain": [
       "Generating embeddings:   0%|          | 0/2048 [00:00<?, ?it/s]"
      ],
      "application/vnd.jupyter.widget-view+json": {
       "version_major": 2,
       "version_minor": 0,
       "model_id": "ad3387b7fff942b893de2dd69dea9f6d"
      }
     },
     "metadata": {},
     "output_type": "display_data"
    },
    {
     "data": {
      "text/plain": [
       "Generating embeddings:   0%|          | 0/2048 [00:00<?, ?it/s]"
      ],
      "application/vnd.jupyter.widget-view+json": {
       "version_major": 2,
       "version_minor": 0,
       "model_id": "5c16380cd4b645c4a9d7668a51d840ce"
      }
     },
     "metadata": {},
     "output_type": "display_data"
    },
    {
     "data": {
      "text/plain": [
       "Generating embeddings:   0%|          | 0/2048 [00:00<?, ?it/s]"
      ],
      "application/vnd.jupyter.widget-view+json": {
       "version_major": 2,
       "version_minor": 0,
       "model_id": "9e02a88599464bccb630af0be37aff43"
      }
     },
     "metadata": {},
     "output_type": "display_data"
    },
    {
     "data": {
      "text/plain": [
       "Generating embeddings:   0%|          | 0/2048 [00:00<?, ?it/s]"
      ],
      "application/vnd.jupyter.widget-view+json": {
       "version_major": 2,
       "version_minor": 0,
       "model_id": "50eed9c50d9b41a6aa1bc82be016f0b0"
      }
     },
     "metadata": {},
     "output_type": "display_data"
    },
    {
     "data": {
      "text/plain": [
       "Generating embeddings:   0%|          | 0/2048 [00:00<?, ?it/s]"
      ],
      "application/vnd.jupyter.widget-view+json": {
       "version_major": 2,
       "version_minor": 0,
       "model_id": "55885525ef46422191d6b56c87e1180a"
      }
     },
     "metadata": {},
     "output_type": "display_data"
    },
    {
     "data": {
      "text/plain": [
       "Generating embeddings:   0%|          | 0/2048 [00:00<?, ?it/s]"
      ],
      "application/vnd.jupyter.widget-view+json": {
       "version_major": 2,
       "version_minor": 0,
       "model_id": "0323d9f41ad04ef6a01ecc14dff5b57f"
      }
     },
     "metadata": {},
     "output_type": "display_data"
    },
    {
     "data": {
      "text/plain": [
       "Generating embeddings:   0%|          | 0/2048 [00:00<?, ?it/s]"
      ],
      "application/vnd.jupyter.widget-view+json": {
       "version_major": 2,
       "version_minor": 0,
       "model_id": "103f656382864f9d95a58c173bfd9db1"
      }
     },
     "metadata": {},
     "output_type": "display_data"
    },
    {
     "data": {
      "text/plain": [
       "Generating embeddings:   0%|          | 0/2048 [00:00<?, ?it/s]"
      ],
      "application/vnd.jupyter.widget-view+json": {
       "version_major": 2,
       "version_minor": 0,
       "model_id": "5e48e0eb066a40b1b3e978da23c55367"
      }
     },
     "metadata": {},
     "output_type": "display_data"
    },
    {
     "data": {
      "text/plain": [
       "Generating embeddings:   0%|          | 0/2048 [00:00<?, ?it/s]"
      ],
      "application/vnd.jupyter.widget-view+json": {
       "version_major": 2,
       "version_minor": 0,
       "model_id": "10e08946a9d74a45bc6f228d553ba619"
      }
     },
     "metadata": {},
     "output_type": "display_data"
    },
    {
     "data": {
      "text/plain": [
       "Generating embeddings:   0%|          | 0/2048 [00:00<?, ?it/s]"
      ],
      "application/vnd.jupyter.widget-view+json": {
       "version_major": 2,
       "version_minor": 0,
       "model_id": "f90dbceb019e4d568b80c45aba94d1a5"
      }
     },
     "metadata": {},
     "output_type": "display_data"
    },
    {
     "data": {
      "text/plain": [
       "Generating embeddings:   0%|          | 0/2048 [00:00<?, ?it/s]"
      ],
      "application/vnd.jupyter.widget-view+json": {
       "version_major": 2,
       "version_minor": 0,
       "model_id": "fb5f2cdf9e4a401c983b896d2cbc25ee"
      }
     },
     "metadata": {},
     "output_type": "display_data"
    },
    {
     "data": {
      "text/plain": [
       "Generating embeddings:   0%|          | 0/2048 [00:00<?, ?it/s]"
      ],
      "application/vnd.jupyter.widget-view+json": {
       "version_major": 2,
       "version_minor": 0,
       "model_id": "7062f6ba6eae4a91b5c53c1ffd5d6603"
      }
     },
     "metadata": {},
     "output_type": "display_data"
    },
    {
     "data": {
      "text/plain": [
       "Generating embeddings:   0%|          | 0/2048 [00:00<?, ?it/s]"
      ],
      "application/vnd.jupyter.widget-view+json": {
       "version_major": 2,
       "version_minor": 0,
       "model_id": "ccedcb6b76524bbcac9ebef7d5e27193"
      }
     },
     "metadata": {},
     "output_type": "display_data"
    },
    {
     "data": {
      "text/plain": [
       "Generating embeddings:   0%|          | 0/2048 [00:00<?, ?it/s]"
      ],
      "application/vnd.jupyter.widget-view+json": {
       "version_major": 2,
       "version_minor": 0,
       "model_id": "ee722d2f64e44897a1ff1f3d2674f092"
      }
     },
     "metadata": {},
     "output_type": "display_data"
    },
    {
     "data": {
      "text/plain": [
       "Generating embeddings:   0%|          | 0/2048 [00:00<?, ?it/s]"
      ],
      "application/vnd.jupyter.widget-view+json": {
       "version_major": 2,
       "version_minor": 0,
       "model_id": "efd8cfa04df641a8867022227fbe2136"
      }
     },
     "metadata": {},
     "output_type": "display_data"
    },
    {
     "data": {
      "text/plain": [
       "Generating embeddings:   0%|          | 0/2048 [00:00<?, ?it/s]"
      ],
      "application/vnd.jupyter.widget-view+json": {
       "version_major": 2,
       "version_minor": 0,
       "model_id": "e628404acf0f4d1fb4650381ca486e3c"
      }
     },
     "metadata": {},
     "output_type": "display_data"
    },
    {
     "data": {
      "text/plain": [
       "Generating embeddings:   0%|          | 0/2048 [00:00<?, ?it/s]"
      ],
      "application/vnd.jupyter.widget-view+json": {
       "version_major": 2,
       "version_minor": 0,
       "model_id": "09a9f45bdfe94c86af8cc23c23250e68"
      }
     },
     "metadata": {},
     "output_type": "display_data"
    },
    {
     "data": {
      "text/plain": [
       "Generating embeddings:   0%|          | 0/2048 [00:00<?, ?it/s]"
      ],
      "application/vnd.jupyter.widget-view+json": {
       "version_major": 2,
       "version_minor": 0,
       "model_id": "f0126be528814d6680ee36a01af32f2a"
      }
     },
     "metadata": {},
     "output_type": "display_data"
    },
    {
     "data": {
      "text/plain": [
       "Generating embeddings:   0%|          | 0/2048 [00:00<?, ?it/s]"
      ],
      "application/vnd.jupyter.widget-view+json": {
       "version_major": 2,
       "version_minor": 0,
       "model_id": "2157a28b4ff84209a23b2dc38ba0c937"
      }
     },
     "metadata": {},
     "output_type": "display_data"
    },
    {
     "data": {
      "text/plain": [
       "Generating embeddings:   0%|          | 0/2048 [00:00<?, ?it/s]"
      ],
      "application/vnd.jupyter.widget-view+json": {
       "version_major": 2,
       "version_minor": 0,
       "model_id": "2afc834a08a54776b05c0570145dd2bd"
      }
     },
     "metadata": {},
     "output_type": "display_data"
    },
    {
     "data": {
      "text/plain": [
       "Generating embeddings:   0%|          | 0/2048 [00:00<?, ?it/s]"
      ],
      "application/vnd.jupyter.widget-view+json": {
       "version_major": 2,
       "version_minor": 0,
       "model_id": "83a80785d5554e6b8510717d5f903dd4"
      }
     },
     "metadata": {},
     "output_type": "display_data"
    },
    {
     "data": {
      "text/plain": [
       "Generating embeddings:   0%|          | 0/2048 [00:00<?, ?it/s]"
      ],
      "application/vnd.jupyter.widget-view+json": {
       "version_major": 2,
       "version_minor": 0,
       "model_id": "3563744870d0409689ad8e6818bc6fed"
      }
     },
     "metadata": {},
     "output_type": "display_data"
    },
    {
     "data": {
      "text/plain": [
       "Generating embeddings:   0%|          | 0/2048 [00:00<?, ?it/s]"
      ],
      "application/vnd.jupyter.widget-view+json": {
       "version_major": 2,
       "version_minor": 0,
       "model_id": "c7236160c6ea426ba2311bac99872f5b"
      }
     },
     "metadata": {},
     "output_type": "display_data"
    },
    {
     "data": {
      "text/plain": [
       "Generating embeddings:   0%|          | 0/2048 [00:00<?, ?it/s]"
      ],
      "application/vnd.jupyter.widget-view+json": {
       "version_major": 2,
       "version_minor": 0,
       "model_id": "86a641588f724d41bcf11372d4f6803d"
      }
     },
     "metadata": {},
     "output_type": "display_data"
    },
    {
     "data": {
      "text/plain": [
       "Generating embeddings:   0%|          | 0/2048 [00:00<?, ?it/s]"
      ],
      "application/vnd.jupyter.widget-view+json": {
       "version_major": 2,
       "version_minor": 0,
       "model_id": "7d46e25467884df5a8c95294d2ff4ff9"
      }
     },
     "metadata": {},
     "output_type": "display_data"
    },
    {
     "data": {
      "text/plain": [
       "Generating embeddings:   0%|          | 0/1725 [00:00<?, ?it/s]"
      ],
      "application/vnd.jupyter.widget-view+json": {
       "version_major": 2,
       "version_minor": 0,
       "model_id": "635059b153164d04959e08d3f405585e"
      }
     },
     "metadata": {},
     "output_type": "display_data"
    },
    {
     "name": "stdout",
     "output_type": "stream",
     "text": [
      "CPU times: user 1min 56s, sys: 18.5 s, total: 2min 15s\n",
      "Wall time: 18min 57s\n"
     ]
    }
   ],
   "execution_count": 6
  },
  {
   "cell_type": "code",
   "source": [
    "# Initialize a post processor on nodes retrieved by the index\n",
    "post_processor = MetadataReplacementPostProcessor(\n",
    "    target_metadata_key=sentence_window.win_mdata_key,\n",
    ")\n",
    "\n",
    "# Initialize the re-ranker to post-process nodes retrieved by the index\n",
    "rerank_cfg = config.ml_models.re_ranker\n",
    "re_ranker = NVIDIARerank(\n",
    "        model=rerank_cfg.model,\n",
    "        base_url=rerank_cfg.api_base,\n",
    "        api_key=\"NONE\",\n",
    "        top_n=rerank_cfg.rerank_top_n,\n",
    "        truncate=\"END\",\n",
    ")\n",
    "\n",
    "# Initialize the index. This type retrieved nodes will be post-processed \n",
    "# by the post-processor and re-ranking tasks.\n",
    "h_search = ast.literal_eval(db_cfg.pgvector.pgvector_kwargs)\n",
    "sentence_window_engine = sentence_index.as_query_engine(\n",
    "    similarity_top_k=db_cfg.pgvector.sim_top_k,\n",
    "    node_postprocessors=[\n",
    "        post_processor,\n",
    "        re_ranker\n",
    "    ],\n",
    "    vector_store_kwargs=h_search,\n",
    "    response_mode=config.llama_index.sentence_window.response_mode,\n",
    "\n",
    ")"
   ],
   "metadata": {
    "collapsed": false,
    "ExecuteTime": {
     "end_time": "2024-08-26T16:29:06.732714Z",
     "start_time": "2024-08-26T16:29:06.728642Z"
    }
   },
   "id": "21d60d07aed00265",
   "outputs": [],
   "execution_count": 7
  },
  {
   "cell_type": "code",
   "source": [
    "%%time\n",
    "# Run a simple test to ensure all is working\n",
    "print(\">> Quick test on the RAG system.\\n\")\n",
    "question = (\"As a research assistant, \"\n",
    "            \"list the top 10 Hubble telescope discoveries about exoplanets. \"\n",
    "            \"Highlight important text using markdown formatting.\")\n",
    "print(f\" > Query: {question}\")\n",
    "response = sentence_window_engine.query(question)\n",
    "display(Markdown(response.response))"
   ],
   "metadata": {
    "collapsed": false,
    "ExecuteTime": {
     "end_time": "2024-08-26T16:29:10.863231Z",
     "start_time": "2024-08-26T16:29:06.733980Z"
    }
   },
   "id": "3f2bdfee1583b51f",
   "outputs": [
    {
     "name": "stdout",
     "output_type": "stream",
     "text": [
      ">> Quick test on the RAG system.\n",
      "\n",
      " > Query: As a research assistant, list the top 10 Hubble telescope discoveries about exoplanets. Highlight important text using markdown formatting.\n"
     ]
    },
    {
     "data": {
      "text/plain": [
       "<IPython.core.display.Markdown object>"
      ],
      "text/markdown": "1. **Water vapor on exoplanets**: Hubble has studied exoplanets' atmospheres and found several that contain water vapor, an essential ingredient for life as we know it.\n2. **Habitable exoplanets**: Hubble has discovered exoplanets that orbit within their star's habitable zone, where temperatures are mild enough that liquid water could pool on planetary surfaces.\n3. **Exoplanet growth**: Hubble has observed the growth of giant planets, including the young system PDS 70, where a giant world is building up mass at a slow rate.\n4. **Exoplanet atmospheres**: Hubble has directly imaged the atmospheres of exoplanets, including the giant world PDS 70b, which was observed in ultraviolet light.\n5. **Exoplanet moons**: Hubble may have even extended Galileo's discoveries of moons around Jupiter by potentially finding a moon orbiting a planet located 8,000 light-years from Earth.\n6. **Exoplanet weather**: Hubble has observed the weather on exoplanets, including a world that snows sunscreen and another with yellow skies.\n7. **Exoplanet sizes**: Hubble has discovered exoplanets of various sizes, including a sub-Neptune that is believed to have lost its primordial hydrogen and helium atmosphere due to the intense radiation of its hot, young star.\n8. **Exoplanet orbits**: Hubble has studied the orbits of exoplanets, including a planet with two Suns and another with a star that is 3,000 times brighter than the planet in ultraviolet light.\n9. **Exoplanet formation**: Hubble has provided insight into the formation of exoplanets, including the discovery of a planet that is still growing and another that may be nearing the end of its formation process.\n10. **Exoplanet diversity**: Hubble has revealed the diversity of exoplanets, including worlds with thick atmospheres, rocky surfaces, and even those that may be capable of supporting life.\n\nNote: The above answer is based on the provided text and may not be an exhaustive list of all Hubble telescope discoveries about exoplanets."
     },
     "metadata": {},
     "output_type": "display_data"
    },
    {
     "name": "stdout",
     "output_type": "stream",
     "text": [
      "CPU times: user 69.2 ms, sys: 8.26 ms, total: 77.5 ms\n",
      "Wall time: 4.11 s\n"
     ]
    }
   ],
   "execution_count": 8
  },
  {
   "cell_type": "code",
   "source": [
    "%%time\n",
    "\n",
    "# Load a test set to run inference on multiple Q/A pairs\n",
    "test_set_cfg = config.data_files.test_sets\n",
    "active_set = eval(f\"test_set_cfg.{test_set_cfg.active_set}.current\")\n",
    "test_set_dir = test_set_cfg.base_path + active_set\n",
    "test_set = os.listdir(test_set_dir)[0]\n",
    "test_set = test_set_dir + test_set\n",
    "\n",
    "test_set_df = pd.read_csv(\n",
    "    filepath_or_buffer=test_set,\n",
    "    usecols=['query', 'reference_answer'],\n",
    "    nrows=test_set_cfg.sample_size\n",
    ")\n",
    "\n",
    "# Run inference on the Q/A pairs and keep the responses\n",
    "# for future comparison vs.other RAG approaches.\n",
    "responses = generate_responses_dict(\n",
    "    query_engine=sentence_window_engine,\n",
    "    test_set_df=test_set_df.head(test_set_cfg.sample_size)\n",
    ")"
   ],
   "metadata": {
    "collapsed": false,
    "ExecuteTime": {
     "end_time": "2024-08-26T16:32:41.706177Z",
     "start_time": "2024-08-26T16:29:10.864731Z"
    }
   },
   "id": "3b59a0ed57a3e79e",
   "outputs": [
    {
     "data": {
      "text/plain": [
       "  0%|          | 0/40 [00:00<?, ?it/s]"
      ],
      "application/vnd.jupyter.widget-view+json": {
       "version_major": 2,
       "version_minor": 0,
       "model_id": "119b1c88632f43a395338f4230db0075"
      }
     },
     "metadata": {},
     "output_type": "display_data"
    },
    {
     "name": "stdout",
     "output_type": "stream",
     "text": [
      "CPU times: user 959 ms, sys: 181 ms, total: 1.14 s\n",
      "Wall time: 3min 30s\n"
     ]
    }
   ],
   "execution_count": 9
  },
  {
   "cell_type": "code",
   "source": [
    "# Convert the responses into a Pandas data frame and serialize it.\n",
    "responses_df = pd.DataFrame.from_dict(responses)\n",
    "save_results(\n",
    "        responses_df,\n",
    "        \"Sentence_Window_RAG\",\n",
    "        llm_cfg.model,\n",
    "        emb_cfg.model,\n",
    "        rerank_cfg.model\n",
    ")\n",
    "\n",
    "stop = time.time()\n",
    "print(f\"Notebook execution time: {(stop-start)/60:.1f} minutes\")"
   ],
   "metadata": {
    "collapsed": false,
    "ExecuteTime": {
     "end_time": "2024-08-26T16:32:41.726110Z",
     "start_time": "2024-08-26T16:32:41.707608Z"
    }
   },
   "id": "5874fc41d4e1c6b3",
   "outputs": [
    {
     "name": "stdout",
     "output_type": "stream",
     "text": [
      "Sentence_Window_RAG pipeline responses successfully saved to file: responses/current/Sentence_Window_RAG__llama3-8b-instruct__nv-embedqa-e5-v5__nv-rerankqa-mistral-4b-v3.csv.\n",
      "Notebook execution time: 23.7 minutes\n"
     ]
    }
   ],
   "execution_count": 10
  },
  {
   "metadata": {
    "ExecuteTime": {
     "end_time": "2024-08-26T16:32:41.730871Z",
     "start_time": "2024-08-26T16:32:41.727888Z"
    }
   },
   "cell_type": "code",
   "source": [
    "def dump_col(df, col):\n",
    "    for i,elem in enumerate(df[col].to_list()):\n",
    "        print(f\" >>>> ITEM {i}\")\n",
    "        print(elem,\"\\n\")"
   ],
   "id": "7247e61a148b0700",
   "outputs": [],
   "execution_count": 11
  },
  {
   "metadata": {
    "ExecuteTime": {
     "end_time": "2024-08-26T16:39:28.240007Z",
     "start_time": "2024-08-26T16:39:28.227919Z"
    }
   },
   "cell_type": "code",
   "source": [
    "df = responses_df.head(10)\n",
    "display(df)"
   ],
   "id": "72c7ccd4cb8e18c5",
   "outputs": [
    {
     "data": {
      "text/plain": [
       "                                               query  \\\n",
       "0  What was the USSR's primary launch vehicle and...   \n",
       "1  What is the function of the main longitudinal ...   \n",
       "2  What limited but reliable technology, develope...   \n",
       "3  Compare the management styles and priorities o...   \n",
       "4  Analyze the role of end credits in documenting...   \n",
       "5  Compare the objectives and outcomes of Zond 7 ...   \n",
       "6  Which American military aircraft, including th...   \n",
       "7  How do astronomers utilize a Super-Jupiter's c...   \n",
       "8  Compare the technological goals of the X-34 pr...   \n",
       "9  Compare Pratt & Whitney Aircraft's contributio...   \n",
       "\n",
       "                                              answer  \\\n",
       "0  The USSR's primary launch vehicle for lunar an...   \n",
       "1  The main longitudinal and continuous strength ...   \n",
       "2  The Russian Soyuz capsule.  It was a limited v...   \n",
       "3  Daniel Goldin and Administrator Richard Truly ...   \n",
       "4  The role of end credits in documenting film pr...   \n",
       "5  Zond 7 was the first fully successful Soviet c...   \n",
       "6  The research conducted to solve the inlet-engi...   \n",
       "7  Astronomers used Hubble to observe the planet,...   \n",
       "8  The X-34 program aimed to develop a reusable l...   \n",
       "9  Pratt & Whitney and General Electric Aircraft ...   \n",
       "\n",
       "                                            contexts  \\\n",
       "0  [19 1960 The 4-stage 8K78 launch vehicle (and ...   \n",
       "1  [The Wind and Beyond, Volume III 264 Keel.  Th...   \n",
       "2  [Chapter 10:  Toward a Permanent Human Presenc...   \n",
       "3  [Although not known widely, in the  “black” sp...   \n",
       "4  [50 YEARS OF SOLAR SYSTEM EXPLORATION: HISTORI...   \n",
       "5  [The spacecraft  was the last 7K-L1 vehicle ma...   \n",
       "6  [The strategic bomber variant, the FB-111A, fl...   \n",
       "7  [        Using a Super-Jupiter’s Cloudy Skies ...   \n",
       "8  [Promise Denied 130 The X-34 A-1 with its Lock...   \n",
       "9  [It resulted  from considerable pioneering res...   \n",
       "\n",
       "                                        ground_truth  \n",
       "0  The USSR's primary launch vehicle for lunar an...  \n",
       "1  The main longitudinal strength member, known a...  \n",
       "2                         The Russian Soyuz capsule.  \n",
       "3  Daniel Goldin favored horizontal management st...  \n",
       "4  End credits document film production contribut...  \n",
       "5  Zond 7, 5, and 6 all had circumlunar objective...  \n",
       "6  The Grumman F-14 Tomcat, McDonnell Douglas F-1...  \n",
       "7  Astronomers use a Super-Jupiter's cloudy skies...  \n",
       "8  The X-34 program aimed to demonstrate low-cost...  \n",
       "9  Pratt & Whitney Aircraft contributed to aircra...  "
      ],
      "text/html": [
       "<div>\n",
       "<style scoped>\n",
       "    .dataframe tbody tr th:only-of-type {\n",
       "        vertical-align: middle;\n",
       "    }\n",
       "\n",
       "    .dataframe tbody tr th {\n",
       "        vertical-align: top;\n",
       "    }\n",
       "\n",
       "    .dataframe thead th {\n",
       "        text-align: right;\n",
       "    }\n",
       "</style>\n",
       "<table border=\"1\" class=\"dataframe\">\n",
       "  <thead>\n",
       "    <tr style=\"text-align: right;\">\n",
       "      <th></th>\n",
       "      <th>query</th>\n",
       "      <th>answer</th>\n",
       "      <th>contexts</th>\n",
       "      <th>ground_truth</th>\n",
       "    </tr>\n",
       "  </thead>\n",
       "  <tbody>\n",
       "    <tr>\n",
       "      <th>0</th>\n",
       "      <td>What was the USSR's primary launch vehicle and...</td>\n",
       "      <td>The USSR's primary launch vehicle for lunar an...</td>\n",
       "      <td>[19 1960 The 4-stage 8K78 launch vehicle (and ...</td>\n",
       "      <td>The USSR's primary launch vehicle for lunar an...</td>\n",
       "    </tr>\n",
       "    <tr>\n",
       "      <th>1</th>\n",
       "      <td>What is the function of the main longitudinal ...</td>\n",
       "      <td>The main longitudinal and continuous strength ...</td>\n",
       "      <td>[The Wind and Beyond, Volume III 264 Keel.  Th...</td>\n",
       "      <td>The main longitudinal strength member, known a...</td>\n",
       "    </tr>\n",
       "    <tr>\n",
       "      <th>2</th>\n",
       "      <td>What limited but reliable technology, develope...</td>\n",
       "      <td>The Russian Soyuz capsule.  It was a limited v...</td>\n",
       "      <td>[Chapter 10:  Toward a Permanent Human Presenc...</td>\n",
       "      <td>The Russian Soyuz capsule.</td>\n",
       "    </tr>\n",
       "    <tr>\n",
       "      <th>3</th>\n",
       "      <td>Compare the management styles and priorities o...</td>\n",
       "      <td>Daniel Goldin and Administrator Richard Truly ...</td>\n",
       "      <td>[Although not known widely, in the  “black” sp...</td>\n",
       "      <td>Daniel Goldin favored horizontal management st...</td>\n",
       "    </tr>\n",
       "    <tr>\n",
       "      <th>4</th>\n",
       "      <td>Analyze the role of end credits in documenting...</td>\n",
       "      <td>The role of end credits in documenting film pr...</td>\n",
       "      <td>[50 YEARS OF SOLAR SYSTEM EXPLORATION: HISTORI...</td>\n",
       "      <td>End credits document film production contribut...</td>\n",
       "    </tr>\n",
       "    <tr>\n",
       "      <th>5</th>\n",
       "      <td>Compare the objectives and outcomes of Zond 7 ...</td>\n",
       "      <td>Zond 7 was the first fully successful Soviet c...</td>\n",
       "      <td>[The spacecraft  was the last 7K-L1 vehicle ma...</td>\n",
       "      <td>Zond 7, 5, and 6 all had circumlunar objective...</td>\n",
       "    </tr>\n",
       "    <tr>\n",
       "      <th>6</th>\n",
       "      <td>Which American military aircraft, including th...</td>\n",
       "      <td>The research conducted to solve the inlet-engi...</td>\n",
       "      <td>[The strategic bomber variant, the FB-111A, fl...</td>\n",
       "      <td>The Grumman F-14 Tomcat, McDonnell Douglas F-1...</td>\n",
       "    </tr>\n",
       "    <tr>\n",
       "      <th>7</th>\n",
       "      <td>How do astronomers utilize a Super-Jupiter's c...</td>\n",
       "      <td>Astronomers used Hubble to observe the planet,...</td>\n",
       "      <td>[        Using a Super-Jupiter’s Cloudy Skies ...</td>\n",
       "      <td>Astronomers use a Super-Jupiter's cloudy skies...</td>\n",
       "    </tr>\n",
       "    <tr>\n",
       "      <th>8</th>\n",
       "      <td>Compare the technological goals of the X-34 pr...</td>\n",
       "      <td>The X-34 program aimed to develop a reusable l...</td>\n",
       "      <td>[Promise Denied 130 The X-34 A-1 with its Lock...</td>\n",
       "      <td>The X-34 program aimed to demonstrate low-cost...</td>\n",
       "    </tr>\n",
       "    <tr>\n",
       "      <th>9</th>\n",
       "      <td>Compare Pratt &amp; Whitney Aircraft's contributio...</td>\n",
       "      <td>Pratt &amp; Whitney and General Electric Aircraft ...</td>\n",
       "      <td>[It resulted  from considerable pioneering res...</td>\n",
       "      <td>Pratt &amp; Whitney Aircraft contributed to aircra...</td>\n",
       "    </tr>\n",
       "  </tbody>\n",
       "</table>\n",
       "</div>"
      ]
     },
     "metadata": {},
     "output_type": "display_data"
    }
   ],
   "execution_count": 13
  },
  {
   "metadata": {
    "ExecuteTime": {
     "end_time": "2024-08-26T16:32:41.763093Z",
     "start_time": "2024-08-26T16:32:41.761310Z"
    }
   },
   "cell_type": "code",
   "source": "\n",
   "id": "5cfdbcec85bff5ad",
   "outputs": [],
   "execution_count": 12
  }
 ],
 "metadata": {
  "kernelspec": {
   "display_name": "Python 3 (ipykernel)",
   "language": "python",
   "name": "python3"
  },
  "language_info": {
   "codemirror_mode": {
    "name": "ipython",
    "version": 3
   },
   "file_extension": ".py",
   "mimetype": "text/x-python",
   "name": "python",
   "nbconvert_exporter": "python",
   "pygments_lexer": "ipython3",
   "version": "3.10.9"
  }
 },
 "nbformat": 4,
 "nbformat_minor": 5
}
