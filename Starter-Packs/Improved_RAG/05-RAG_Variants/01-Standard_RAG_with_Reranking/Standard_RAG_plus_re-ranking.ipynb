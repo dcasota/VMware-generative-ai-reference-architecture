{
 "cells": [
  {
   "cell_type": "markdown",
   "source": [
    "# Simple RAG (+ Re-ranker) from a PGVector Store"
   ],
   "metadata": {},
   "id": "21f9146a-c6f3-4a78-b3fb-0d262492e87c"
  },
  {
   "cell_type": "code",
   "source": [
    "import time\n",
    "# Start timer to time the notebook execution\n",
    "start = time.time()\n",
    "\n",
    "import pandas as pd\n",
    "import os\n",
    "import ast\n",
    "import yaml\n",
    "from dotmap import DotMap\n",
    "from sqlalchemy import make_url\n",
    "import ipywidgets as widgets\n",
    "widgets.IntSlider()\n",
    "\n",
    "from llama_index.core import Settings\n",
    "from llama_index.llms.openai_like import OpenAILike\n",
    "from llama_index.core import VectorStoreIndex\n",
    "from llama_index.vector_stores.postgres import PGVectorStore\n",
    "from llama_index.embeddings.nvidia import NVIDIAEmbedding\n",
    "from llama_index.postprocessor.nvidia_rerank import NVIDIARerank\n",
    "\n",
    "\n",
    "import sys\n",
    "utils_path = \"../../08-Utils\"\n",
    "if utils_path not in sys.path:\n",
    "    sys.path.append(utils_path)\n",
    "\n",
    "from helpers import generate_responses_dict, save_results"
   ],
   "metadata": {
    "collapsed": false,
    "ExecuteTime": {
     "end_time": "2024-08-26T16:00:44.073309Z",
     "start_time": "2024-08-26T16:00:33.434191Z"
    }
   },
   "id": "cb14fd5b562cb2ad",
   "outputs": [
    {
     "name": "stderr",
     "output_type": "stream",
     "text": [
      "None of PyTorch, TensorFlow >= 2.0, or Flax have been found. Models won't be available and only tokenizers, configuration and file/data utilities can be used.\n"
     ]
    }
   ],
   "execution_count": 1
  },
  {
   "metadata": {
    "ExecuteTime": {
     "end_time": "2024-08-26T16:00:44.089363Z",
     "start_time": "2024-08-26T16:00:44.075707Z"
    }
   },
   "cell_type": "code",
   "source": [
    "# Open the Starter Pack global configuration file\n",
    "with open('../../07-Starter_Pack_config/improved_rag_config.yaml', 'r') as file:\n",
    "    config = yaml.safe_load(file)\n",
    "config = DotMap(config)"
   ],
   "id": "680a7dd7c25401be",
   "outputs": [],
   "execution_count": 2
  },
  {
   "cell_type": "code",
   "source": [
    "# LLamaIndex LLM provider\n",
    "llm_cfg = config.ml_models.llm_generator\n",
    "Settings.llm = OpenAILike(\n",
    "        model=llm_cfg.model,\n",
    "        api_key=llm_cfg.api_key,\n",
    "        api_base=llm_cfg.api_base,\n",
    "        temperature=llm_cfg.temperature,\n",
    "        max_tokens=llm_cfg.max_tokens,\n",
    "        repetition_penalty=llm_cfg.repetition_penalty,\n",
    ")\n",
    "\n",
    "# LLamaIndex embedding model\n",
    "emb_cfg = config.ml_models.embedder\n",
    "retriever_cfg = config.ml_models.retriever\n",
    "Settings.embed_model = NVIDIAEmbedding(\n",
    "        base_url=emb_cfg.api_base,\n",
    "        model=emb_cfg.model,\n",
    "        embed_batch_size=emb_cfg.batch_size,\n",
    "        truncate=\"END\",\n",
    ")\n",
    "EMBEDDING_SIZE = len(Settings.embed_model.get_text_embedding(\"hi\"))"
   ],
   "metadata": {
    "collapsed": false,
    "ExecuteTime": {
     "end_time": "2024-08-26T16:00:45.096523Z",
     "start_time": "2024-08-26T16:00:44.091674Z"
    }
   },
   "id": "94fdd639d7ed037a",
   "outputs": [],
   "execution_count": 3
  },
  {
   "cell_type": "code",
   "source": [
    "%%time\n",
    "\n",
    "# PGVector DB params as defines in the reference Docker compose file\n",
    "## available from the \"../PGvector\" directory\n",
    "db_cfg = config.postgresql\n",
    "connection_string = (f\"postgresql://{db_cfg.user}:\"\n",
    "                     f\"{db_cfg.password}@{db_cfg.db_host}:{db_cfg.port}/{db_cfg.default_db}\")\n",
    "url = make_url(connection_string)\n",
    "\n",
    "# Open the connection to the Vector Store\n",
    "vector_store = PGVectorStore.from_params(\n",
    "    database=url.database,\n",
    "    host=url.host,\n",
    "    password=url.password,\n",
    "    port=url.port,\n",
    "    user=url.username,\n",
    "    table_name=db_cfg.tables.std_rag,\n",
    "    embed_dim=EMBEDDING_SIZE, # embedding model dimension\n",
    "    cache_ok=True,\n",
    "    hybrid_search=True,\n",
    ")\n",
    "\n",
    "# Initialize the index object\n",
    "index = VectorStoreIndex.from_vector_store(vector_store)\n",
    "\n",
    "# Initialize the re-ranker of retrieved chunks\n",
    "'''\n",
    "re_ranker = SentenceTransformerRerank(\n",
    "    top_n=config.ml_models.re_ranker.rerank_top_n,\n",
    "    model=config.ml_models.re_ranker.model,\n",
    "    device=config.ml_models.re_ranker.device,\n",
    ")\n",
    "'''\n",
    "\n",
    "rerank_cfg = config.ml_models.re_ranker\n",
    "re_ranker = NVIDIARerank(\n",
    "        model=rerank_cfg.model,\n",
    "        base_url=rerank_cfg.api_base,\n",
    "        api_key=\"NONE\",\n",
    "        top_n=rerank_cfg.rerank_top_n,\n",
    "        truncate=\"END\",\n",
    ")\n",
    "\n",
    "# Set the index as query engine\n",
    "h_search = ast.literal_eval(db_cfg.pgvector.pgvector_kwargs)\n",
    "query_engine = index.as_query_engine(\n",
    "    similarity_top_k=db_cfg.pgvector.sim_top_k,\n",
    "    node_postprocessors=[re_ranker],\n",
    "    vector_store_kwargs=h_search,\n",
    "    response_mode=config.llama_index.std_rag.response_mode\n",
    ")"
   ],
   "metadata": {
    "collapsed": false,
    "ExecuteTime": {
     "end_time": "2024-08-26T16:00:45.557073Z",
     "start_time": "2024-08-26T16:00:45.098006Z"
    }
   },
   "id": "e099027279772442",
   "outputs": [
    {
     "name": "stdout",
     "output_type": "stream",
     "text": [
      "CPU times: user 371 ms, sys: 42.6 ms, total: 413 ms\n",
      "Wall time: 454 ms\n"
     ]
    }
   ],
   "execution_count": 4
  },
  {
   "cell_type": "code",
   "source": [
    "%%time\n",
    "\n",
    "# Load a test set to run inference on multiple Q/A pairs\n",
    "test_set_cfg = config.data_files.test_sets\n",
    "active_set = eval(f\"test_set_cfg.{test_set_cfg.active_set}.current\")\n",
    "test_set_dir = test_set_cfg.base_path + active_set\n",
    "test_set = os.listdir(test_set_dir)[0]\n",
    "test_set = test_set_dir + test_set\n",
    "\n",
    "test_set_df = pd.read_csv(\n",
    "        filepath_or_buffer=test_set,\n",
    "        usecols=['query', 'reference_answer'],\n",
    "        nrows=test_set_cfg.sample_size\n",
    ")\n",
    "\n",
    "# Run inference on the Q/A pairs and keep the responses\n",
    "# for future comparison vs.other RAG approaches.\n",
    "responses = generate_responses_dict(\n",
    "    query_engine=query_engine,\n",
    "    test_set_df=test_set_df\n",
    ")"
   ],
   "metadata": {
    "collapsed": false,
    "ExecuteTime": {
     "end_time": "2024-08-26T16:03:46.511278Z",
     "start_time": "2024-08-26T16:00:45.560328Z"
    }
   },
   "id": "ee93a30b32392fdf",
   "outputs": [
    {
     "data": {
      "text/plain": [
       "  0%|          | 0/40 [00:00<?, ?it/s]"
      ],
      "application/vnd.jupyter.widget-view+json": {
       "version_major": 2,
       "version_minor": 0,
       "model_id": "b633b52098a64d6a9180b8e63596d209"
      }
     },
     "metadata": {},
     "output_type": "display_data"
    },
    {
     "name": "stdout",
     "output_type": "stream",
     "text": [
      "CPU times: user 928 ms, sys: 210 ms, total: 1.14 s\n",
      "Wall time: 3min\n"
     ]
    }
   ],
   "execution_count": 5
  },
  {
   "cell_type": "code",
   "source": [
    "# Convert the responses into a Pandas data frame and serialize it\n",
    "responses_df = pd.DataFrame.from_dict(responses)\n",
    "save_results(\n",
    "        responses_df,\n",
    "        \"Standard RAG\",\n",
    "        llm_cfg.model,\n",
    "        emb_cfg.model,\n",
    "        rerank_cfg.model\n",
    ")\n",
    "\n",
    "stop = time.time()\n",
    "print(f\"Notebook execution time: {(stop-start)/60:.1f} minutes\")"
   ],
   "metadata": {
    "collapsed": false,
    "ExecuteTime": {
     "end_time": "2024-08-26T16:07:18.347909Z",
     "start_time": "2024-08-26T16:07:18.326368Z"
    }
   },
   "id": "830ec3cba9fb599a",
   "outputs": [
    {
     "name": "stdout",
     "output_type": "stream",
     "text": [
      "Standard RAG pipeline responses successfully saved to file: responses/current/Standard RAG__llama3-8b-instruct__nv-embedqa-e5-v5__nv-rerankqa-mistral-4b-v3.csv.\n",
      "Notebook execution time: 6.7 minutes\n"
     ]
    }
   ],
   "execution_count": 8
  },
  {
   "metadata": {
    "ExecuteTime": {
     "end_time": "2024-08-26T16:07:43.098016Z",
     "start_time": "2024-08-26T16:07:43.088008Z"
    }
   },
   "cell_type": "code",
   "source": [
    "df = responses_df.head(10)\n",
    "display(df)"
   ],
   "id": "56e7b394cac2dc0f",
   "outputs": [
    {
     "data": {
      "text/plain": [
       "                                               query  \\\n",
       "0  What was the USSR's primary launch vehicle and...   \n",
       "1  What is the function of the main longitudinal ...   \n",
       "2  What limited but reliable technology, develope...   \n",
       "3  Compare the management styles and priorities o...   \n",
       "4  Analyze the role of end credits in documenting...   \n",
       "5  Compare the objectives and outcomes of Zond 7 ...   \n",
       "6  Which American military aircraft, including th...   \n",
       "7  How do astronomers utilize a Super-Jupiter's c...   \n",
       "8  Compare the technological goals of the X-34 pr...   \n",
       "9  Compare Pratt & Whitney Aircraft's contributio...   \n",
       "\n",
       "                                              answer  \\\n",
       "0  The USSR's primary launch vehicle for lunar an...   \n",
       "1  The main longitudinal strength member in a sea...   \n",
       "2  The Russian Soyuz capsule.  It was mentioned i...   \n",
       "3  Daniel Goldin and Richard Truly had different ...   \n",
       "4  The role of end credits in documenting film pr...   \n",
       "5  Zond 7 was the first fully successful Soviet c...   \n",
       "6  The F-111 experience was an extremely cautiona...   \n",
       "7  Astronomers used the Hubble Space Telescope to...   \n",
       "8  The X-34 program was designed to focus on low-...   \n",
       "9  Pratt & Whitney Aircraft and General Electric ...   \n",
       "\n",
       "                                            contexts  \\\n",
       "0  [19 1960 The 4-stage 8K78 launch vehicle (and ...   \n",
       "1  [263 Document 5-20 (a–c) At the time his text ...   \n",
       "2  [Chapter 10:  Toward a Permanent Human Presenc...   \n",
       "3  [There he  rose through the ranks and was Vice...   \n",
       "4  [vi Acknowledgments Any author is in debt to m...   \n",
       "5  [91 1969  had probably crashed onto the side o...   \n",
       "6  [Overall, the F-111 experience was an extremel...   \n",
       "7  [Using a Super-Jupiter’s Cloudy Skies to Measu...   \n",
       "8  [Index 377 DC-X Program, 39 accomplishments, 4...   \n",
       "9  [The Power for Flight 112 Pratt & Whitney focu...   \n",
       "\n",
       "                                        ground_truth  \n",
       "0  The USSR's primary launch vehicle for lunar an...  \n",
       "1  The main longitudinal strength member, known a...  \n",
       "2                         The Russian Soyuz capsule.  \n",
       "3  Daniel Goldin favored horizontal management st...  \n",
       "4  End credits document film production contribut...  \n",
       "5  Zond 7, 5, and 6 all had circumlunar objective...  \n",
       "6  The Grumman F-14 Tomcat, McDonnell Douglas F-1...  \n",
       "7  Astronomers use a Super-Jupiter's cloudy skies...  \n",
       "8  The X-34 program aimed to demonstrate low-cost...  \n",
       "9  Pratt & Whitney Aircraft contributed to aircra...  "
      ],
      "text/html": [
       "<div>\n",
       "<style scoped>\n",
       "    .dataframe tbody tr th:only-of-type {\n",
       "        vertical-align: middle;\n",
       "    }\n",
       "\n",
       "    .dataframe tbody tr th {\n",
       "        vertical-align: top;\n",
       "    }\n",
       "\n",
       "    .dataframe thead th {\n",
       "        text-align: right;\n",
       "    }\n",
       "</style>\n",
       "<table border=\"1\" class=\"dataframe\">\n",
       "  <thead>\n",
       "    <tr style=\"text-align: right;\">\n",
       "      <th></th>\n",
       "      <th>query</th>\n",
       "      <th>answer</th>\n",
       "      <th>contexts</th>\n",
       "      <th>ground_truth</th>\n",
       "    </tr>\n",
       "  </thead>\n",
       "  <tbody>\n",
       "    <tr>\n",
       "      <th>0</th>\n",
       "      <td>What was the USSR's primary launch vehicle and...</td>\n",
       "      <td>The USSR's primary launch vehicle for lunar an...</td>\n",
       "      <td>[19 1960 The 4-stage 8K78 launch vehicle (and ...</td>\n",
       "      <td>The USSR's primary launch vehicle for lunar an...</td>\n",
       "    </tr>\n",
       "    <tr>\n",
       "      <th>1</th>\n",
       "      <td>What is the function of the main longitudinal ...</td>\n",
       "      <td>The main longitudinal strength member in a sea...</td>\n",
       "      <td>[263 Document 5-20 (a–c) At the time his text ...</td>\n",
       "      <td>The main longitudinal strength member, known a...</td>\n",
       "    </tr>\n",
       "    <tr>\n",
       "      <th>2</th>\n",
       "      <td>What limited but reliable technology, develope...</td>\n",
       "      <td>The Russian Soyuz capsule.  It was mentioned i...</td>\n",
       "      <td>[Chapter 10:  Toward a Permanent Human Presenc...</td>\n",
       "      <td>The Russian Soyuz capsule.</td>\n",
       "    </tr>\n",
       "    <tr>\n",
       "      <th>3</th>\n",
       "      <td>Compare the management styles and priorities o...</td>\n",
       "      <td>Daniel Goldin and Richard Truly had different ...</td>\n",
       "      <td>[There he  rose through the ranks and was Vice...</td>\n",
       "      <td>Daniel Goldin favored horizontal management st...</td>\n",
       "    </tr>\n",
       "    <tr>\n",
       "      <th>4</th>\n",
       "      <td>Analyze the role of end credits in documenting...</td>\n",
       "      <td>The role of end credits in documenting film pr...</td>\n",
       "      <td>[vi Acknowledgments Any author is in debt to m...</td>\n",
       "      <td>End credits document film production contribut...</td>\n",
       "    </tr>\n",
       "    <tr>\n",
       "      <th>5</th>\n",
       "      <td>Compare the objectives and outcomes of Zond 7 ...</td>\n",
       "      <td>Zond 7 was the first fully successful Soviet c...</td>\n",
       "      <td>[91 1969  had probably crashed onto the side o...</td>\n",
       "      <td>Zond 7, 5, and 6 all had circumlunar objective...</td>\n",
       "    </tr>\n",
       "    <tr>\n",
       "      <th>6</th>\n",
       "      <td>Which American military aircraft, including th...</td>\n",
       "      <td>The F-111 experience was an extremely cautiona...</td>\n",
       "      <td>[Overall, the F-111 experience was an extremel...</td>\n",
       "      <td>The Grumman F-14 Tomcat, McDonnell Douglas F-1...</td>\n",
       "    </tr>\n",
       "    <tr>\n",
       "      <th>7</th>\n",
       "      <td>How do astronomers utilize a Super-Jupiter's c...</td>\n",
       "      <td>Astronomers used the Hubble Space Telescope to...</td>\n",
       "      <td>[Using a Super-Jupiter’s Cloudy Skies to Measu...</td>\n",
       "      <td>Astronomers use a Super-Jupiter's cloudy skies...</td>\n",
       "    </tr>\n",
       "    <tr>\n",
       "      <th>8</th>\n",
       "      <td>Compare the technological goals of the X-34 pr...</td>\n",
       "      <td>The X-34 program was designed to focus on low-...</td>\n",
       "      <td>[Index 377 DC-X Program, 39 accomplishments, 4...</td>\n",
       "      <td>The X-34 program aimed to demonstrate low-cost...</td>\n",
       "    </tr>\n",
       "    <tr>\n",
       "      <th>9</th>\n",
       "      <td>Compare Pratt &amp; Whitney Aircraft's contributio...</td>\n",
       "      <td>Pratt &amp; Whitney Aircraft and General Electric ...</td>\n",
       "      <td>[The Power for Flight 112 Pratt &amp; Whitney focu...</td>\n",
       "      <td>Pratt &amp; Whitney Aircraft contributed to aircra...</td>\n",
       "    </tr>\n",
       "  </tbody>\n",
       "</table>\n",
       "</div>"
      ]
     },
     "metadata": {},
     "output_type": "display_data"
    }
   ],
   "execution_count": 12
  },
  {
   "metadata": {},
   "cell_type": "code",
   "source": "",
   "id": "9bb99f38f3863279",
   "outputs": [],
   "execution_count": null
  }
 ],
 "metadata": {
  "kernelspec": {
   "display_name": "Python 3 (ipykernel)",
   "language": "python",
   "name": "python3"
  },
  "language_info": {
   "codemirror_mode": {
    "name": "ipython",
    "version": 3
   },
   "file_extension": ".py",
   "mimetype": "text/x-python",
   "name": "python",
   "nbconvert_exporter": "python",
   "pygments_lexer": "ipython3",
   "version": "3.10.9"
  }
 },
 "nbformat": 4,
 "nbformat_minor": 5
}
