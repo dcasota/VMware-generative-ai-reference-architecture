{
 "cells": [
  {
   "cell_type": "markdown",
   "source": "#  Auto-Merging Improved RAG with a PostgreSQL Document Store",
   "metadata": {},
   "id": "21f9146a-c6f3-4a78-b3fb-0d262492e87c"
  },
  {
   "cell_type": "code",
   "source": [
    "import time\n",
    "# Start timer to time the notebook execution\n",
    "start = time.time()\n",
    "\n",
    "import pandas as pd\n",
    "import os\n",
    "import yaml\n",
    "from dotmap import DotMap\n",
    "import psycopg2\n",
    "from sqlalchemy import make_url\n",
    "from IPython.display import display, Markdown\n",
    "import ipywidgets as widgets\n",
    "widgets.IntSlider()\n",
    "\n",
    "from llama_index.core import VectorStoreIndex\n",
    "from llama_index.storage.docstore.postgres import PostgresDocumentStore\n",
    "from llama_index.core import (\n",
    "    SimpleDirectoryReader,\n",
    "    StorageContext,\n",
    ")\n",
    "from llama_index.readers.file import PyMuPDFReader\n",
    "from llama_index.core import Settings\n",
    "from llama_index.llms.openai_like import OpenAILike\n",
    "from llama_index.core.node_parser import (\n",
    "    HierarchicalNodeParser,\n",
    "    get_leaf_nodes,\n",
    ")\n",
    "from llama_index.core.ingestion import IngestionPipeline\n",
    "from llama_index.core.retrievers import AutoMergingRetriever\n",
    "from llama_index.core.query_engine import RetrieverQueryEngine\n",
    "from llama_index.embeddings.nvidia import NVIDIAEmbedding\n",
    "from llama_index.postprocessor.nvidia_rerank import NVIDIARerank\n",
    "\n",
    "import sys\n",
    "\n",
    "utils_path = \"../../08-Utils\"\n",
    "if utils_path not in sys.path:\n",
    "    sys.path.append(utils_path)\n",
    "\n",
    "from helpers import (\n",
    "    get_indices_with_nulls,\n",
    "    remove_elements,\n",
    "    generate_responses_dict,\n",
    "    get_short_docs,\n",
    "    TextCleaner,\n",
    "    save_results,\n",
    ")"
   ],
   "metadata": {
    "collapsed": false,
    "ExecuteTime": {
     "end_time": "2024-08-27T01:57:14.509565Z",
     "start_time": "2024-08-27T01:57:03.545478Z"
    }
   },
   "id": "cb14fd5b562cb2ad",
   "outputs": [
    {
     "name": "stderr",
     "output_type": "stream",
     "text": [
      "None of PyTorch, TensorFlow >= 2.0, or Flax have been found. Models won't be available and only tokenizers, configuration and file/data utilities can be used.\n"
     ]
    }
   ],
   "execution_count": 1
  },
  {
   "metadata": {
    "ExecuteTime": {
     "end_time": "2024-08-27T01:57:14.526238Z",
     "start_time": "2024-08-27T01:57:14.512109Z"
    }
   },
   "cell_type": "code",
   "source": [
    "# Open the Starter Pack global configuration file\n",
    "with open('../../07-Starter_Pack_config/improved_rag_config.yaml', 'r') as file:\n",
    "    config = yaml.safe_load(file)\n",
    "config = DotMap(config)"
   ],
   "id": "91a97ad97eb50d37",
   "outputs": [],
   "execution_count": 2
  },
  {
   "metadata": {
    "ExecuteTime": {
     "end_time": "2024-08-27T01:57:15.421014Z",
     "start_time": "2024-08-27T01:57:14.527754Z"
    }
   },
   "cell_type": "code",
   "source": [
    "# LLamaIndex LLM provider\n",
    "llm_cfg = config.ml_models.llm_generator\n",
    "Settings.llm = OpenAILike(\n",
    "        model=llm_cfg.model,\n",
    "        api_key=llm_cfg.api_key,\n",
    "        api_base=llm_cfg.api_base,\n",
    "        temperature=llm_cfg.temperature,\n",
    "        max_tokens=llm_cfg.max_tokens,\n",
    "        repetition_penalty=llm_cfg.repetition_penalty,\n",
    ")\n",
    "\n",
    "# LLamaIndex embedding model\n",
    "emb_cfg = config.ml_models.embedder\n",
    "Settings.embed_model = NVIDIAEmbedding(\n",
    "        base_url=emb_cfg.api_base,\n",
    "        model=emb_cfg.model,\n",
    "        embed_batch_size=emb_cfg.batch_size,\n",
    "        truncate=\"END\",\n",
    ")\n",
    "EMBEDDING_SIZE = len(Settings.embed_model.get_text_embedding(\"hi\"))"
   ],
   "id": "bb0ae8518008d211",
   "outputs": [],
   "execution_count": 3
  },
  {
   "cell_type": "markdown",
   "source": [
    "## For this notebook, we'll use a set of E-books (PDF) about [NASA's history](https://www.nasa.gov/history/explore-nasas-history)"
   ],
   "metadata": {
    "collapsed": false
   },
   "id": "fc3bd5b0b6b8fa75"
  },
  {
   "cell_type": "code",
   "source": [
    "%%time\n",
    "# >> Text Extraction\n",
    "# The PyMuPDFReader takes ~ 1/20 the time it takes to the default reader to ingest the PDF files\n",
    "# Note: PyMuPDFReader creates a document object per page in a PDF document.\n",
    "\n",
    "# Lamda function to add the file name as metadata at loading time\n",
    "filename_fn = lambda filename: {\"file_name\": filename.split(\"/\")[-1]}\n",
    "\n",
    "reader = SimpleDirectoryReader(\n",
    "    input_dir=\"../\" + config.file_paths.kb_doc_dir,\n",
    "    required_exts=[\".pdf\"],\n",
    "    file_extractor={\".pdf\":PyMuPDFReader()},\n",
    "    file_metadata=filename_fn,\n",
    "    num_files_limit=10,\n",
    ")\n",
    "documents = reader.load_data()\n",
    "\n",
    "# Filter out documents with null (`\\x00') characters\n",
    "# which are incompatible with PGVector.\n",
    "# Also remove documents a number of words < MIN_DOC_LENGTH\n",
    "bad_docs = get_indices_with_nulls(documents)\n",
    "short_docs = get_short_docs(\n",
    "        documents,\n",
    "        config.llama_index.min_doc_length\n",
    ")\n",
    "docs_to_remove = set(bad_docs + short_docs)\n",
    "documents = remove_elements(documents, docs_to_remove)"
   ],
   "metadata": {
    "collapsed": false,
    "ExecuteTime": {
     "end_time": "2024-08-27T01:57:59.384175Z",
     "start_time": "2024-08-27T01:57:15.422330Z"
    }
   },
   "id": "62a5607ae62bfc69",
   "outputs": [
    {
     "name": "stdout",
     "output_type": "stream",
     "text": [
      "CPU times: user 31.6 s, sys: 11.6 s, total: 43.3 s\n",
      "Wall time: 44 s\n"
     ]
    }
   ],
   "execution_count": 4
  },
  {
   "cell_type": "code",
   "source": [
    "# Create the hierarchical node parser w/ default settings\n",
    "pipeline = IngestionPipeline(\n",
    "        transformations=[\n",
    "                TextCleaner(),\n",
    "                HierarchicalNodeParser.from_defaults(\n",
    "                        chunk_sizes=[512, 256]\n",
    "                )\n",
    "        ],\n",
    ")\n",
    "\n",
    "nodes = pipeline.run(\n",
    "        documents=documents,\n",
    "        show_progress=True,\n",
    ")\n",
    "\n",
    "# Extract \"leaf nodes\" to be used later \n",
    "leaf_nodes = get_leaf_nodes(nodes)"
   ],
   "metadata": {
    "collapsed": false,
    "ExecuteTime": {
     "end_time": "2024-08-27T01:58:20.610282Z",
     "start_time": "2024-08-27T01:57:59.388537Z"
    }
   },
   "id": "4635cfb46f8ca816",
   "outputs": [
    {
     "data": {
      "text/plain": [
       "Parsing documents into nodes:   0%|          | 0/3692 [00:00<?, ?it/s]"
      ],
      "application/vnd.jupyter.widget-view+json": {
       "version_major": 2,
       "version_minor": 0,
       "model_id": "b979309bdbac46d98450f62b957ec40a"
      }
     },
     "metadata": {},
     "output_type": "display_data"
    }
   ],
   "execution_count": 5
  },
  {
   "cell_type": "markdown",
   "source": "### Building the index on DB table NASA_HIST_BOOKS_DOCSTORE",
   "metadata": {},
   "id": "fea97dda-8457-4f32-a2c7-26ae92eaf0b4"
  },
  {
   "cell_type": "code",
   "source": [
    "%%time\n",
    "\n",
    "# Connect to the PostgreSQL engine ans initialize de DB to serve as vector/document store.\n",
    "db_cfg = config.postgresql\n",
    "connection_string = (f\"postgresql://{db_cfg.user}:\"\n",
    "                     f\"{db_cfg.password}@{db_cfg.db_host}:{db_cfg.port}/{db_cfg.default_db}\")\n",
    "conn = psycopg2.connect(connection_string)\n",
    "conn.autocommit = True\n",
    "\n",
    "# Create a url object to store DB connection parameters\n",
    "url = make_url(connection_string)\n",
    "conn = psycopg2.connect(connection_string)\n",
    "cursor = conn.cursor()\n",
    "sql = f\"DROP TABLE IF EXISTS public.data_{db_cfg.tables.auto_merging};\"\n",
    "cursor.execute(sql)\n",
    "conn.commit()\n",
    "conn.close()\n",
    "\n",
    "# Unlike the other 2 approaches, this time a PGVector index is not used\n",
    "# instead PostgreSQL document store gets used. \n",
    "docstore = PostgresDocumentStore.from_params(\n",
    "    database=url.database,\n",
    "    host=url.host,\n",
    "    password=url.password,\n",
    "    port=url.port,\n",
    "    user=url.username,\n",
    "    table_name=db_cfg.tables.auto_merging,\n",
    "    debug=False,\n",
    ")\n",
    "# Add the documents to the \"docstore\". This process is much slower\n",
    "# than creating a PGVector store.\n",
    "docstore.add_documents(\n",
    "        docs=nodes,\n",
    "        batch_size=512,\n",
    ")"
   ],
   "metadata": {
    "collapsed": false,
    "ExecuteTime": {
     "end_time": "2024-08-27T02:02:12.233429Z",
     "start_time": "2024-08-27T01:58:20.612146Z"
    }
   },
   "id": "786b7236dee4cc61",
   "outputs": [
    {
     "name": "stdout",
     "output_type": "stream",
     "text": [
      "CPU times: user 3min 22s, sys: 2.6 s, total: 3min 24s\n",
      "Wall time: 3min 51s\n"
     ]
    }
   ],
   "execution_count": 6
  },
  {
   "cell_type": "code",
   "source": [
    "%%time\n",
    "storage_context = StorageContext.from_defaults(docstore=docstore)\n",
    "base_index = VectorStoreIndex(\n",
    "    leaf_nodes,\n",
    "    storage_context=storage_context,\n",
    "    show_progress=True,\n",
    ")"
   ],
   "metadata": {
    "collapsed": false,
    "ExecuteTime": {
     "end_time": "2024-08-27T02:22:44.267936Z",
     "start_time": "2024-08-27T02:18:28.313266Z"
    }
   },
   "id": "9e6a5721591464a7",
   "outputs": [
    {
     "data": {
      "text/plain": [
       "Generating embeddings:   0%|          | 0/2048 [00:00<?, ?it/s]"
      ],
      "application/vnd.jupyter.widget-view+json": {
       "version_major": 2,
       "version_minor": 0,
       "model_id": "00ad2f903e184033a9baae59d0107de2"
      }
     },
     "metadata": {},
     "output_type": "display_data"
    },
    {
     "data": {
      "text/plain": [
       "Generating embeddings:   0%|          | 0/2048 [00:00<?, ?it/s]"
      ],
      "application/vnd.jupyter.widget-view+json": {
       "version_major": 2,
       "version_minor": 0,
       "model_id": "b70ce8a4060d4ebdade75a8cdac9afea"
      }
     },
     "metadata": {},
     "output_type": "display_data"
    },
    {
     "data": {
      "text/plain": [
       "Generating embeddings:   0%|          | 0/2048 [00:00<?, ?it/s]"
      ],
      "application/vnd.jupyter.widget-view+json": {
       "version_major": 2,
       "version_minor": 0,
       "model_id": "32c3d71dee514d38adc4e1f22f0b9135"
      }
     },
     "metadata": {},
     "output_type": "display_data"
    },
    {
     "data": {
      "text/plain": [
       "Generating embeddings:   0%|          | 0/2048 [00:00<?, ?it/s]"
      ],
      "application/vnd.jupyter.widget-view+json": {
       "version_major": 2,
       "version_minor": 0,
       "model_id": "315b76bb2dcd477e92433419c82f5650"
      }
     },
     "metadata": {},
     "output_type": "display_data"
    },
    {
     "data": {
      "text/plain": [
       "Generating embeddings:   0%|          | 0/2048 [00:00<?, ?it/s]"
      ],
      "application/vnd.jupyter.widget-view+json": {
       "version_major": 2,
       "version_minor": 0,
       "model_id": "0b3cbd0aebc14be793e5fe8910190618"
      }
     },
     "metadata": {},
     "output_type": "display_data"
    },
    {
     "data": {
      "text/plain": [
       "Generating embeddings:   0%|          | 0/2048 [00:00<?, ?it/s]"
      ],
      "application/vnd.jupyter.widget-view+json": {
       "version_major": 2,
       "version_minor": 0,
       "model_id": "2f1a273a4f94462abad2e7888ded5439"
      }
     },
     "metadata": {},
     "output_type": "display_data"
    },
    {
     "data": {
      "text/plain": [
       "Generating embeddings:   0%|          | 0/2048 [00:00<?, ?it/s]"
      ],
      "application/vnd.jupyter.widget-view+json": {
       "version_major": 2,
       "version_minor": 0,
       "model_id": "4645fd2a49f847afaae2bacf9c31c58d"
      }
     },
     "metadata": {},
     "output_type": "display_data"
    },
    {
     "data": {
      "text/plain": [
       "Generating embeddings:   0%|          | 0/2048 [00:00<?, ?it/s]"
      ],
      "application/vnd.jupyter.widget-view+json": {
       "version_major": 2,
       "version_minor": 0,
       "model_id": "faa4120b55144948a9693ae30597a296"
      }
     },
     "metadata": {},
     "output_type": "display_data"
    },
    {
     "data": {
      "text/plain": [
       "Generating embeddings:   0%|          | 0/806 [00:00<?, ?it/s]"
      ],
      "application/vnd.jupyter.widget-view+json": {
       "version_major": 2,
       "version_minor": 0,
       "model_id": "5a6eb5762de14857b5085aad01144cd9"
      }
     },
     "metadata": {},
     "output_type": "display_data"
    },
    {
     "name": "stdout",
     "output_type": "stream",
     "text": [
      "CPU times: user 44.5 s, sys: 7.23 s, total: 51.7 s\n",
      "Wall time: 4min 15s\n"
     ]
    }
   ],
   "execution_count": 9
  },
  {
   "cell_type": "code",
   "source": [
    "# Initialized the base retriever to be improved\n",
    "base_retriever = base_index.as_retriever(\n",
    "    similarity_top_k=db_cfg.pgvector.sim_top_k\n",
    ")\n",
    "\n",
    "# Initialize the auto-merging retriever from \n",
    "# the base retrieved and the docstore.\n",
    "retriever = AutoMergingRetriever(\n",
    "    vector_retriever=base_retriever,\n",
    "    storage_context=StorageContext.from_defaults(\n",
    "        docstore=docstore\n",
    "    ),\n",
    "    verbose=True,\n",
    ")\n",
    "\n",
    "# Initialize the re-ranker post processor\n",
    "rerank_cfg = config.ml_models.re_ranker\n",
    "re_ranker = NVIDIARerank(\n",
    "        model=rerank_cfg.model,\n",
    "        base_url=rerank_cfg.api_base,\n",
    "        api_key=\"NONE\",\n",
    "        top_n=rerank_cfg.rerank_top_n,\n",
    "        truncate=\"END\",\n",
    ")\n",
    "\n",
    "# Initialize the query engine from the auto-merging retriever\n",
    "# and the re-ranking post-processor.\n",
    "auto_merging_engine = RetrieverQueryEngine.from_args(\n",
    "    retriever=retriever, \n",
    "    node_postprocessors=[re_ranker],\n",
    "    response_mode=config.llama_index.auto_merge.response_mode,\n",
    ")"
   ],
   "metadata": {
    "collapsed": false,
    "ExecuteTime": {
     "end_time": "2024-08-27T02:22:44.277598Z",
     "start_time": "2024-08-27T02:22:44.270712Z"
    }
   },
   "id": "328e67192776f347",
   "outputs": [],
   "execution_count": 10
  },
  {
   "cell_type": "code",
   "source": [
    "%%time\n",
    "# Run a quick test on the query engine.\n",
    "print(\">> Quick test on the RAG system.\\n\")\n",
    "question = (\"As a research assistant, \"\n",
    "            \"list the top 10 Hubble telescope discoveries about exoplanets. \"\n",
    "            \"Highlight important text using markdown formatting.\")\n",
    "print(f\" > Query: {question}\")\n",
    "response = auto_merging_engine.query(question)\n",
    "display(Markdown(response.response))"
   ],
   "metadata": {
    "collapsed": false,
    "ExecuteTime": {
     "end_time": "2024-08-27T02:22:48.548796Z",
     "start_time": "2024-08-27T02:22:44.278930Z"
    }
   },
   "id": "3f2bdfee1583b51f",
   "outputs": [
    {
     "name": "stdout",
     "output_type": "stream",
     "text": [
      ">> Quick test on the RAG system.\n",
      "\n",
      " > Query: As a research assistant, list the top 10 Hubble telescope discoveries about exoplanets. Highlight important text using markdown formatting.\n",
      "> Merging 5 nodes into parent node.\n",
      "> Parent node id: a29825cd-eeb6-4463-ad2d-16f56a2ece9c.\n",
      "> Parent node text: CONTENTS  About the Hubble Space Telescope                                                     2 ...\n",
      "\n",
      "> Merging 1 nodes into parent node.\n",
      "> Parent node id: 62d3d2d3-062e-442c-a601-d39c331fab35.\n",
      "> Parent node text: Red Stars May Hinder Habitability                                    37  Exploring ‘Goldilocks’ S...\n",
      "\n"
     ]
    },
    {
     "data": {
      "text/plain": [
       "<IPython.core.display.Markdown object>"
      ],
      "text/markdown": "1. **Probing the Atmospheres of Rocky, Habitable-Zone Planets** - The Hubble Space Telescope has been used to study the atmospheres of rocky, habitable-zone exoplanets, which could potentially support life.\n2. **Spotting a World with a Glowing Water Atmosphere** - Hubble has detected an exoplanet with a glowing water atmosphere, which could be a sign of life.\n3. **Detecting Water Vapor on a Habitable-Zone Exoplanet** - Hubble has detected water vapor on a habitable-zone exoplanet, which is a key ingredient for life.\n4. **Exposing the First Evidence of a Possible Exomoon** - Hubble has detected evidence of a possible exomoon, which could be a moon orbiting an exoplanet.\n5. **Capturing a Blistering Pitch-Black Planet** - Hubble has captured an image of a blistering pitch-black planet, which is a rare type of exoplanet.\n6. **Finding a Shrinking Planet** - Hubble has detected a planet that is shrinking, which could be due to the loss of mass or the contraction of the planet.\n7. **Uncovering a Football-Shaped ‘Heavy Metal’ Exoplanet** - Hubble has detected a football-shaped exoplanet that is composed of heavy metals, which is a rare type of exoplanet.\n8. **Unraveling Mysteries Surrounding ‘Cotton Candy’ Planets** - Hubble has studied the properties of \"cotton candy\" planets, which are exoplanets with low densities and high temperatures.\n9. **Tracking an Exiled Exoplanet’s Far-Flung Orbit** - Hubble has tracked the orbit of an exiled exoplanet, which is a planet that has been ejected from its parent star system.\n10. **Revealing a Volcanic World that May Be on its Second Atmosphere** - Hubble has detected a volcanic world that may be on its second atmosphere, which could be a sign of geological activity.\n\nNote: The above list is based on the provided text and may not be an exhaustive list of all Hubble telescope discoveries about exoplanets."
     },
     "metadata": {},
     "output_type": "display_data"
    },
    {
     "name": "stdout",
     "output_type": "stream",
     "text": [
      "CPU times: user 958 ms, sys: 54.5 ms, total: 1.01 s\n",
      "Wall time: 4.27 s\n"
     ]
    }
   ],
   "execution_count": 11
  },
  {
   "cell_type": "code",
   "source": [
    "%%time\n",
    "\n",
    "# Load a test set to run inference on multiple Q/A pairs\n",
    "test_set_cfg = config.data_files.test_sets\n",
    "active_set = eval(f\"test_set_cfg.{test_set_cfg.active_set}.current\")\n",
    "test_set_dir = test_set_cfg.base_path + active_set\n",
    "test_set = os.listdir(test_set_dir)[0]\n",
    "test_set = test_set_dir + test_set\n",
    "\n",
    "test_set_df = pd.read_csv(\n",
    "        filepath_or_buffer=test_set,\n",
    "        usecols=['query', 'reference_answer'],\n",
    ")\n",
    "\n",
    "# Run inference on the Q/A pairs and keep the responses\n",
    "# for future comparison vs.other RAG approaches.\n",
    "responses = generate_responses_dict(\n",
    "    query_engine=auto_merging_engine,\n",
    "    test_set_df=test_set_df\n",
    ")"
   ],
   "metadata": {
    "collapsed": false,
    "ExecuteTime": {
     "end_time": "2024-08-27T02:25:54.296836Z",
     "start_time": "2024-08-27T02:22:48.552027Z"
    }
   },
   "id": "359710a4741ead5",
   "outputs": [
    {
     "data": {
      "text/plain": [
       "  0%|          | 0/40 [00:00<?, ?it/s]"
      ],
      "application/vnd.jupyter.widget-view+json": {
       "version_major": 2,
       "version_minor": 0,
       "model_id": "4464a4c472ff40ce9ef7ea2a264bda8d"
      }
     },
     "metadata": {},
     "output_type": "display_data"
    },
    {
     "name": "stdout",
     "output_type": "stream",
     "text": [
      "> Merging 1 nodes into parent node.\n",
      "> Parent node id: 6d5c38b4-f655-4ad9-94b5-07dfc8d9ff7c.\n",
      "> Parent node text: 271 Document 5-20 (a–c) where L is the length and B the beam of each float in ft., s the spacing ...\n",
      "\n",
      "> Merging 2 nodes into parent node.\n",
      "> Parent node id: d048e686-eeda-48e0-8d69-23aaaa14de4a.\n",
      "> Parent node text: Soon after trans-lunar injection, which happened at 20:18:30 UT on launch  day, ground controller...\n",
      "\n",
      "> Merging 2 nodes into parent node.\n",
      "> Parent node id: 136c4fa4-295d-47e7-a873-58f32bb59fde.\n",
      "> Parent node text: At the time, Zond 5 was  325,000 kilometers from Earth. The spacecraft successfully circled aroun...\n",
      "\n",
      "> Merging 1 nodes into parent node.\n",
      "> Parent node id: b66ba26f-ba0f-443a-bd42-8ddc0892d7ab.\n",
      "> Parent node text: Overall, the F-111 experience was an extremely cautionary tale for the  American aerospace indust...\n",
      "\n",
      "> Merging 3 nodes into parent node.\n",
      "> Parent node id: f15162b7-eb18-468e-8d5e-524707ed2ff5.\n",
      "> Parent node text: The Power for Flight 60 Secretary McNamara selected the General Dynamics design instead of a riva...\n",
      "\n",
      "> Merging 1 nodes into parent node.\n",
      "> Parent node id: bbffcc14-690e-4cac-896d-f8c5a2345d1c.\n",
      "> Parent node text: During the tests, the research pilot flew as low as 300 feet  with the main J75 engine at idle so...\n",
      "\n",
      "> Merging 2 nodes into parent node.\n",
      "> Parent node id: c54a9454-81c2-41ac-b13c-e8bc1a223ad1.\n",
      "> Parent node text: Using a Super-Jupiter’s Cloudy Skies to Measure its  Rotation Rate  Measuring the length of a day...\n",
      "\n",
      "> Merging 2 nodes into parent node.\n",
      "> Parent node id: a6c30c3a-a436-4d1f-836c-8b88a9341088.\n",
      "> Parent node text: astronomers estimate the gaseous world completes one rotation approximately every 10  hours, whic...\n",
      "\n",
      "> Merging 1 nodes into parent node.\n",
      "> Parent node id: 6fb304e3-6b2c-4c72-8f7b-4771c2b31b71.\n",
      "> Parent node text: This artist’s illustration features the super-Jupiter planet 2M1207b in the foreground and its pa...\n",
      "\n",
      "> Merging 1 nodes into parent node.\n",
      "> Parent node id: 31930970-c20c-4580-9afb-005fff0ccb1b.\n",
      "> Parent node text: Promise Denied 92 technology demonstrations and for flight-related experiments that would be  con...\n",
      "\n",
      "> Merging 1 nodes into parent node.\n",
      "> Parent node id: c98774cc-8e6c-4439-9d9c-87a8a4be93c2.\n",
      "> Parent node text: In the X-33 and X-34 programs, for example, cost  reduction and efficient reusability will contin...\n",
      "\n",
      "> Merging 2 nodes into parent node.\n",
      "> Parent node id: d4b40acc-2c4a-48a0-860a-5883d8c7f25f.\n",
      "> Parent node text: Chapter 3: Finding and Characterizing Near-Earth Objects Through 1990 73 because there are far fe...\n",
      "\n",
      "> Merging 1 nodes into parent node.\n",
      "> Parent node id: 0d518a60-7b43-43d8-bf93-add95e14b69b.\n",
      "> Parent node text: Epitaph:  An Optimistic Promise Tragically Left Unfulfilled  In considering what might have been,...\n",
      "\n",
      "> Merging 1 nodes into parent node.\n",
      "> Parent node id: b7b3127e-b480-4d49-a1d4-27754c9279ba.\n",
      "> Parent node text: “Now, in light of [last year’s] Mars [mission failures] and other  lessons learned within NASA, w...\n",
      "\n",
      "> Merging 1 nodes into parent node.\n",
      "> Parent node id: 678afc41-85c1-4ccf-93da-cb3c3768f3a9.\n",
      "> Parent node text: 233. 35.\t Ibid., p. 9. 36.\t Ahrens and Harris, “Deflection and Fragmentation of Near-Earth Astero...\n",
      "\n",
      "> Merging 1 nodes into parent node.\n",
      "> Parent node id: 3e515301-4b88-4ec3-b522-eb502d59850b.\n",
      "> Parent node text: It was  found that the principal problems of current helicopters are: Instability with angle  of ...\n",
      "\n",
      "> Merging 2 nodes into parent node.\n",
      "> Parent node id: 85d226b0-2a60-4ff2-b4bf-8365d040bc69.\n",
      "> Parent node text: 665 Document 5-44 (a–b) Longitudinal Stability in Forward Flight: During the course of the perfor...\n",
      "\n",
      "> Merging 2 nodes into parent node.\n",
      "> Parent node id: f77f1210-19b3-4a01-b95a-1858bb6565f4.\n",
      "> Parent node text: Index 277 RAF-6, 10, 12 supercritical, 132n8 air-launched cruise missile (ALCM), 179 airships, 3,...\n",
      "\n",
      "> Merging 2 nodes into parent node.\n",
      "> Parent node id: ba725323-ce01-4fd9-a567-bbb3165eeb2b.\n",
      "> Parent node text: Image credit: Shiba et al, Scientific Reports, 2017.  The calculated cancellous  bone volume/tiss...\n",
      "\n",
      "> Merging 2 nodes into parent node.\n",
      "> Parent node id: edb50292-142f-404e-9cca-7c4c303c8e83.\n",
      "> Parent node text: 916.345 30,778.000 30,778.000 TABLE A4. DOD Budget Data, 1959–2010 Budget data for the Department...\n",
      "\n",
      "> Merging 1 nodes into parent node.\n",
      "> Parent node id: aeb4d536-0f3d-4a58-b9fb-708eb77cb762.\n",
      "> Parent node text: For further details, see Bill Henniff, Jr., Megan Suzanne Lynch, and Jessica Tollestrup,  “Introd...\n",
      "\n",
      "> Merging 2 nodes into parent node.\n",
      "> Parent node id: 8ead8f82-c4da-44af-97a1-f3f4074c66cb.\n",
      "> Parent node text: 335.280 1,541.894 2005 1,531.245 1,708.979 1,312.661 1,465.023 965.760 1,077.857 1,340.440 1,496....\n",
      "\n",
      "> Merging 1 nodes into parent node.\n",
      "> Parent node id: 5cb8e60e-bbe8-4729-9563-927af592194b.\n",
      "> Parent node text: The OMB historical tables can be found at https://www.whitehouse.gov/omb/historical-tables/.\n",
      "\n",
      "> Merging 2 nodes into parent node.\n",
      "> Parent node id: 64f62ff1-2fea-4eea-8916-ce3f1a3c2a3f.\n",
      "> Parent node text: The Wind and Beyond, Volume III 264 Keel. The main longitudinal and continuous strength member lo...\n",
      "\n",
      "> Merging 2 nodes into parent node.\n",
      "> Parent node id: 0d690d31-cc4f-4c88-a6ea-5e7d4ad3aa4c.\n",
      "> Parent node text: The Wind and Beyond, Volume III 290 efficiency of a fixed blade airscrew at the hump speed. All t...\n",
      "\n",
      "> Merging 1 nodes into parent node.\n",
      "> Parent node id: b66ba26f-ba0f-443a-bd42-8ddc0892d7ab.\n",
      "> Parent node text: Overall, the F-111 experience was an extremely cautionary tale for the  American aerospace indust...\n",
      "\n",
      "> Merging 2 nodes into parent node.\n",
      "> Parent node id: 673f42e3-ab26-43f0-b08a-795c4f85076c.\n",
      "> Parent node text: The Power for Flight 62 NASA’s PSL refocused attention upon the jet engine, which continued to gr...\n",
      "\n",
      "> Merging 1 nodes into parent node.\n",
      "> Parent node id: 08867d0a-f922-439e-88eb-19dd442686dd.\n",
      "> Parent node text: The goal of NASA, and of Lewis, was to make sure  that the Agency’s aircraft propulsion program a...\n",
      "\n",
      "> Merging 1 nodes into parent node.\n",
      "> Parent node id: 678afc41-85c1-4ccf-93da-cb3c3768f3a9.\n",
      "> Parent node text: 233. 35.\t Ibid., p. 9. 36.\t Ahrens and Harris, “Deflection and Fragmentation of Near-Earth Astero...\n",
      "\n",
      "> Merging 2 nodes into parent node.\n",
      "> Parent node id: c673d3b6-2340-407e-82b8-507fbb20f92d.\n",
      "> Parent node text: Chapter 7:  Exploring the Cosmos 123 Although years of research await Venus explorers from the da...\n",
      "\n",
      "> Merging 2 nodes into parent node.\n",
      "> Parent node id: bda539a4-6ec0-47e3-a84a-1826876a0f4f.\n",
      "> Parent node text: NASA′s Discovery Program 368 also appreciated the second project manager’s ability to “tell it li...\n",
      "\n",
      "> Merging 1 nodes into parent node.\n",
      "> Parent node id: 37be4b2f-30c8-4bdf-8d33-f6bece544ee9.\n",
      "> Parent node text: It was this  respect for science and scientists that gained the respect of the PI, and they worke...\n",
      "\n",
      "> Merging 1 nodes into parent node.\n",
      "> Parent node id: 279937ae-b9e2-495a-a778-690f0f43e344.\n",
      "> Parent node text: This work utilizes published numerical procedures, in conjunction with electronic computers and f...\n",
      "\n",
      "> Merging 1 nodes into parent node.\n",
      "> Parent node id: 3e515301-4b88-4ec3-b522-eb502d59850b.\n",
      "> Parent node text: It was  found that the principal problems of current helicopters are: Instability with angle  of ...\n",
      "\n",
      "> Merging 2 nodes into parent node.\n",
      "> Parent node id: df24685d-4b4c-4602-9275-1b022c972cdf.\n",
      "> Parent node text: Studies of astronauts’ core body temperature  in microgravity during periods of exercise and rest...\n",
      "\n",
      "> Merging 1 nodes into parent node.\n",
      "> Parent node id: 87eb42c2-6cd5-4f3b-a0cc-15bf73592111.\n",
      "> Parent node text: Recovering from Challenger With the Challenger accident, the Shuttle Program went into a 32-month...\n",
      "\n",
      "> Merging 3 nodes into parent node.\n",
      "> Parent node id: 7f347622-fe8c-4bf6-8c59-23d74d6c93f4.\n",
      "> Parent node text: 309 2016  Scientific Instruments: 1.\t Camera Suite (PolyCam, MapCam,  SamCam) (OCAMS OSIRIS-REx) ...\n",
      "\n",
      "> Merging 1 nodes into parent node.\n",
      "> Parent node id: 9f8da737-b69f-4efe-a8a6-ed8a85be21e9.\n",
      "> Parent node text: A mission would have to manage its reserves and adjust in order to stay within  the cost. Neverth...\n",
      "\n",
      "> Merging 1 nodes into parent node.\n",
      "> Parent node id: 37be4b2f-30c8-4bdf-8d33-f6bece544ee9.\n",
      "> Parent node text: It was this  respect for science and scientists that gained the respect of the PI, and they worke...\n",
      "\n",
      "> Merging 1 nodes into parent node.\n",
      "> Parent node id: 68b0d25b-0d1c-4e61-98fa-a3fee43a6d3b.\n",
      "> Parent node text: These gates  introduced checks and balances into the system, reducing the possibility that engine...\n",
      "\n",
      "> Merging 2 nodes into parent node.\n",
      "> Parent node id: f10b1552-4763-46f5-a918-01bb2ddf7bab.\n",
      "> Parent node text: These  new technologies served as the basis both for further  development of cardiological system...\n",
      "\n",
      "> Merging 3 nodes into parent node.\n",
      "> Parent node id: 4bed7e24-501d-4510-b0f2-8ef1e0ca63b8.\n",
      "> Parent node text: 166 which arose in space medicine. Prenosological refers  to the study of changes in the body tha...\n",
      "\n",
      "> Merging 2 nodes into parent node.\n",
      "> Parent node id: b7e4c389-ff76-42d8-84dd-439df9f51f81.\n",
      "> Parent node text: 165 Heart Health and Biorhythms Studying spaceflight effects on the cardiovascular system has led...\n",
      "\n",
      "> Merging 2 nodes into parent node.\n",
      "> Parent node id: 4bed7e24-501d-4510-b0f2-8ef1e0ca63b8.\n",
      "> Parent node text: 166 which arose in space medicine. Prenosological refers  to the study of changes in the body tha...\n",
      "\n",
      "> Merging 2 nodes into parent node.\n",
      "> Parent node id: 845eb46b-f0dd-42ff-8697-ee2cabe8a58b.\n",
      "> Parent node text: More specifically, this study will determine  how arteries and the heart react to changes in bloo...\n",
      "\n",
      "> Merging 3 nodes into parent node.\n",
      "> Parent node id: 7f347622-fe8c-4bf6-8c59-23d74d6c93f4.\n",
      "> Parent node text: 309 2016  Scientific Instruments: 1.\t Camera Suite (PolyCam, MapCam,  SamCam) (OCAMS OSIRIS-REx) ...\n",
      "\n",
      "> Merging 2 nodes into parent node.\n",
      "> Parent node id: 82fa4703-a408-4dc7-8857-883709228703.\n",
      "> Parent node text: Since  the author was only examining trends in data over time, and since no budget actual data we...\n",
      "\n",
      "> Merging 2 nodes into parent node.\n",
      "> Parent node id: edb50292-142f-404e-9cca-7c4c303c8e83.\n",
      "> Parent node text: 916.345 30,778.000 30,778.000 TABLE A4. DOD Budget Data, 1959–2010 Budget data for the Department...\n",
      "\n",
      "> Merging 1 nodes into parent node.\n",
      "> Parent node id: aeb4d536-0f3d-4a58-b9fb-708eb77cb762.\n",
      "> Parent node text: For further details, see Bill Henniff, Jr., Megan Suzanne Lynch, and Jessica Tollestrup,  “Introd...\n",
      "\n",
      "> Merging 1 nodes into parent node.\n",
      "> Parent node id: 5cb8e60e-bbe8-4729-9563-927af592194b.\n",
      "> Parent node text: The OMB historical tables can be found at https://www.whitehouse.gov/omb/historical-tables/.\n",
      "\n",
      "> Merging 1 nodes into parent node.\n",
      "> Parent node id: 6b978c40-fac0-4bd6-ad65-cf7e9fc262dd.\n",
      "> Parent node text: Investigators were able to determine the  gravity perception thresholds of plants when grown  und...\n",
      "\n",
      "> Merging 1 nodes into parent node.\n",
      "> Parent node id: 337aacde-e59a-45dc-913a-904f126464a9.\n",
      "> Parent node text: The  flight testing will focus on RLV-type operations, the embedded technologies,  and technology...\n",
      "\n",
      "> Merging 2 nodes into parent node.\n",
      "> Parent node id: a6c30c3a-a436-4d1f-836c-8b88a9341088.\n",
      "> Parent node text: astronomers estimate the gaseous world completes one rotation approximately every 10  hours, whic...\n",
      "\n",
      "> Merging 1 nodes into parent node.\n",
      "> Parent node id: 6fb304e3-6b2c-4c72-8f7b-4771c2b31b71.\n",
      "> Parent node text: This artist’s illustration features the super-Jupiter planet 2M1207b in the foreground and its pa...\n",
      "\n",
      "> Merging 2 nodes into parent node.\n",
      "> Parent node id: c54a9454-81c2-41ac-b13c-e8bc1a223ad1.\n",
      "> Parent node text: Using a Super-Jupiter’s Cloudy Skies to Measure its  Rotation Rate  Measuring the length of a day...\n",
      "\n",
      "> Merging 2 nodes into parent node.\n",
      "> Parent node id: 29260ec7-0835-4e2e-abdd-128005383fdd.\n",
      "> Parent node text: Capturing a Blistering Pitch-Black Planet  About 1,400 light-years from Earth, an inky alien worl...\n",
      "\n",
      "> Merging 1 nodes into parent node.\n",
      "> Parent node id: 132d5556-df40-41c0-bcb6-414de5fee1d2.\n",
      "> Parent node text: Across the series, the chapters are numbered sequentially, with volume 1 containing chapters 1 an...\n",
      "\n",
      "> Merging 1 nodes into parent node.\n",
      "> Parent node id: ac217d9f-616a-47f0-ae79-c908959e0b9b.\n",
      "> Parent node text: D.\t Project 4, to be supplied by the contractor 8 months from date of  contract. (a)\t One free fl...\n",
      "\n",
      "> Merging 2 nodes into parent node.\n",
      "> Parent node id: fe1a7a43-18dc-4734-967c-2ded84d2e3e9.\n",
      "> Parent node text: 65 CHAPTER 2  •  Funding Planetary Science: History And Political Economy  innovation, which woul...\n",
      "\n",
      "CPU times: user 37.8 s, sys: 639 ms, total: 38.5 s\n",
      "Wall time: 3min 5s\n"
     ]
    }
   ],
   "execution_count": 12
  },
  {
   "cell_type": "code",
   "source": [
    "# Convert the responses into a Pandas data frame\n",
    "responses_df = pd.DataFrame.from_dict(responses)\n",
    "save_results(\n",
    "        responses_df,\n",
    "        \"Auto_Merging_RAG\",\n",
    "        llm_cfg.model,\n",
    "        emb_cfg.model,\n",
    "        rerank_cfg.model\n",
    ")\n",
    "\n",
    "stop = time.time()\n",
    "print(f\"Notebook execution time: {(stop-start)/60:.1f} minutes\")"
   ],
   "metadata": {
    "collapsed": false,
    "ExecuteTime": {
     "end_time": "2024-08-27T02:25:54.312044Z",
     "start_time": "2024-08-27T02:25:54.298367Z"
    }
   },
   "id": "541705c60e55f038",
   "outputs": [
    {
     "name": "stdout",
     "output_type": "stream",
     "text": [
      "Auto_Merging_RAG pipeline responses successfully saved to file: responses/current/Auto_Merging_RAG__llama3-8b-instruct__nv-embedqa-e5-v5__nv-rerankqa-mistral-4b-v3.csv.\n",
      "Notebook execution time: 28.8 minutes\n"
     ]
    }
   ],
   "execution_count": 13
  }
 ],
 "metadata": {
  "kernelspec": {
   "display_name": "Python 3 (ipykernel)",
   "language": "python",
   "name": "python3"
  },
  "language_info": {
   "codemirror_mode": {
    "name": "ipython",
    "version": 3
   },
   "file_extension": ".py",
   "mimetype": "text/x-python",
   "name": "python",
   "nbconvert_exporter": "python",
   "pygments_lexer": "ipython3",
   "version": "3.10.9"
  }
 },
 "nbformat": 4,
 "nbformat_minor": 5
}
