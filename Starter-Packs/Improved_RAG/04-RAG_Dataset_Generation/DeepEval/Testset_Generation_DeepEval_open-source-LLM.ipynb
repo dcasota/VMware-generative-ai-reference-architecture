{
 "cells": [
  {
   "cell_type": "code",
   "id": "df47a1ae487c3667",
   "metadata": {
    "ExecuteTime": {
     "end_time": "2024-08-26T12:06:55.975961Z",
     "start_time": "2024-08-26T12:06:46.778725Z"
    }
   },
   "source": [
    "import time\n",
    "# Start timer to time the notebook execution\n",
    "start = time.time()\n",
    "\n",
    "import os\n",
    "import yaml\n",
    "from dotmap import DotMap\n",
    "from deepeval.synthesizer import Synthesizer\n",
    "from os import listdir\n",
    "from os.path import isfile, join\n",
    "import ipywidgets as widgets\n",
    "widgets.IntSlider()\n",
    "\n",
    "from deepeval.synthesizer import Evolution\n",
    "\n",
    "import sys\n",
    "utils_path = \"../../08-Utils\"\n",
    "if utils_path not in sys.path:\n",
    "    sys.path.append(utils_path)\n",
    "    \n",
    "from helpers import (\n",
    "    CustomSynthesizerModel,\n",
    "    CustomEmbeddingModel,\n",
    "    goldens_to_pandas,\n",
    "    save_testset,\n",
    ")"
   ],
   "outputs": [
    {
     "name": "stderr",
     "output_type": "stream",
     "text": [
      "None of PyTorch, TensorFlow >= 2.0, or Flax have been found. Models won't be available and only tokenizers, configuration and file/data utilities can be used.\n"
     ]
    }
   ],
   "execution_count": 1
  },
  {
   "cell_type": "code",
   "id": "1e08cfe663fe066e",
   "metadata": {
    "ExecuteTime": {
     "end_time": "2024-08-26T12:06:55.996018Z",
     "start_time": "2024-08-26T12:06:55.979004Z"
    }
   },
   "source": [
    "# Load configuration file\n",
    "with open('../../07-Starter_Pack_config/improved_rag_config.yaml', 'r') as file:\n",
    "    config = yaml.safe_load(file)\n",
    "config = DotMap(config)"
   ],
   "outputs": [],
   "execution_count": 2
  },
  {
   "cell_type": "code",
   "id": "8eb75b5d43bd1d6f",
   "metadata": {
    "ExecuteTime": {
     "end_time": "2024-08-26T12:12:18.107538Z",
     "start_time": "2024-08-26T12:06:55.998306Z"
    }
   },
   "source": [
    "%%time\n",
    "\n",
    "# Get the KB documents' file paths\n",
    "PDF_FILES_PATH = config.deep_eval.kb_doc_dir\n",
    "pdf_files = [f\"{PDF_FILES_PATH}/{f}\" for f in listdir(PDF_FILES_PATH) if isfile(join(PDF_FILES_PATH, f))]\n",
    "\n",
    "# Instantiate the synthesizer and the embedder language models\n",
    "deep_eval_cfg =  config.deep_eval\n",
    "synth_llm = CustomSynthesizerModel(deep_eval_cfg.synth_llm_cfg)\n",
    "embedding_model = CustomEmbeddingModel(deep_eval_cfg.embedding_cfg)\n",
    "\n",
    "# Instantiate the synthesizer engine\n",
    "synthesizer = Synthesizer(\n",
    "        model=synth_llm,\n",
    "        embedder=embedding_model,\n",
    "        async_mode=deep_eval_cfg.synth_llm_cfg.async_mode,\n",
    ")\n",
    "\n",
    "# Generate the Q&A test set\n",
    "synthesizer.generate_goldens_from_docs(\n",
    "        document_paths=pdf_files,\n",
    "        max_goldens_per_document=config.deep_eval.max_goldens_per_doc,\n",
    "        include_expected_output=config.deep_eval.include_expected_output,\n",
    "        chunk_size=config.deep_eval.chunk_size,\n",
    "        chunk_overlap=config.deep_eval.chunk_overlap,\n",
    "        num_evolutions=config.deep_eval.num_evolutions,\n",
    "        evolutions=[\n",
    "                Evolution.MULTICONTEXT,\n",
    "                Evolution.REASONING,\n",
    "                Evolution.COMPARATIVE,\n",
    "                Evolution.IN_BREADTH,\n",
    "        ],\n",
    ")"
   ],
   "outputs": [
    {
     "data": {
      "text/plain": [
       "Output()"
      ],
      "application/vnd.jupyter.widget-view+json": {
       "version_major": 2,
       "version_minor": 0,
       "model_id": "da880e6bd6904183830c6fd690035469"
      }
     },
     "metadata": {},
     "output_type": "display_data"
    },
    {
     "data": {
      "text/plain": [
       "Generating embeddings:   0%|          | 0/404 [00:00<?, ?it/s]"
      ],
      "application/vnd.jupyter.widget-view+json": {
       "version_major": 2,
       "version_minor": 0,
       "model_id": "d6ab67eed2a247b5ae7e2da2a12924e0"
      }
     },
     "metadata": {},
     "output_type": "display_data"
    },
    {
     "data": {
      "text/plain": [
       "Generating embeddings:   0%|          | 0/719 [00:00<?, ?it/s]"
      ],
      "application/vnd.jupyter.widget-view+json": {
       "version_major": 2,
       "version_minor": 0,
       "model_id": "82d1c68ed1244932a4bd9686c3ea13bd"
      }
     },
     "metadata": {},
     "output_type": "display_data"
    },
    {
     "data": {
      "text/plain": [
       "Generating embeddings:   0%|          | 0/746 [00:00<?, ?it/s]"
      ],
      "application/vnd.jupyter.widget-view+json": {
       "version_major": 2,
       "version_minor": 0,
       "model_id": "6c3768a9e12640909f54de6aa4d8c2cc"
      }
     },
     "metadata": {},
     "output_type": "display_data"
    },
    {
     "data": {
      "text/plain": [
       "Generating embeddings:   0%|          | 0/1710 [00:00<?, ?it/s]"
      ],
      "application/vnd.jupyter.widget-view+json": {
       "version_major": 2,
       "version_minor": 0,
       "model_id": "f1fdf5ee29f04463b0bf11c22547c668"
      }
     },
     "metadata": {},
     "output_type": "display_data"
    },
    {
     "data": {
      "text/plain": [
       "Generating embeddings:   0%|          | 0/595 [00:00<?, ?it/s]"
      ],
      "application/vnd.jupyter.widget-view+json": {
       "version_major": 2,
       "version_minor": 0,
       "model_id": "cb5195074c5d40439a530a175dd66b45"
      }
     },
     "metadata": {},
     "output_type": "display_data"
    },
    {
     "data": {
      "text/plain": [
       "Generating embeddings:   0%|          | 0/81 [00:00<?, ?it/s]"
      ],
      "application/vnd.jupyter.widget-view+json": {
       "version_major": 2,
       "version_minor": 0,
       "model_id": "9dc2918063c242b9a1fd7aca8ab613e3"
      }
     },
     "metadata": {},
     "output_type": "display_data"
    },
    {
     "data": {
      "text/plain": [
       "Generating embeddings:   0%|          | 0/495 [00:00<?, ?it/s]"
      ],
      "application/vnd.jupyter.widget-view+json": {
       "version_major": 2,
       "version_minor": 0,
       "model_id": "388fb87c9adc4d4ea466668540237673"
      }
     },
     "metadata": {},
     "output_type": "display_data"
    },
    {
     "data": {
      "text/plain": [
       "Generating embeddings:   0%|          | 0/700 [00:00<?, ?it/s]"
      ],
      "application/vnd.jupyter.widget-view+json": {
       "version_major": 2,
       "version_minor": 0,
       "model_id": "5079cc4517c24516b05da9bd5a05039b"
      }
     },
     "metadata": {},
     "output_type": "display_data"
    },
    {
     "data": {
      "text/plain": [
       "Generating embeddings:   0%|          | 0/822 [00:00<?, ?it/s]"
      ],
      "application/vnd.jupyter.widget-view+json": {
       "version_major": 2,
       "version_minor": 0,
       "model_id": "0c7225f6481448789bba1682028d238c"
      }
     },
     "metadata": {},
     "output_type": "display_data"
    },
    {
     "data": {
      "text/plain": [
       "Generating embeddings:   0%|          | 0/531 [00:00<?, ?it/s]"
      ],
      "application/vnd.jupyter.widget-view+json": {
       "version_major": 2,
       "version_minor": 0,
       "model_id": "10999951881e4ebebedf47635925e01d"
      }
     },
     "metadata": {},
     "output_type": "display_data"
    },
    {
     "data": {
      "text/plain": [],
      "text/html": [
       "<pre style=\"white-space:pre;overflow-x:auto;line-height:normal;font-family:Menlo,'DejaVu Sans Mono',consolas,'Courier New',monospace\"></pre>\n"
      ]
     },
     "metadata": {},
     "output_type": "display_data"
    },
    {
     "data": {
      "text/plain": [
       "\n"
      ],
      "text/html": [
       "<pre style=\"white-space:pre;overflow-x:auto;line-height:normal;font-family:Menlo,'DejaVu Sans Mono',consolas,'Courier New',monospace\">\n",
       "</pre>\n"
      ]
     },
     "metadata": {},
     "output_type": "display_data"
    },
    {
     "name": "stdout",
     "output_type": "stream",
     "text": [
      "CPU times: user 2min, sys: 3.74 s, total: 2min 4s\n",
      "Wall time: 5min 22s\n"
     ]
    },
    {
     "data": {
      "text/plain": [
       "[Golden(input='Explore the application of space-derived cardiovascular monitoring technologies in predicting and preventing motor vehicle accidents.', actual_output=None, expected_output='Space-derived cardiovascular monitoring technologies, such as the Ecosan-2007, have been used to examine motor vehicle drivers and detect early health issues, with a study showing that over 30% of bus drivers were in prenosological and premorbid states, increasing the risk of motor vehicle accidents.', context=['165Heart Health and Biorhythms\\nStudying spaceflight effects on the cardiovascular system has led to the creation of unique  \\ninstruments that can be used on Earth for the detection of the earliest deviations in health status.  \\nThese technologies are now used to examine motor vehicle drivers and civil aviation pilots to evaluate risks and prevent accidents. Twenty-four-hour electrocardiograms of astronauts were also analyzed to understand the space environment’s effect on biological rhythm and cardiac autonomic nervous activity, which led to recommendations for maintaining a well-balanced biological rhythm on Earth. One of  \\nthese recommendations is maintenance of a regular sleep schedule. To study the sleep patterns of cosmonauts, information is recorded via a miniature device that fits in their pocket, and the data are sent to Earth for analysis of sleep quality. An Earth model of this device is placed under the pillow or mattress to record movements related to heart and breathing.\\nSpace Cardiology for the  Benefit of Health Care\\nThe cardiovascular system plays an exceptionally important role in cosmonauts’ physical adaptation  to long-term weightlessness. The scientific experiment Puls (2002 to the present) and the experiment Pneumocard (2007 through 2012) were performed regularly on the International Space Station (ISS) to study spaceflight effects on the cardiovascular system. Experiment Cardiovector is a logical continuation of the experiments Puls and Pneumocard, which gives the opportunity to assess cardiac function and autonomic cardiovascular and respiratory control using easy, cheap, reliable and non-invasive techniques for cardiovascular monitoring. This scientific experiment involved the whole Russian space station crew on  the ISS and was performed regularly since 2014. These studies have provided a tremendous amount  of information about space cardiology that has resulted  \\nin new technologies being successfully used to evaluate the body’s functional reserves, to determine the degree of stress on regulatory systems, and to assess the risk of development of disease. These new technologies served as the basis both for further development of cardiological systems on the ISS and for the creation of unique sets of instruments that can be used in health care practice. On Earth, the hardware-software complex Ecosan-2007 is a multipurpose instrument for early detection of the earliest deviations in health status. Ecosan-2007 is based on the principle of prenosological diagnosis, \\nThese studies have provided a \\ntremendous amount of information about space cardiology that has resulted in new technologies being successfully used to', '166which arose in space medicine. Prenosological refers \\nto the study of changes in the body that precede their \\ndevelopment. This device is now used to examine motor vehicle drivers, civil aviation pilots, and test subjects in experiments on Earth involving various stress factors.\\nA study that used the Ecosan-2007 to detect early \\nhealth issues among 105 bus drivers showed that more than 30% of the drivers were in prenosological and premorbid states, which sharply increases the risk of motor vehicle accidents. During examinations of civil aviation pilots, the use of Ecosan-2007 showed that long-term, work-related chronic stress increases the risk development of pathologies, which should be considered during the expert evaluation of fitness for flight, especially for people over the age of 50.\\nThe Ecosan-2007 complex was also used in a 520-day \\nexperiment on Earth that simulated a flight to Mars. Monthly examinations of the “Martian” crew located in a pressurized mock-up of an interplanetary spacecraft and, at the same time, of volunteer test subjects in control groups in 12 different regions of the world were performed. Long-term telemedicine of medical-environmental research using the Ecosan-2007 complex will be the prototype of a future system  of individual prenosological monitoring, which will  be based on space cardiology methods.\\nThe results of the studies performed on Earth using the \\nEcosan-2007 complex served as a tool for Earth-based clinical use and as the basis for the further development of space cardiology technologies. The space device Cosmocard is developing the methodology that was used in the Ecosan-2007 for electrocardiogram dispersion mapping and can be used for the non-invasive study of the energy-metabolic characteristics of the cardiac muscle. This method is actively used in clinic for the diagnosis of cardiovascular diseases.  We hope that two new experiments—Cardiovector and Cosmocard—that have been developed for the ISS will allow us to answer questions about spatial distribution of cardiac contraction energy in microgravity, ratio of the right and left part of the heart, and relationship between the hemodynamic and energy features of the heart in different periods of a long-term space mission.\\nExperiment Cardiovector aboard the ISS.\\nImage credit: ROSCOSMOSVascular Studies in Space:  \\nGood for Everyone’s Heart \\n'], retrieval_context=None, additional_metadata=None, comments=None, source_file='../../02-KB-Documents/NASA/iss_benefits_for_humanity_3rded-508.pdf'),\n",
       " Golden(input=\"How do space cardiology research and technologies, such as Ecosan-2007, benefit Earth's healthcare practices?\", actual_output=None, expected_output=\"Space cardiology research and technologies, such as Ecosan-2007, benefit Earth's healthcare practices by providing new technologies for early detection of health deviations, evaluating body's functional reserves, determining stress on regulatory systems, and assessing disease risk.\", context=['165Heart Health and Biorhythms\\nStudying spaceflight effects on the cardiovascular system has led to the creation of unique  \\ninstruments that can be used on Earth for the detection of the earliest deviations in health status.  \\nThese technologies are now used to examine motor vehicle drivers and civil aviation pilots to evaluate risks and prevent accidents. Twenty-four-hour electrocardiograms of astronauts were also analyzed to understand the space environment’s effect on biological rhythm and cardiac autonomic nervous activity, which led to recommendations for maintaining a well-balanced biological rhythm on Earth. One of  \\nthese recommendations is maintenance of a regular sleep schedule. To study the sleep patterns of cosmonauts, information is recorded via a miniature device that fits in their pocket, and the data are sent to Earth for analysis of sleep quality. An Earth model of this device is placed under the pillow or mattress to record movements related to heart and breathing.\\nSpace Cardiology for the  Benefit of Health Care\\nThe cardiovascular system plays an exceptionally important role in cosmonauts’ physical adaptation  to long-term weightlessness. The scientific experiment Puls (2002 to the present) and the experiment Pneumocard (2007 through 2012) were performed regularly on the International Space Station (ISS) to study spaceflight effects on the cardiovascular system. Experiment Cardiovector is a logical continuation of the experiments Puls and Pneumocard, which gives the opportunity to assess cardiac function and autonomic cardiovascular and respiratory control using easy, cheap, reliable and non-invasive techniques for cardiovascular monitoring. This scientific experiment involved the whole Russian space station crew on  the ISS and was performed regularly since 2014. These studies have provided a tremendous amount  of information about space cardiology that has resulted  \\nin new technologies being successfully used to evaluate the body’s functional reserves, to determine the degree of stress on regulatory systems, and to assess the risk of development of disease. These new technologies served as the basis both for further development of cardiological systems on the ISS and for the creation of unique sets of instruments that can be used in health care practice. On Earth, the hardware-software complex Ecosan-2007 is a multipurpose instrument for early detection of the earliest deviations in health status. Ecosan-2007 is based on the principle of prenosological diagnosis, \\nThese studies have provided a \\ntremendous amount of information about space cardiology that has resulted in new technologies being successfully used to', '166which arose in space medicine. Prenosological refers \\nto the study of changes in the body that precede their \\ndevelopment. This device is now used to examine motor vehicle drivers, civil aviation pilots, and test subjects in experiments on Earth involving various stress factors.\\nA study that used the Ecosan-2007 to detect early \\nhealth issues among 105 bus drivers showed that more than 30% of the drivers were in prenosological and premorbid states, which sharply increases the risk of motor vehicle accidents. During examinations of civil aviation pilots, the use of Ecosan-2007 showed that long-term, work-related chronic stress increases the risk development of pathologies, which should be considered during the expert evaluation of fitness for flight, especially for people over the age of 50.\\nThe Ecosan-2007 complex was also used in a 520-day \\nexperiment on Earth that simulated a flight to Mars. Monthly examinations of the “Martian” crew located in a pressurized mock-up of an interplanetary spacecraft and, at the same time, of volunteer test subjects in control groups in 12 different regions of the world were performed. Long-term telemedicine of medical-environmental research using the Ecosan-2007 complex will be the prototype of a future system  of individual prenosological monitoring, which will  be based on space cardiology methods.\\nThe results of the studies performed on Earth using the \\nEcosan-2007 complex served as a tool for Earth-based clinical use and as the basis for the further development of space cardiology technologies. The space device Cosmocard is developing the methodology that was used in the Ecosan-2007 for electrocardiogram dispersion mapping and can be used for the non-invasive study of the energy-metabolic characteristics of the cardiac muscle. This method is actively used in clinic for the diagnosis of cardiovascular diseases.  We hope that two new experiments—Cardiovector and Cosmocard—that have been developed for the ISS will allow us to answer questions about spatial distribution of cardiac contraction energy in microgravity, ratio of the right and left part of the heart, and relationship between the hemodynamic and energy features of the heart in different periods of a long-term space mission.\\nExperiment Cardiovector aboard the ISS.\\nImage credit: ROSCOSMOSVascular Studies in Space:  \\nGood for Everyone’s Heart \\n'], retrieval_context=None, additional_metadata=None, comments=None, source_file='../../02-KB-Documents/NASA/iss_benefits_for_humanity_3rded-508.pdf'),\n",
       " Golden(input='Investigate the effects of microgravity on plant growth and gene expression in space-based experiments.', actual_output=None, expected_output='Mazars, Christian, et al. \"Microsome-associated proteome modifications of Arabidopsis seedlings grown on board the International Space Station reveal the possible effect on plants of space stresses other than microgravity.\" Plant Signaling & Behavior, 9.9 (2014): e29637. Investigation: Genara-A.', context=['55Sandonà, Dorianna, et al. “Adaptation of mouse  \\nskeletal muscle to long-term microgravity in  \\nthe MDS mission.” PLOS ONE  ,7.3 (2012): e33232. \\nInvestigation: Mouse Drawer System.\\nShiba, Dai, et al. “Development of new experimental \\nplatform ‘MARS’—Multiple Artificial-gravity Research \\nSystem—to elucidate the impacts of micro/partial \\ngravity on mice.” Scientific Reports,  7.1 (2017): \\n10837. Investigation: Mouse Epigenetics.\\nSmirnov, M. T., et al. “Microwave radiometric system for \\nremote sensing of the oceans from ISS.” Proceedings \\n“Oceans from Space”, European Commission, EUR \\n24324 EN – European Union – Venice (2010): \\n213-214. Investigation: Microwave Radiometry.  \\nSmirnov, M. T., et al. “Preliminary Results of \\nExperiments with L-band Microwave Radiometric \\nSystem Onboard of ISS.”  Current Problems in \\nRemote Sensing of the Earth from Space (CPRSES), \\nv.9.No.2 (2012): 160-166. Investigation: \\nMicrowave Radiometry.\\nSmith, M. B., et al. “Measurements of the neutron  \\ndose and energy spectrum on the International \\nSpace Station during expeditions ISS-16 to ISS-21.” \\nRadiation Protection Dosimetry,  153.4 (2012): \\n509-533. Investigations: Radi-N and Radia-N2.\\nSmith, Scott M., et al. “Benefits for bone from \\nresistance exercise and nutrition in long-duration \\nspaceflight: evidence from biochemistry and \\ndensitometry.” Journal of Bone and Mineral \\nResearch, 27.9 (2012): 1896-1906.  Investigation: \\nClinical Nutrition Assessment.\\nSmith, M. B., et al. “Bubble-detector measurements  \\nof neutron radiation in the international space station: \\nISS-34 to ISS-37.” Radiation Protection Dosimetry', ' early T-cell activation.” American \\nJournal of Physiology-Regulatory, Integrative and \\nComparative Physiology,  308.6 (2015): R480-R488. \\nInvestigation: Mouse Immunology.\\nMaselli, A., et al. “GRB 130427A: A Nearby Ordinary \\nMonster.” Science, 343.6166 (2014): 48-51. \\nInvestigation: MAXI.\\nMazars, Christian, et al. “Microsome-associated \\nproteome modifications of Arabidopsis seedlings \\ngrown on board the International Space Station \\nreveal the possible effect on plants of space stresses \\nother than microgravity.” Plant Signaling & Behavior,  \\n9.9 (2014): e29637. Investigation: Genara-A.\\nMehta, S. K., et al. “Reactivation of latent viruses  \\nis associated with increased plasma cytokines  \\nin astronauts.” Cytokine,  61.1 (2013): 205-209. \\nInvestigation: Epstein-Barr.Mialdun, A., et al. “Measurement of Soret coefficients  \\nin a ternary mixture of toluene–methanol–cyclohexane \\nin convection-free environment.” The Journal of \\nChemical Physics,  148.4 (2018): 044506. \\nInvestigation: SCMIX-2, DCMIX-3.\\nMurata, Yasuhiko, et al. “Histological and transcriptomic \\nanalysis of adult Japanese medaka sampled onboard \\nthe International Space Station.” PLOS ONE,  10.10 \\n(2015): e0138799. Investigation: Medaka \\nOsteoclast.\\nNarici, Livio, et al. “Performances of Kevlar and \\nPolyethylene as radiation shielding on-board the \\nInternational Space Station in high latitude radiation \\nenvironment.” Scientific Reports,  7.1 (2017): 1644. \\nInvestigation: Altea-Shield.\\nNayagam, Vedha, et al. “Cool-flame extinction during \\nn-alkane droplet combustion in microgravity.” \\nCombustion and', '52References Cited \\nAkvilonova, A. B., et al. “Analysis of passive microwave \\nL-band data obtained in experiment on RS ISS.” \\nCurrent problems in remote sensing of the earth  \\nfrom space (CPRSES),  10.2 (2013): 252-262. \\nInvestigation: Microwave Radiometry.\\nAlperin, Noam, and Bagci, Ahmet M. “Spaceflight-\\nInduced Visual Impairment and Globe Deformations \\nin Astronauts Are Linked to Orbital Cerebrospinal \\nFluid Volume Increase.” Intracranial Pressure & \\nNeuromonitoring XVI. Springer, Cham (2018): \\n215-219. Investigation: VIIP .\\nAmbrožová, Iva, et al. “Cosmic radiation monitoring  \\nat low-Earth orbit by means of thermoluminescence \\nand plastic nuclear track detectors.” Radiation \\nMeasurements, 106 (2017): 262-266. Investigation: \\nMatryoshka-R.\\nArbeille, Philippe, Provost R., and Zuj, K. “Carotid  \\nand femoral artery intima-media thickness during  \\n6 months of spaceflight.” Aerospace Medicine  \\nand Human Performance,  87.5 (2016): 449-453. \\nInvestigations: CCIS and Vascular.\\nBerger, Thomas, et al. “DOSIS & DOSIS 3D: long-term \\ndose monitoring onboard the Columbus Laboratory \\nof the International Space Station (ISS).” Journal of \\nSpace Weather and Space Climate,  6 (2016): A39. \\nInvestigations: DOSIS and DOSIS 3D.\\nBolsée, David, et al. “SOLAR/SOLSPEC mission on \\nISS: In-flight performance for SSI measurements in \\nthe UV.” Astronomy & Astrophysics, 600 (2017): A21. \\nInvestigation: SOLSPEC.\\nBryce, Casey C., et al. “Impact shocked rocks as \\nprotective habitats on an anoxic early Earth.” \\nInternational Journal of Astrobiology,  14.1 (2015): \\n115-122. Investigation'], retrieval_context=None, additional_metadata=None, comments=None, source_file='../../02-KB-Documents/NASA/iss_benefits_for_humanity_3rded-508.pdf'),\n",
       " Golden(input='Investigate the effects of microgravity on mouse skeletal muscle adaptation.', actual_output=None, expected_output='The effects of microgravity on mouse skeletal muscle adaptation were investigated in the Mouse Drawer System (MDS) mission, as reported in the study \"Adaptation of mouse skeletal muscle to long-term microgravity in the MDS mission\" (PLOS ONE, 2012).', context=['55Sandonà, Dorianna, et al. “Adaptation of mouse  \\nskeletal muscle to long-term microgravity in  \\nthe MDS mission.” PLOS ONE  ,7.3 (2012): e33232. \\nInvestigation: Mouse Drawer System.\\nShiba, Dai, et al. “Development of new experimental \\nplatform ‘MARS’—Multiple Artificial-gravity Research \\nSystem—to elucidate the impacts of micro/partial \\ngravity on mice.” Scientific Reports,  7.1 (2017): \\n10837. Investigation: Mouse Epigenetics.\\nSmirnov, M. T., et al. “Microwave radiometric system for \\nremote sensing of the oceans from ISS.” Proceedings \\n“Oceans from Space”, European Commission, EUR \\n24324 EN – European Union – Venice (2010): \\n213-214. Investigation: Microwave Radiometry.  \\nSmirnov, M. T., et al. “Preliminary Results of \\nExperiments with L-band Microwave Radiometric \\nSystem Onboard of ISS.”  Current Problems in \\nRemote Sensing of the Earth from Space (CPRSES), \\nv.9.No.2 (2012): 160-166. Investigation: \\nMicrowave Radiometry.\\nSmith, M. B., et al. “Measurements of the neutron  \\ndose and energy spectrum on the International \\nSpace Station during expeditions ISS-16 to ISS-21.” \\nRadiation Protection Dosimetry,  153.4 (2012): \\n509-533. Investigations: Radi-N and Radia-N2.\\nSmith, Scott M., et al. “Benefits for bone from \\nresistance exercise and nutrition in long-duration \\nspaceflight: evidence from biochemistry and \\ndensitometry.” Journal of Bone and Mineral \\nResearch, 27.9 (2012): 1896-1906.  Investigation: \\nClinical Nutrition Assessment.\\nSmith, M. B., et al. “Bubble-detector measurements  \\nof neutron radiation in the international space station: \\nISS-34 to ISS-37.” Radiation Protection Dosimetry', ' early T-cell activation.” American \\nJournal of Physiology-Regulatory, Integrative and \\nComparative Physiology,  308.6 (2015): R480-R488. \\nInvestigation: Mouse Immunology.\\nMaselli, A., et al. “GRB 130427A: A Nearby Ordinary \\nMonster.” Science, 343.6166 (2014): 48-51. \\nInvestigation: MAXI.\\nMazars, Christian, et al. “Microsome-associated \\nproteome modifications of Arabidopsis seedlings \\ngrown on board the International Space Station \\nreveal the possible effect on plants of space stresses \\nother than microgravity.” Plant Signaling & Behavior,  \\n9.9 (2014): e29637. Investigation: Genara-A.\\nMehta, S. K., et al. “Reactivation of latent viruses  \\nis associated with increased plasma cytokines  \\nin astronauts.” Cytokine,  61.1 (2013): 205-209. \\nInvestigation: Epstein-Barr.Mialdun, A., et al. “Measurement of Soret coefficients  \\nin a ternary mixture of toluene–methanol–cyclohexane \\nin convection-free environment.” The Journal of \\nChemical Physics,  148.4 (2018): 044506. \\nInvestigation: SCMIX-2, DCMIX-3.\\nMurata, Yasuhiko, et al. “Histological and transcriptomic \\nanalysis of adult Japanese medaka sampled onboard \\nthe International Space Station.” PLOS ONE,  10.10 \\n(2015): e0138799. Investigation: Medaka \\nOsteoclast.\\nNarici, Livio, et al. “Performances of Kevlar and \\nPolyethylene as radiation shielding on-board the \\nInternational Space Station in high latitude radiation \\nenvironment.” Scientific Reports,  7.1 (2017): 1644. \\nInvestigation: Altea-Shield.\\nNayagam, Vedha, et al. “Cool-flame extinction during \\nn-alkane droplet combustion in microgravity.” \\nCombustion and', '52References Cited \\nAkvilonova, A. B., et al. “Analysis of passive microwave \\nL-band data obtained in experiment on RS ISS.” \\nCurrent problems in remote sensing of the earth  \\nfrom space (CPRSES),  10.2 (2013): 252-262. \\nInvestigation: Microwave Radiometry.\\nAlperin, Noam, and Bagci, Ahmet M. “Spaceflight-\\nInduced Visual Impairment and Globe Deformations \\nin Astronauts Are Linked to Orbital Cerebrospinal \\nFluid Volume Increase.” Intracranial Pressure & \\nNeuromonitoring XVI. Springer, Cham (2018): \\n215-219. Investigation: VIIP .\\nAmbrožová, Iva, et al. “Cosmic radiation monitoring  \\nat low-Earth orbit by means of thermoluminescence \\nand plastic nuclear track detectors.” Radiation \\nMeasurements, 106 (2017): 262-266. Investigation: \\nMatryoshka-R.\\nArbeille, Philippe, Provost R., and Zuj, K. “Carotid  \\nand femoral artery intima-media thickness during  \\n6 months of spaceflight.” Aerospace Medicine  \\nand Human Performance,  87.5 (2016): 449-453. \\nInvestigations: CCIS and Vascular.\\nBerger, Thomas, et al. “DOSIS & DOSIS 3D: long-term \\ndose monitoring onboard the Columbus Laboratory \\nof the International Space Station (ISS).” Journal of \\nSpace Weather and Space Climate,  6 (2016): A39. \\nInvestigations: DOSIS and DOSIS 3D.\\nBolsée, David, et al. “SOLAR/SOLSPEC mission on \\nISS: In-flight performance for SSI measurements in \\nthe UV.” Astronomy & Astrophysics, 600 (2017): A21. \\nInvestigation: SOLSPEC.\\nBryce, Casey C., et al. “Impact shocked rocks as \\nprotective habitats on an anoxic early Earth.” \\nInternational Journal of Astrobiology,  14.1 (2015): \\n115-122. Investigation'], retrieval_context=None, additional_metadata=None, comments=None, source_file='../../02-KB-Documents/NASA/iss_benefits_for_humanity_3rded-508.pdf'),\n",
       " Golden(input='What risks did Carl Sagan highlight in asteroid deflection efforts?', actual_output=None, expected_output='Carl Sagan highlighted the dangers of asteroid deflection efforts in his article \"Dangers of Asteroid Deflection\" in Nature (1994) and in his book \"Pale Blue Dot\" (pp. 254-255).', context=[' from global to regional defensive systems.\\n40. Carl Sagan and Steve Ostro, “Dangers of Asteroid Deflection,” Nature  369 (1994): \\n501; see also Sagan, Pale Blue Dot , pp. 254–255.\\n41. Chapman did have his name associated with the meeting proceedings, in which his \\nnumerous objections were noted.\\n42. Robert L. Park, “Star Warriors on Sky Patrol,” New York Times  (25 March 1992): 23,  \\nhttps://www.nytimes.com/1992/03/25/opinion/star-warriors-on-sky-patrol.html?  \\nsearchResultPosition=1  (accessed 29 May 2019). In the Wall Street Journal , Bob Davis \\nwrote a very skeptical article entitled “Never Mind the Peace Dividend, the Killer \\nAsteroids Are Coming.” This article is reprinted in P. R. Weissman, “The Comet and \\nAsteroid Impact Hazard in Perspective,” in Hazards Due to Comets and Asteroids , ed. \\nT. Gehrels (Tucson, AZ: University of Arizona Press, 1994), pp. 1191–1212.\\n43. Morrison interview.'], retrieval_context=None, additional_metadata=None, comments=None, source_file='../../02-KB-Documents/NASA/a_history_of_near-earth_object_research_tagged.pdf'),\n",
       " Golden(input='What specific asteroid-related danger did Carl Sagan highlight in his work?', actual_output=None, expected_output='Asteroid deflection.', context=[' from global to regional defensive systems.\\n40. Carl Sagan and Steve Ostro, “Dangers of Asteroid Deflection,” Nature  369 (1994): \\n501; see also Sagan, Pale Blue Dot , pp. 254–255.\\n41. Chapman did have his name associated with the meeting proceedings, in which his \\nnumerous objections were noted.\\n42. Robert L. Park, “Star Warriors on Sky Patrol,” New York Times  (25 March 1992): 23,  \\nhttps://www.nytimes.com/1992/03/25/opinion/star-warriors-on-sky-patrol.html?  \\nsearchResultPosition=1  (accessed 29 May 2019). In the Wall Street Journal , Bob Davis \\nwrote a very skeptical article entitled “Never Mind the Peace Dividend, the Killer \\nAsteroids Are Coming.” This article is reprinted in P. R. Weissman, “The Comet and \\nAsteroid Impact Hazard in Perspective,” in Hazards Due to Comets and Asteroids , ed. \\nT. Gehrels (Tucson, AZ: University of Arizona Press, 1994), pp. 1191–1212.\\n43. Morrison interview.'], retrieval_context=None, additional_metadata=None, comments=None, source_file='../../02-KB-Documents/NASA/a_history_of_near-earth_object_research_tagged.pdf'),\n",
       " Golden(input='What is the mean diameter of the satellite orbiting the 1.5 km primary asteroid?', actual_output=None, expected_output='About 500 meters.', context=['Chapter 7: Studying the Rubble of the Solar System 189\\nOf particular interest was the radar shape modeling of Aten asteroid \\n(66391) 1999 KW4, which revealed an equatorial bulge that had likely sur -\\nvived after the asteroid had spun up via the YORP process and shed material \\nthat re-accreted into a satellite. The shape of the primary and the presence of the satellite were revealed as a result of Arecibo and Goldstone radar observa -\\ntions taken in May 2001.\\n41 Ostro and colleagues concluded that this satel -\\nlite, with a mean diameter of about 500 meters, currently orbits the primary \\nasteroid (mean diameter about 1.5 kilometers) every 17.4 hours. The primary \\nhas a rapid rotation period of about 2.8 hours, although earlier in its lifetime it presumably spun a bit faster when shedding material.\\nAs used in 2018, this 3D modeling technique begins with an attempt to fit \\nthe radar dataset with an ellipsoid, and if the spin-pole direction is not known in advance, then a trial-and-error grid search is undertaken whereby the pole \\ndirection is systematically varied until there is a best fit of the radar observa -\\ntions. The technique can then proceed using more sophisticated shape repre -\\nsentations until the rotating shape model allows an accurate representation of the time history of the observed radar frequency bandwidths. To help ensure \\nthat the derived shape model evolves toward reality, certain constraints or penalties are assigned if the model begins to evolve into an unrealistic shape. \\nWith regard to these constraints, JPL radar scientist Lance Benner notes, \\n“[I]t’s very easy to get a model that looks kind of like a sea urchin, that pro -\\nvides a really nice fit to the data, but there’s no way that asteroids look like sea \\nurchins.”\\n42 By 2015, the modeling software process could deal with one object \\nof a binary system as well as time-variable spin rates and spin impulses. The former enabled the first YORP detection using radar data by Patrick Taylor of \\nCornell University and colleagues, while the latter is important for analyzing spin-state changes due to close planetary encounters.\\n43\\nFor close Earth-approaching asteroids with strong signals (high signal-to-\\nnoise ratio), the resolution'], retrieval_context=None, additional_metadata=None, comments=None, source_file='../../02-KB-Documents/NASA/a_history_of_near-earth_object_research_tagged.pdf'),\n",
       " Golden(input='Compare the roles of Arecibo and Goldstone radar observations in studying asteroids, particularly in the case of (66391) 1999 KW4.', actual_output=None, expected_output='Arecibo and Goldstone radar observations played a collaborative role in studying asteroids, particularly in the case of (66391) 1999 KW4, as they jointly revealed the shape of the primary and the presence of the satellite.', context=['Chapter 7: Studying the Rubble of the Solar System 189\\nOf particular interest was the radar shape modeling of Aten asteroid \\n(66391) 1999 KW4, which revealed an equatorial bulge that had likely sur -\\nvived after the asteroid had spun up via the YORP process and shed material \\nthat re-accreted into a satellite. The shape of the primary and the presence of the satellite were revealed as a result of Arecibo and Goldstone radar observa -\\ntions taken in May 2001.\\n41 Ostro and colleagues concluded that this satel -\\nlite, with a mean diameter of about 500 meters, currently orbits the primary \\nasteroid (mean diameter about 1.5 kilometers) every 17.4 hours. The primary \\nhas a rapid rotation period of about 2.8 hours, although earlier in its lifetime it presumably spun a bit faster when shedding material.\\nAs used in 2018, this 3D modeling technique begins with an attempt to fit \\nthe radar dataset with an ellipsoid, and if the spin-pole direction is not known in advance, then a trial-and-error grid search is undertaken whereby the pole \\ndirection is systematically varied until there is a best fit of the radar observa -\\ntions. The technique can then proceed using more sophisticated shape repre -\\nsentations until the rotating shape model allows an accurate representation of the time history of the observed radar frequency bandwidths. To help ensure \\nthat the derived shape model evolves toward reality, certain constraints or penalties are assigned if the model begins to evolve into an unrealistic shape. \\nWith regard to these constraints, JPL radar scientist Lance Benner notes, \\n“[I]t’s very easy to get a model that looks kind of like a sea urchin, that pro -\\nvides a really nice fit to the data, but there’s no way that asteroids look like sea \\nurchins.”\\n42 By 2015, the modeling software process could deal with one object \\nof a binary system as well as time-variable spin rates and spin impulses. The former enabled the first YORP detection using radar data by Patrick Taylor of \\nCornell University and colleagues, while the latter is important for analyzing spin-state changes due to close planetary encounters.\\n43\\nFor close Earth-approaching asteroids with strong signals (high signal-to-\\nnoise ratio), the resolution'], retrieval_context=None, additional_metadata=None, comments=None, source_file='../../02-KB-Documents/NASA/a_history_of_near-earth_object_research_tagged.pdf'),\n",
       " Golden(input='Compare the objectives and outcomes of Zond 7 with those of other Zond missions, such as Zond 5 and Zond 6.', actual_output=None, expected_output='Zond 7, 5, and 6 all had circumlunar objectives. Zond 5 and 6 were successful, while Zond 7 failed.', context=['1 / 13L c. 5,375 kg 01-20-69 / 04:14:36 NIIP-5 / 81L Proton-K / 237-01 USSR TsKBEM circumlunar F\\nZond 7 7K-L1 / 11 c. 5,375 kg 08-07-69 / 23:48:06 NIIP-5 / 81L Proton-K / 243-01 USSR TsKBEM circumlunar S\\nZond 8 7K-L1 / 14 c. 5,375 kg 10-20-70 / 19:55:39 NIIP-5 / 81L Proton-K / 250-01 USSR TsKBEM circumlunar S\\nN1 DEEP SPACE TESTS\\n[N1] 7K-L1S / 2 6,900 kg 02-21-69 / 09:18:07 NIIP-5 / 110P N1 / 3L USSR TsKBEM lunar orbit F\\n[N1] 7K-L1S / 5 c. 6,900 kg 07-03-69 / 20:18:32 NIIP-5 / 110P N1 / 15005 USSR TsKBEM lunar orbit F\\n[N1] 7K-LOK / 6A c. 9,500 kg 11-23-72 / 06:11:55 NIIP-5 / 110L N1 / 15007 USSR TsKBEM lunar orbit F', '-L1 / 9L c. 5,375 kg 09-14-68 / 21:42:11 NIIP-5 / 81L Proton-K / 234-01 USSR TsKBEM circumlunar S\\n99 Pioneer IX Pioneer-D 65.36 11-08-68 / 09:46:29 CK / 17B Thor Delta E1 / 60 USA NASA / ARC solar orbit S\\n100 Zond 6 7K-L1 / 12L c. 5,375 kg 11-10-68 / 19:11:31 NIIP-5 / 81L Proton-K / 235-01 USSR TsKBEM circumlunar S\\n1969\\n101 Venera 5 2V / 330 1,130 kg 01-05-69 / 06:28:08 NIIP-5 / 1 Molniya-M / V716-72 USSR Lavochkin Venus landing S\\n102 Venera 6 2V / 331 1,130 kg 01-10-69 / 05:51:52 NIIP-5 / 1 Molniya-M / V716-73 USSR Lavochkin Venus landing S\\n103 [Zond] 7K-L1 / 13L c. 5,375 kg 01-20-69 / 04:14:36 NIIP-5 / 81L Proton-K / 237-01 USSR TsKBEM circumlunar F\\n104 [Luna/Lunokhod] Ye-8 / 201 c. 5,700 kg 02-19-69 / 06:48:48 NIIP-5 / 81P Proton-K / 239-01 USSR Lavochkin lunar rover F\\n105 [N1] 7K-L1S / 2 6,900 kg 02-21-69 / 09:18:07 NIIP-5 / 110P N1 / 3L USSR TsKBEM lunar orbit F\\n106 Mariner VI Mariner-69F 381 kg 02-25-69 / 01:29:02 CK / 36B Atlas Centaur / 20 USA NASA / JPL Mars flyby S\\n107 [Mars] M-69 / 521 c. 4,850 kg 03-27-69 / 10:40:45 NIIP-5 / 81L Proton-K / 240-01 USSR Lavochkin Mars orbit F\\n108 Mariner VII Mariner-69G 381 kg 03-', ' F\\n[Zond] 3MV-1A / 4A c. 800 kg 02-19-64 / 05:47:40 NIIP-5 / 1 Molniya / G15000-26 USSR OKB-1 Venus flyby F\\nZond 2 3MV-4A / 2 996 kg 11-30-64 / 13:25 NIIP-5 / 1 Molniya / G15000-29 USSR OKB-1 Mars flyby P\\nZond 3 3MV-4A / 3 950 kg 07-18-65 / 14:32 NIIP-5 / 1 Molniya / U103-32 USSR OKB-1 lunar flyby S\\nZOND (LATER)\\n[Zond] 7K-L1 / 4L c. 5,375 kg 09-27-67 / 22:11:54 NIIP-5 / 81L Proton-K / 229-01 USSR TsKBEM circumlunar F\\n[Zond] 7K-L1 / 5L c. 5,375 kg 11-22-67 / 19:07:59 NIIP-5 / 81P Proton-K / 230-01 USSR TsKBEM circumlunar F\\nZond 4 7K-L1 / 6L c. 5,375 kg 03-02-68 / 18:29:23 NIIP-5 / 81L Proton-K / 231-01 USSR TsKBEM deep space P\\n[Zond] 7K-L1 / 7L c. 5,375 kg 04-22-68 / 23:01:27 NIIP-5 / 81P Proton-K / 232-01 USSR TsKBEM circumlunar F\\nZond 5 7K-L1 / 9L c. 5,375 kg 09-14-68 / 21:42:11 NIIP-5 / 81L Proton-K / 234-01 USSR TsKBEM circumlunar S\\nZond 6 7K-L1 / 12L c. 5,375 kg 11-10-68 / 19:11:31 NIIP-5 / 81L Proton-K / 235-01 USSR TsKBEM circumlunar S\\n[Zond] 7K-L1 / 13L c. 5,375 kg 01-20-69 / 04:14:'], retrieval_context=None, additional_metadata=None, comments=None, source_file='../../02-KB-Documents/NASA/beyond-earth-tagged.pdf'),\n",
       " Golden(input=\"What was the USSR's primary launch vehicle and payload mass range for lunar and planetary missions during the 1960s?\", actual_output=None, expected_output=\"The USSR's primary launch vehicle for lunar and planetary missions during the 1960s was the Proton-K, and the payload mass range was approximately 5,375 kg to 9,500 kg.\", context=['1 / 13L c. 5,375 kg 01-20-69 / 04:14:36 NIIP-5 / 81L Proton-K / 237-01 USSR TsKBEM circumlunar F\\nZond 7 7K-L1 / 11 c. 5,375 kg 08-07-69 / 23:48:06 NIIP-5 / 81L Proton-K / 243-01 USSR TsKBEM circumlunar S\\nZond 8 7K-L1 / 14 c. 5,375 kg 10-20-70 / 19:55:39 NIIP-5 / 81L Proton-K / 250-01 USSR TsKBEM circumlunar S\\nN1 DEEP SPACE TESTS\\n[N1] 7K-L1S / 2 6,900 kg 02-21-69 / 09:18:07 NIIP-5 / 110P N1 / 3L USSR TsKBEM lunar orbit F\\n[N1] 7K-L1S / 5 c. 6,900 kg 07-03-69 / 20:18:32 NIIP-5 / 110P N1 / 15005 USSR TsKBEM lunar orbit F\\n[N1] 7K-LOK / 6A c. 9,500 kg 11-23-72 / 06:11:55 NIIP-5 / 110L N1 / 15007 USSR TsKBEM lunar orbit F', '-L1 / 9L c. 5,375 kg 09-14-68 / 21:42:11 NIIP-5 / 81L Proton-K / 234-01 USSR TsKBEM circumlunar S\\n99 Pioneer IX Pioneer-D 65.36 11-08-68 / 09:46:29 CK / 17B Thor Delta E1 / 60 USA NASA / ARC solar orbit S\\n100 Zond 6 7K-L1 / 12L c. 5,375 kg 11-10-68 / 19:11:31 NIIP-5 / 81L Proton-K / 235-01 USSR TsKBEM circumlunar S\\n1969\\n101 Venera 5 2V / 330 1,130 kg 01-05-69 / 06:28:08 NIIP-5 / 1 Molniya-M / V716-72 USSR Lavochkin Venus landing S\\n102 Venera 6 2V / 331 1,130 kg 01-10-69 / 05:51:52 NIIP-5 / 1 Molniya-M / V716-73 USSR Lavochkin Venus landing S\\n103 [Zond] 7K-L1 / 13L c. 5,375 kg 01-20-69 / 04:14:36 NIIP-5 / 81L Proton-K / 237-01 USSR TsKBEM circumlunar F\\n104 [Luna/Lunokhod] Ye-8 / 201 c. 5,700 kg 02-19-69 / 06:48:48 NIIP-5 / 81P Proton-K / 239-01 USSR Lavochkin lunar rover F\\n105 [N1] 7K-L1S / 2 6,900 kg 02-21-69 / 09:18:07 NIIP-5 / 110P N1 / 3L USSR TsKBEM lunar orbit F\\n106 Mariner VI Mariner-69F 381 kg 02-25-69 / 01:29:02 CK / 36B Atlas Centaur / 20 USA NASA / JPL Mars flyby S\\n107 [Mars] M-69 / 521 c. 4,850 kg 03-27-69 / 10:40:45 NIIP-5 / 81L Proton-K / 240-01 USSR Lavochkin Mars orbit F\\n108 Mariner VII Mariner-69G 381 kg 03-', ' F\\n[Zond] 3MV-1A / 4A c. 800 kg 02-19-64 / 05:47:40 NIIP-5 / 1 Molniya / G15000-26 USSR OKB-1 Venus flyby F\\nZond 2 3MV-4A / 2 996 kg 11-30-64 / 13:25 NIIP-5 / 1 Molniya / G15000-29 USSR OKB-1 Mars flyby P\\nZond 3 3MV-4A / 3 950 kg 07-18-65 / 14:32 NIIP-5 / 1 Molniya / U103-32 USSR OKB-1 lunar flyby S\\nZOND (LATER)\\n[Zond] 7K-L1 / 4L c. 5,375 kg 09-27-67 / 22:11:54 NIIP-5 / 81L Proton-K / 229-01 USSR TsKBEM circumlunar F\\n[Zond] 7K-L1 / 5L c. 5,375 kg 11-22-67 / 19:07:59 NIIP-5 / 81P Proton-K / 230-01 USSR TsKBEM circumlunar F\\nZond 4 7K-L1 / 6L c. 5,375 kg 03-02-68 / 18:29:23 NIIP-5 / 81L Proton-K / 231-01 USSR TsKBEM deep space P\\n[Zond] 7K-L1 / 7L c. 5,375 kg 04-22-68 / 23:01:27 NIIP-5 / 81P Proton-K / 232-01 USSR TsKBEM circumlunar F\\nZond 5 7K-L1 / 9L c. 5,375 kg 09-14-68 / 21:42:11 NIIP-5 / 81L Proton-K / 234-01 USSR TsKBEM circumlunar S\\nZond 6 7K-L1 / 12L c. 5,375 kg 11-10-68 / 19:11:31 NIIP-5 / 81L Proton-K / 235-01 USSR TsKBEM circumlunar S\\n[Zond] 7K-L1 / 13L c. 5,375 kg 01-20-69 / 04:14:'], retrieval_context=None, additional_metadata=None, comments=None, source_file='../../02-KB-Documents/NASA/beyond-earth-tagged.pdf'),\n",
       " Golden(input='Identify the six scientific instruments onboard OSIRIS-REx, including camera suites and spectrometers, that facilitate asteroid exploration.', actual_output=None, expected_output='The six scientific instruments onboard OSIRIS-REx are: \\n\\n1. Camera Suite (PolyCam, MapCam, SamCam) \\n2. Laser Altimeter (OLA) \\n3. Visible and IR Spectrometer (OVIRS) \\n4. Thermal Emission Spectrometer (OTES) \\n5. Regolith X-Ray Imaging Spectrometer (REXIS) \\n6. Touch-And-Go Sample Acquisition Mechanism (TAGSAM)', context=['309 2016  \\nScientific Instruments:\\n1. Camera Suite (P olyCam, MapCam, \\nSamCam) (OCAMS OSIRIS-REx)\\n2. Laser Altimeter (OLA OSIRIS-REx)\\n3. V isible and IR Spectrometer (OVIRS \\nOSIRIS-REx)\\n4. Thermal Emission Spectrometer (OTES \\nOSIRIS-REx)\\n5. Regolith X-Ray Imaging Spectrometer \\n(REXIS OSIRIS-REx)\\n6. T ouch-And-Go Sample Acquisition \\nMechanism (TAGSAM)\\nNASA’s OSIRIS-REx spacecraft is shown here in an artist’s impression. OSIRIS-REx is the third mission in NASA’s New \\nFrontiers Program.  Credit: NASA/University of ArizonaResults: The Origins, Spectral Interpretation, \\nResource Identification, Security, Regolith \\nExplorer (OSIRIS-REx) mission is the third major \\nplanetary science mission falling under NASA’s \\nNew Frontiers Program (after New Horizons launched in 2006 and Juno launched in 2011). The goal of the mission is to reach a near-Earth \\nasteroid 101955 Bennu (formerly known as 1999 \\nRQ36), collect a 59.5-gram sample, and then return it to Earth. The science mission, developed by scientists at the University of Arizona, will open up the possibilities to glean more information on how planets formed and how life began and help \\nscientists understand asteroids that could impact \\nEarth in the future. About 55 minutes after launch, after a boost by the Centaur upper stage, OSIRIS-REx separated from the Atlas V and the solar \\narrays deployed. At 17:30\\xa0UT, on 9 September, the \\nspacecraft crossed the orbital path of the Moon at a range of 386,500 kilometers. Three days later, it was in heliocentric orbit at 0.77 × 1.17 AU. \\nBeginning 19\\xa0 September, the mission team acti -\\nvated all of its scientific instruments. The larger \\nTrajectory Correction Maneuver (TCM) thrust-ers were fired (for 12 seconds) for the first time on 7 October for a mid-course correction. The'], retrieval_context=None, additional_metadata=None, comments=None, source_file='../../02-KB-Documents/NASA/beyond-earth-tagged.pdf'),\n",
       " Golden(input=\"Compare the OSIRIS-REx mission's goals and instruments to those of New Horizons and Juno, highlighting their similarities and differences.\", actual_output=None, expected_output=\"OSIRIS-REx, New Horizons, and Juno are all part of NASA's New Frontiers Program, but they have distinct goals and instruments. OSIRIS-REx aims to collect a sample from asteroid 101955 Bennu and return it to Earth, focusing on planetary formation and asteroid threats. Its instruments include a camera suite, laser altimeter, spectrometers, and a sample acquisition mechanism. In contrast, New Horizons flew by Pluto and the Kuiper Belt, studying their geology and composition, with instruments like a camera, spectrometer, and radio science experiment. Juno, orbiting Jupiter, investigates the planet's atmosphere and magnetic field, using instruments such as a microwave radiometer, infrared spectrometer, and magnetometer. While all three missions explore our solar system, their objectives and tools differ significantly.\", context=['309 2016  \\nScientific Instruments:\\n1. Camera Suite (P olyCam, MapCam, \\nSamCam) (OCAMS OSIRIS-REx)\\n2. Laser Altimeter (OLA OSIRIS-REx)\\n3. V isible and IR Spectrometer (OVIRS \\nOSIRIS-REx)\\n4. Thermal Emission Spectrometer (OTES \\nOSIRIS-REx)\\n5. Regolith X-Ray Imaging Spectrometer \\n(REXIS OSIRIS-REx)\\n6. T ouch-And-Go Sample Acquisition \\nMechanism (TAGSAM)\\nNASA’s OSIRIS-REx spacecraft is shown here in an artist’s impression. OSIRIS-REx is the third mission in NASA’s New \\nFrontiers Program.  Credit: NASA/University of ArizonaResults: The Origins, Spectral Interpretation, \\nResource Identification, Security, Regolith \\nExplorer (OSIRIS-REx) mission is the third major \\nplanetary science mission falling under NASA’s \\nNew Frontiers Program (after New Horizons launched in 2006 and Juno launched in 2011). The goal of the mission is to reach a near-Earth \\nasteroid 101955 Bennu (formerly known as 1999 \\nRQ36), collect a 59.5-gram sample, and then return it to Earth. The science mission, developed by scientists at the University of Arizona, will open up the possibilities to glean more information on how planets formed and how life began and help \\nscientists understand asteroids that could impact \\nEarth in the future. About 55 minutes after launch, after a boost by the Centaur upper stage, OSIRIS-REx separated from the Atlas V and the solar \\narrays deployed. At 17:30\\xa0UT, on 9 September, the \\nspacecraft crossed the orbital path of the Moon at a range of 386,500 kilometers. Three days later, it was in heliocentric orbit at 0.77 × 1.17 AU. \\nBeginning 19\\xa0 September, the mission team acti -\\nvated all of its scientific instruments. The larger \\nTrajectory Correction Maneuver (TCM) thrust-ers were fired (for 12 seconds) for the first time on 7 October for a mid-course correction. The'], retrieval_context=None, additional_metadata=None, comments=None, source_file='../../02-KB-Documents/NASA/beyond-earth-tagged.pdf'),\n",
       " Golden(input='Analyze the impact of rotor blade stalling on longitudinal stability in high-speed forward flight.', actual_output=None, expected_output='Rotor blade stalling in high-speed forward flight intensifies longitudinal instability, causing upward pitching, violent periodic stick forces, and vibration, making it difficult to hold steady conditions.', context=['665 Document 5-44 (a–b)\\nLongitudinal Stability in Forward Flight : During the course of the perfor -\\nmance tests, considerable flying was done at relatively high speeds, approaching the \\nlimits imposed by blade stalling. It was found quite difficult to hold steady condi -\\ntions because of a strong tendency of the machine to diverge in pitch, creating the \\nimpression of balancing on a ball. This characteristic seemed far more pronounced \\nwith some of the rotors tested than with others, but was always troublesome. Upward \\npitching was most troublesome as it frequently precipitated or intensified stalling, \\nwhich added to the difficulties because it increased the tendency to pitch up and \\nwas accompanied by rather violent periodic stick forces and vibration. The forward \\ndisplacement of the control from trim necessary to check some of these pitching \\nmotions suggested that a short delay in applying corrective control would allow a \\nmaneuver severe enough that control would be lost. Although there seemed ample \\ncontrol to stop downward pitching, an uncomfortable amount of forward control \\nwas again required in order to check the subsequent upward pitching. These char -\\nacteristics suggested a pronounced type of instability.\\nThe tendency to depart from the trim speed and the necessity of applying \\nappreciable control deflection against a pitching maneuver involving acceleration, \\ninitiated either by control or by external disturbances, is apparent throughout the \\nspeed range normally used in forward flight. It becomes much less pronounced, \\nhowever, at the lower speeds.\\nShortly after the embryo pilot experiences forward flight, he is impressed with \\nthe necessity for having to constantly fly the helicopter. At first thought the reasons \\nfor this situation are not clear. It is common knowledge that a flapping rotor tilts \\nto the rear if speed is increased, thus tending to cause the machine to return to \\nthe original speed. This condition constitutes stability of the rotor with respect to \\nspeed. Wind-tunnel tests of the R-4 fuselage have shown it to be unstable, but this \\ninstability is evidently outweighed by the rotor stability just discussed, inasmuch \\nas measurements of stick position have shown that the stick does move forward to \\ntrim at increasing steady speeds. Furthermore, observation and measurements have \\nindicated that the static stick-force gradient with respect to speed is small, but has \\nbeen either unstable'], retrieval_context=None, additional_metadata=None, comments=None, source_file='../../02-KB-Documents/NASA/the_wind_and_beyond_tagged.pdf'),\n",
       " Golden(input=\"Considering the rotor's speed stability and fuselage's instability, what longitudinal stability characteristics are exhibited by the helicopter in forward flight?\", actual_output=None, expected_output='The helicopter exhibits a pronounced type of instability in forward flight, characterized by a tendency to diverge in pitch, particularly upward pitching, which can lead to loss of control if not corrected promptly.', context=['665 Document 5-44 (a–b)\\nLongitudinal Stability in Forward Flight : During the course of the perfor -\\nmance tests, considerable flying was done at relatively high speeds, approaching the \\nlimits imposed by blade stalling. It was found quite difficult to hold steady condi -\\ntions because of a strong tendency of the machine to diverge in pitch, creating the \\nimpression of balancing on a ball. This characteristic seemed far more pronounced \\nwith some of the rotors tested than with others, but was always troublesome. Upward \\npitching was most troublesome as it frequently precipitated or intensified stalling, \\nwhich added to the difficulties because it increased the tendency to pitch up and \\nwas accompanied by rather violent periodic stick forces and vibration. The forward \\ndisplacement of the control from trim necessary to check some of these pitching \\nmotions suggested that a short delay in applying corrective control would allow a \\nmaneuver severe enough that control would be lost. Although there seemed ample \\ncontrol to stop downward pitching, an uncomfortable amount of forward control \\nwas again required in order to check the subsequent upward pitching. These char -\\nacteristics suggested a pronounced type of instability.\\nThe tendency to depart from the trim speed and the necessity of applying \\nappreciable control deflection against a pitching maneuver involving acceleration, \\ninitiated either by control or by external disturbances, is apparent throughout the \\nspeed range normally used in forward flight. It becomes much less pronounced, \\nhowever, at the lower speeds.\\nShortly after the embryo pilot experiences forward flight, he is impressed with \\nthe necessity for having to constantly fly the helicopter. At first thought the reasons \\nfor this situation are not clear. It is common knowledge that a flapping rotor tilts \\nto the rear if speed is increased, thus tending to cause the machine to return to \\nthe original speed. This condition constitutes stability of the rotor with respect to \\nspeed. Wind-tunnel tests of the R-4 fuselage have shown it to be unstable, but this \\ninstability is evidently outweighed by the rotor stability just discussed, inasmuch \\nas measurements of stick position have shown that the stick does move forward to \\ntrim at increasing steady speeds. Furthermore, observation and measurements have \\nindicated that the static stick-force gradient with respect to speed is small, but has \\nbeen either unstable'], retrieval_context=None, additional_metadata=None, comments=None, source_file='../../02-KB-Documents/NASA/the_wind_and_beyond_tagged.pdf'),\n",
       " Golden(input=\"What is the function of the main longitudinal strength member in a seaplane's float?\", actual_output=None, expected_output=\"The main longitudinal strength member, known as the keel, provides continuous strength along the bottom and center line of a seaplane's float.\", context=['The Wind and Beyond, Volume III264\\nKeel.  The main longitudinal and continuous strength member located along the \\nbottom and on the center line.\\nKeel, false.  A protective member attached along the bottom center line on the \\noutside, to prevent damage from handling or grounding.\\nMetacenter.  A point through which the resultant vertical buoyant force passes for \\nall small displacements from the position of equilibrium.\\nMetacentric height . The distance from the center of gravity to the metacenter.\\nPorpoising.  Any pronounced pitching oscillation in a moving float.\\nSpeed, getaway.  The speed at which the entire weight of the seaplane is carried by \\nthe wings.\\nSpeed, hump.  The speed or speeds at which the water resistance is a maximum.\\nSponsons. Lateral projections added to the sides of a float or hull to increase plan -\\ning area or transverse stability.\\nSpray strips.  Thin longitudinal strips of triangular cross-section attached to the \\nbottom along the chine to “beat down” the spray.\\nSquatting.  A pronounced tendency to trim by the stern.\\nStep.  A line of discontinuity in a surface. In its usual form, a sudden change in \\ntransverse sections.\\nStern.  The extreme rear point, or portion of a float.\\nTrim.  The angle of pitch, usually measured between the deck line and the water line.\\nTrim by bow.  An angle of trim produced by depressing the bow and raising the \\nstern and measured in the same manner as trim by stern.\\nTrim by stern.  An angle of trim produced by raising the bow and depressing the \\nstern and measured from a level position of some reference line, usually the \\ndeck line.\\nModel tests—corresponding speeds.  The only way to determine the water resis -\\ntance of a float or hull is by actual test, either full scale or on a model. Since most \\nof the resistance is “wave-making,” comparisons must be made on the basis of  V2\\nL \\nor V\\n∙L. That is , the “c orresponding speed” is proportional to the square root of \\nthe length.\\nFroudes’ Law of Comparison  states that at corresponding speeds the full-'], retrieval_context=None, additional_metadata=None, comments=None, source_file='../../02-KB-Documents/NASA/the_wind_and_beyond_tagged.pdf'),\n",
       " Golden(input=\"How do lateral projections like sponsons enhance transverse stability in a seaplane's float or hull?\", actual_output=None, expected_output=\"Lateral projections like sponsons enhance transverse stability in a seaplane's float or hull by increasing the planning area.\", context=['The Wind and Beyond, Volume III264\\nKeel.  The main longitudinal and continuous strength member located along the \\nbottom and on the center line.\\nKeel, false.  A protective member attached along the bottom center line on the \\noutside, to prevent damage from handling or grounding.\\nMetacenter.  A point through which the resultant vertical buoyant force passes for \\nall small displacements from the position of equilibrium.\\nMetacentric height . The distance from the center of gravity to the metacenter.\\nPorpoising.  Any pronounced pitching oscillation in a moving float.\\nSpeed, getaway.  The speed at which the entire weight of the seaplane is carried by \\nthe wings.\\nSpeed, hump.  The speed or speeds at which the water resistance is a maximum.\\nSponsons. Lateral projections added to the sides of a float or hull to increase plan -\\ning area or transverse stability.\\nSpray strips.  Thin longitudinal strips of triangular cross-section attached to the \\nbottom along the chine to “beat down” the spray.\\nSquatting.  A pronounced tendency to trim by the stern.\\nStep.  A line of discontinuity in a surface. In its usual form, a sudden change in \\ntransverse sections.\\nStern.  The extreme rear point, or portion of a float.\\nTrim.  The angle of pitch, usually measured between the deck line and the water line.\\nTrim by bow.  An angle of trim produced by depressing the bow and raising the \\nstern and measured in the same manner as trim by stern.\\nTrim by stern.  An angle of trim produced by raising the bow and depressing the \\nstern and measured from a level position of some reference line, usually the \\ndeck line.\\nModel tests—corresponding speeds.  The only way to determine the water resis -\\ntance of a float or hull is by actual test, either full scale or on a model. Since most \\nof the resistance is “wave-making,” comparisons must be made on the basis of  V2\\nL \\nor V\\n∙L. That is , the “c orresponding speed” is proportional to the square root of \\nthe length.\\nFroudes’ Law of Comparison  states that at corresponding speeds the full-'], retrieval_context=None, additional_metadata=None, comments=None, source_file='../../02-KB-Documents/NASA/the_wind_and_beyond_tagged.pdf'),\n",
       " Golden(input='Compare the management styles and priorities of Daniel Goldin and Administrator Truly at NASA.', actual_output=None, expected_output=\"Daniel Goldin favored horizontal management structures, short schedules, and low costs, whereas Administrator Truly's approach was not specified. Goldin aimed to reduce risk aversion and outdated methods, whereas Truly's priorities were not mentioned.\", context=['65 CHAPTER 2 • FuNdINg PLANETARY S CIENCE : HISTORY A Nd POLITICAL E CONOMY  \\ninnovation, which would have significant ramifications for the planetary sci -\\nence community in the coming decade.\\nTHE 1990S\\nFIGURE 15.  Planetary science actual expenditures, 1990–99 ($M, adjusted to 2010 dollars) by \\nlaunch dates.\\nThe Bush administration’s National Space Council, led by Vice President \\nDan Quayle, concluded that Administrator Truly was not the man to initiate \\nchanges at NASA. His replacement, in what would be the last year of the Bush \\nadministration, was a rising star from the defense side of the U.S. space pro -\\ngram named Daniel Goldin. Goldin caught the attention of Quayle and the \\nNational Space Council through his work with the Strategic Defense Initiative \\nOrganization on short-schedule, low-cost space technology demonstration \\nprojects. Goldin was a proponent of horizontal management structures and \\nprojects executed under short time constraints, believing that longer sched -\\nules allowed design changes, which in turn caused budgets to\\xa0grow. \\nIn 1992, President George H. W. Bush chose Goldin as the new NASA \\nAdministrator and tasked him with the mission of changing NASA’s space \\nexploration culture from the top down. Goldin came to NASA intent on shap -\\ning it into an organization less averse to risk and willing to abandon what he \\nsaw as outdated methods and thinking. In NASA’s Planetary Exploration \\nDivision, Goldin accepted plans to implement a Discovery program, which \\nwould solicit proposals for small, cost-capped missions led by a Principal \\nInvestigator, rather than having mission science parameters determined by '], retrieval_context=None, additional_metadata=None, comments=None, source_file='../../02-KB-Documents/NASA/50-years-of-solar-system-exploration_tagged.pdf'),\n",
       " Golden(input=\"What changes did the Bush administration, led by Vice President Dan Quayle, implement at NASA through Daniel Goldin's appointment?\", actual_output=None, expected_output=\"The Bush administration implemented changes at NASA through Daniel Goldin's appointment, including the introduction of horizontal management structures, short-schedule, low-cost space technology demonstration projects, and a shift towards a culture less averse to risk and willing to abandon outdated methods and thinking.\", context=['65 CHAPTER 2 • FuNdINg PLANETARY S CIENCE : HISTORY A Nd POLITICAL E CONOMY  \\ninnovation, which would have significant ramifications for the planetary sci -\\nence community in the coming decade.\\nTHE 1990S\\nFIGURE 15.  Planetary science actual expenditures, 1990–99 ($M, adjusted to 2010 dollars) by \\nlaunch dates.\\nThe Bush administration’s National Space Council, led by Vice President \\nDan Quayle, concluded that Administrator Truly was not the man to initiate \\nchanges at NASA. His replacement, in what would be the last year of the Bush \\nadministration, was a rising star from the defense side of the U.S. space pro -\\ngram named Daniel Goldin. Goldin caught the attention of Quayle and the \\nNational Space Council through his work with the Strategic Defense Initiative \\nOrganization on short-schedule, low-cost space technology demonstration \\nprojects. Goldin was a proponent of horizontal management structures and \\nprojects executed under short time constraints, believing that longer sched -\\nules allowed design changes, which in turn caused budgets to\\xa0grow. \\nIn 1992, President George H. W. Bush chose Goldin as the new NASA \\nAdministrator and tasked him with the mission of changing NASA’s space \\nexploration culture from the top down. Goldin came to NASA intent on shap -\\ning it into an organization less averse to risk and willing to abandon what he \\nsaw as outdated methods and thinking. In NASA’s Planetary Exploration \\nDivision, Goldin accepted plans to implement a Discovery program, which \\nwould solicit proposals for small, cost-capped missions led by a Principal \\nInvestigator, rather than having mission science parameters determined by '], retrieval_context=None, additional_metadata=None, comments=None, source_file='../../02-KB-Documents/NASA/50-years-of-solar-system-exploration_tagged.pdf'),\n",
       " Golden(input='What was the total federal outlay in 2004, as reflected in the historical tables of the White House Office of Management and Budget?', actual_output=None, expected_output='The total federal outlay in 2004 was $5,092.000 billion (nominal) and $5,879.908 billion (adjusted to 2010 dollars).', context=['\\n2004 5,092.000 5,879.908 28,594.357 33,018.888 19,892.000 22,969.977\\n2005 5,403.000 6,030.134 28,560.417 31,875.465 21,271.000 23,739.955\\n2006 5,510.000 5,956.757 29,178.504 31,544.329 19,649.000 21,242.162\\n2007 5,488.000 5,770.768 29,607.070 31,132.566 20,116.000 21,152.471\\n2008 5,785.000 5,861.196 30,545.098 30,947.414 21,400.000 21,681.864\\n2009 5,958.000 6,054.878 31,238.000 31,745.935 23,683.000 24,068.089\\n2010 6,719.000 6,719.000 30,916.345 30,916.345 30,778.000 30,778.000\\nTABLE A4.  DOD Budget Data, 1959–2010\\nBudget data for the Department of Defense and DOD Research and \\nDevelopment spending came from the White House Office of Management \\nand Budget historical tables.78\\nYearDOD Budget Outlays DOD R&D Outlays\\n$Million$Million, adjusted to \\n2010 dollars$Million2 $Million, adjusted to \\n2010 dollars\\n1959 4,950.000 37,218.045\\n1960 5,517.000 40,566.176\\n1961 6,466.000 47,197.080\\n1962 52,345.000 379,311.594 6,689.000 48,471.014\\n(continued on next page)\\n78. The OMB historical tables can be found at https://www.whitehouse.gov/omb/historical-tables/ . ', ',325.600 1,433.081\\n2007 1,215.600 1,278.233 1,365.000 1,435.331 830.800 873.607 1,198.500 1,260.252\\n2008 1,312.600 1,329.889 1,395.600 1,413.982 787.600 797.974 1,237.400 1,253.698\\n2009 1,288.100 1,309.045 1,229.900 1,249.898 607.800 617.683 1,377.300 1,399.695\\n2010 1,364.400 1,364.400 1,086.000 1,086.000 608.000 608.000 1,439.300 1,439.300\\nTABLE A2. Federal Budget Data, 1959–2010\\nThe federal budget data came from the White House Office of Management \\nand Budget historical tables.75\\nYearU.S.  \\nGDPTotal Federal \\nOutlaysGross Federal  \\nDebtFederal Gov’t. \\nReceipts\\nReal, \\n$Million$Million, \\nadjusted \\nto 2010 \\ndollarsReal, \\n$Million$Million, \\nadjusted \\nto 2010 \\ndollarsReal, \\n$Million$Million, \\nadjusted \\nto 2010 \\ndollarsReal, \\n$Million$Million, \\nadjusted \\nto 2010 \\ndollars\\n1959 490,200 3,685,714 92,098 692,466 287,465 2,161,391 79,249 595,857\\n1960 518,900 3,815,441 92,191 677,875 290,525 2,136,213 92,492 680,088\\n1961 529,900 3,867,883 97,723 713,307 292,648 2,136,117 94,388 688,964\\n1962 567,800 4,114,493 106,821 774,065 302,928 2,195,130 99,676 722,290\\n1963 599,200 4,280,000 111,316 795,114 310,324 2,216,600 106,560 761,143\\n1964 6', ',870,324 8,451,350 9,136,595 2,406,869 2,602,021\\n2007 13,861,400 14,575,605 2,728,686 2,869,281 8,950,744 9,411,928 2,567,985 2,700,300\\n2008 14,334,400 14,523,202 2,982,544 3,021,828 9,986,082 10,117,611 2,523,991 2,557,235\\n2009 13,937,500 14,164,126 3,517,677 3,574,875 11,875,851 12,068,954 2,104,989 2,139,216\\n2010 14,359,700 14,359,700 3,456,213 3,456,213 13,528,807 13,528,807 2,162,724 2,162,724\\nTABLE A3.  NSF, NIH, and DOE Budget Data, 1959–2010\\nThe budget data for the National Science Foundation and the Department \\nof Energy came from the White House Office of Management and Budget \\nhistorical tables.76 The budget data for the National Institutes for Health are \\nappropriations data, not budget actuals. This means that the data are not \\nthe same as the other budget data to which they are being compared. Since \\nthe author was only examining trends in data over time, and since no bud -\\nget actual data were readily available for NIH, the author felt that the use \\nof appropriations data was acceptable in this case. The differences between \\nappropriations and budget actuals are generally small, though not insignifi -\\ncant. Speaking in a broad sense, appropriations numbers tend to be slightly \\nhigher than budget actual numbers. The difference, at the small agency or \\ninstitute level, is usually in hundreds of thousands or low millions of dollars. \\nThe author is confident that, while the budget line displayed in figures IV, \\nV, and VI for the NIH budget may be incrementally higher than the budget \\nactuals, the trending is accurate over the five-decade span. The budget data \\nfor NIH came from the NIH 2012 Almanac.77\\n76. The OMB historical tables can be found at https://www.whitehouse.gov/omb/hist'], retrieval_context=None, additional_metadata=None, comments=None, source_file='../../02-KB-Documents/NASA/50-years-of-solar-system-exploration_tagged.pdf'),\n",
       " Golden(input='What is the source of NSF budget data according to the White House Office of Management and Budget historical tables?', actual_output=None, expected_output='The White House Office of Management and Budget historical tables.', context=['\\n2004 5,092.000 5,879.908 28,594.357 33,018.888 19,892.000 22,969.977\\n2005 5,403.000 6,030.134 28,560.417 31,875.465 21,271.000 23,739.955\\n2006 5,510.000 5,956.757 29,178.504 31,544.329 19,649.000 21,242.162\\n2007 5,488.000 5,770.768 29,607.070 31,132.566 20,116.000 21,152.471\\n2008 5,785.000 5,861.196 30,545.098 30,947.414 21,400.000 21,681.864\\n2009 5,958.000 6,054.878 31,238.000 31,745.935 23,683.000 24,068.089\\n2010 6,719.000 6,719.000 30,916.345 30,916.345 30,778.000 30,778.000\\nTABLE A4.  DOD Budget Data, 1959–2010\\nBudget data for the Department of Defense and DOD Research and \\nDevelopment spending came from the White House Office of Management \\nand Budget historical tables.78\\nYearDOD Budget Outlays DOD R&D Outlays\\n$Million$Million, adjusted to \\n2010 dollars$Million2 $Million, adjusted to \\n2010 dollars\\n1959 4,950.000 37,218.045\\n1960 5,517.000 40,566.176\\n1961 6,466.000 47,197.080\\n1962 52,345.000 379,311.594 6,689.000 48,471.014\\n(continued on next page)\\n78. The OMB historical tables can be found at https://www.whitehouse.gov/omb/historical-tables/ . ', ',325.600 1,433.081\\n2007 1,215.600 1,278.233 1,365.000 1,435.331 830.800 873.607 1,198.500 1,260.252\\n2008 1,312.600 1,329.889 1,395.600 1,413.982 787.600 797.974 1,237.400 1,253.698\\n2009 1,288.100 1,309.045 1,229.900 1,249.898 607.800 617.683 1,377.300 1,399.695\\n2010 1,364.400 1,364.400 1,086.000 1,086.000 608.000 608.000 1,439.300 1,439.300\\nTABLE A2. Federal Budget Data, 1959–2010\\nThe federal budget data came from the White House Office of Management \\nand Budget historical tables.75\\nYearU.S.  \\nGDPTotal Federal \\nOutlaysGross Federal  \\nDebtFederal Gov’t. \\nReceipts\\nReal, \\n$Million$Million, \\nadjusted \\nto 2010 \\ndollarsReal, \\n$Million$Million, \\nadjusted \\nto 2010 \\ndollarsReal, \\n$Million$Million, \\nadjusted \\nto 2010 \\ndollarsReal, \\n$Million$Million, \\nadjusted \\nto 2010 \\ndollars\\n1959 490,200 3,685,714 92,098 692,466 287,465 2,161,391 79,249 595,857\\n1960 518,900 3,815,441 92,191 677,875 290,525 2,136,213 92,492 680,088\\n1961 529,900 3,867,883 97,723 713,307 292,648 2,136,117 94,388 688,964\\n1962 567,800 4,114,493 106,821 774,065 302,928 2,195,130 99,676 722,290\\n1963 599,200 4,280,000 111,316 795,114 310,324 2,216,600 106,560 761,143\\n1964 6', ',870,324 8,451,350 9,136,595 2,406,869 2,602,021\\n2007 13,861,400 14,575,605 2,728,686 2,869,281 8,950,744 9,411,928 2,567,985 2,700,300\\n2008 14,334,400 14,523,202 2,982,544 3,021,828 9,986,082 10,117,611 2,523,991 2,557,235\\n2009 13,937,500 14,164,126 3,517,677 3,574,875 11,875,851 12,068,954 2,104,989 2,139,216\\n2010 14,359,700 14,359,700 3,456,213 3,456,213 13,528,807 13,528,807 2,162,724 2,162,724\\nTABLE A3.  NSF, NIH, and DOE Budget Data, 1959–2010\\nThe budget data for the National Science Foundation and the Department \\nof Energy came from the White House Office of Management and Budget \\nhistorical tables.76 The budget data for the National Institutes for Health are \\nappropriations data, not budget actuals. This means that the data are not \\nthe same as the other budget data to which they are being compared. Since \\nthe author was only examining trends in data over time, and since no bud -\\nget actual data were readily available for NIH, the author felt that the use \\nof appropriations data was acceptable in this case. The differences between \\nappropriations and budget actuals are generally small, though not insignifi -\\ncant. Speaking in a broad sense, appropriations numbers tend to be slightly \\nhigher than budget actual numbers. The difference, at the small agency or \\ninstitute level, is usually in hundreds of thousands or low millions of dollars. \\nThe author is confident that, while the budget line displayed in figures IV, \\nV, and VI for the NIH budget may be incrementally higher than the budget \\nactuals, the trending is accurate over the five-decade span. The budget data \\nfor NIH came from the NIH 2012 Almanac.77\\n76. The OMB historical tables can be found at https://www.whitehouse.gov/omb/hist'], retrieval_context=None, additional_metadata=None, comments=None, source_file='../../02-KB-Documents/NASA/50-years-of-solar-system-exploration_tagged.pdf'),\n",
       " Golden(input='Analyze the role of end credits in documenting film production contributors.', actual_output=None, expected_output='End credits document film production contributors, listing everyone involved, from cast and crew to production and post-production teams, providing a comprehensive record of their contributions.', context=['                                        49\\nMORE INFORMATION                                                                50\\nCREDITS                                                                           51\\n1 '], retrieval_context=None, additional_metadata=None, comments=None, source_file='../../02-KB-Documents/NASA/hubble_focus_exoplanets_june2022.pdf'),\n",
       " Golden(input='What is the total number of sections listed on this page?', actual_output=None, expected_output='3', context=['                                        49\\nMORE INFORMATION                                                                50\\nCREDITS                                                                           51\\n1 '], retrieval_context=None, additional_metadata=None, comments=None, source_file='../../02-KB-Documents/NASA/hubble_focus_exoplanets_june2022.pdf'),\n",
       " Golden(input=\"How do astronomers utilize a Super-Jupiter's cloudy skies and infrared brightness fluctuations to determine its rotation period?\", actual_output=None, expected_output=\"Astronomers use a Super-Jupiter's cloudy skies and infrared brightness fluctuations to determine its rotation period by observing the rhythmic changes in its brightness, likely due to variegated cloud cover, and estimating the time it takes to complete one rotation.\", context=[' \\n   Using a Super-Jupiter’s Cloudy Skies to Measure its \\nRotation Rate \\nMeasuring the length of a day on our neighboring world Mars was relatively “This result gives us a \\nsimple  Using a telescope, Dutch astronomer Christiaan Huygens spotted a unique technique todark splotch on the red planet’s surface and tracked how much time it took \\nfor the feature to return to the same position  Around 350 years later, a team explore the atmospheres \\nof scientists used a similar method but a far more powerful instrument–– of exoplanets andthe Hubble Space Telescope––to make the frst direct measurement of an \\nexoplanet’s rotation rate, thanks to its cloudy skies  measure their rotation \\nrates ”Astronomers previously used Hubble to observe the planet, dubbed \\n2M1207b, and discovered that it rains glass high in the atmosphere and Daniel Apai, University of Arizona \\nmolten iron at lower altitudes  The bizarre world is located about 170 light-years from Earth and orbits a brown dwarf––a so-called failed star, which is not massive enough to power itself by nuclear fusion the way stars do  Since the brown dwarf is so dim and far from the planet, astronomers more recently used Hubble to observe 2M1207b directly  The planet is so young that it is still hot as it contracts under gravity, making it glow in infrared light  Using Hubble’s infrared vision, astronomers saw that the planet rhythmically fickers as it spins on its axis like a top  The subtle changes in the planet’s brightness are likely due to a variegated cloud cover of comparatively bright and dark patches  \\nBased on their observations, astronomers estimate the gaseous world completes one rotation approximately every 10 \\nhours, which happens to be nearly the same as Jupiter’s rotation rate  The James Webb Space Telescope will help astronomers better determine 2M1207b’s atmospheric composition and derive detailed maps from brightness changes with the new technique demonstrated by Hubble’s observations  \\nThis image shows the brown dwarf 2M1207A (left) and an orbiting planet, 2M1207b (right). Planets are usually diffcult to see directly because their host stars tend \\nto be so bright that orbiting planets are lost in the glare. But 2M1207b glows brightly in infrared light since'], retrieval_context=None, additional_metadata=None, comments=None, source_file='../../02-KB-Documents/NASA/hubble_focus_exoplanets_june2022.pdf'),\n",
       " Golden(input='What atmospheric features of 2M1207b, a young, hot, and cloudy Super-Jupiter, allowed astronomers to measure its rotation rate?', actual_output=None, expected_output='Variegated cloud cover of bright and dark patches.', context=[' \\n   Using a Super-Jupiter’s Cloudy Skies to Measure its \\nRotation Rate \\nMeasuring the length of a day on our neighboring world Mars was relatively “This result gives us a \\nsimple  Using a telescope, Dutch astronomer Christiaan Huygens spotted a unique technique todark splotch on the red planet’s surface and tracked how much time it took \\nfor the feature to return to the same position  Around 350 years later, a team explore the atmospheres \\nof scientists used a similar method but a far more powerful instrument–– of exoplanets andthe Hubble Space Telescope––to make the frst direct measurement of an \\nexoplanet’s rotation rate, thanks to its cloudy skies  measure their rotation \\nrates ”Astronomers previously used Hubble to observe the planet, dubbed \\n2M1207b, and discovered that it rains glass high in the atmosphere and Daniel Apai, University of Arizona \\nmolten iron at lower altitudes  The bizarre world is located about 170 light-years from Earth and orbits a brown dwarf––a so-called failed star, which is not massive enough to power itself by nuclear fusion the way stars do  Since the brown dwarf is so dim and far from the planet, astronomers more recently used Hubble to observe 2M1207b directly  The planet is so young that it is still hot as it contracts under gravity, making it glow in infrared light  Using Hubble’s infrared vision, astronomers saw that the planet rhythmically fickers as it spins on its axis like a top  The subtle changes in the planet’s brightness are likely due to a variegated cloud cover of comparatively bright and dark patches  \\nBased on their observations, astronomers estimate the gaseous world completes one rotation approximately every 10 \\nhours, which happens to be nearly the same as Jupiter’s rotation rate  The James Webb Space Telescope will help astronomers better determine 2M1207b’s atmospheric composition and derive detailed maps from brightness changes with the new technique demonstrated by Hubble’s observations  \\nThis image shows the brown dwarf 2M1207A (left) and an orbiting planet, 2M1207b (right). Planets are usually diffcult to see directly because their host stars tend \\nto be so bright that orbiting planets are lost in the glare. But 2M1207b glows brightly in infrared light since'], retrieval_context=None, additional_metadata=None, comments=None, source_file='../../02-KB-Documents/NASA/hubble_focus_exoplanets_june2022.pdf'),\n",
       " Golden(input=\"Considering Percival Lowell's theories and NASA's probe findings, what fuels the ongoing fascination with Mars as a potential habitat for life?\", actual_output=None, expected_output=\"Despite Percival Lowell's theories being disproven and NASA's initial findings suggesting Mars is uninhabitable, the ongoing fascination with Mars as a potential habitat for life is fueled by the hope that signs of life might still be discovered.\", context=['Chapter 7: Exploring the Cosmos 123\\nAlthough years of research await Venus explorers from the data returned thus \\nfar, collectively they fundamentally suggest that life on Venus—at least as \\nhumans understand it—probably never existed there.\\nThe Lure of the Red Planet\\nBut what of Mars? It had long held a special fascination for humans who pon -\\ndered the planets of the solar system—partly because of the possibility that life \\nmight either presently exist or at some time in the past have existed there—\\nchampioned by gentleman astronomer Percival Lowell during the latter part of \\nthe 19th century. He built what became the Lowell Observatory near Flagstaff, \\nArizona, to study the planet. He argued that Mars had once been a watery \\nplanet and that the topographical features known as canals had been built by \\nintelligent beings. The idea of intelligent life on Mars remained in the popular \\nimagination for a long time, and only with the scientific data returned from \\nNASA probes to the planet since the beginning of the Space Age did this begin \\nto change.\\nBy the latter 1960s, NASA had been successful in reaching Mars only once, \\nwith Mariner 5 in 1965. Those results had been disappointing for those who \\nsought life on the Red Planet. U.S. News and World Report  announced that \\n“Mars is dead.”4 Even President Lyndon Johnson pronounced that “life as we \\nknow it with its humanity is more unique than many have thought” because of \\nthe imagery from Mariner 5. Mariner 6 and Mariner 7, launched in February \\nand March 1969, each passed Mars in August 1969, studying its atmosphere \\nand surface to lay the groundwork for an eventual landing on the planet.5 Their \\npictures verified the Moon-like appearance of Mars and gave no hint that Mars \\nhad ever been able to support life.\\nThere was still hope, however, and the search for signs of life prompted \\nemphasis on the exploration of Mars. NASA Administrator James C. Fletcher, \\nfor example, commented on this possibility in 1975:\\nAlthough the discoveries we shall make on our neighboring worlds will revolu -\\ntionize our knowledge of the Universe, and probably transform human society, \\nit is unlikely that we will find intelligent life on the other planets of our Sun. \\nYet, it is'], retrieval_context=None, additional_metadata=None, comments=None, source_file='../../02-KB-Documents/NASA/NACA-to-NASA-to-NOW_TAGGED.pdf'),\n",
       " Golden(input=\"Investigate the possibility of microbial life in Mars' subsurface environments.\", actual_output=None, expected_output='Not mentioned in the provided context.', context=['Chapter 7: Exploring the Cosmos 123\\nAlthough years of research await Venus explorers from the data returned thus \\nfar, collectively they fundamentally suggest that life on Venus—at least as \\nhumans understand it—probably never existed there.\\nThe Lure of the Red Planet\\nBut what of Mars? It had long held a special fascination for humans who pon -\\ndered the planets of the solar system—partly because of the possibility that life \\nmight either presently exist or at some time in the past have existed there—\\nchampioned by gentleman astronomer Percival Lowell during the latter part of \\nthe 19th century. He built what became the Lowell Observatory near Flagstaff, \\nArizona, to study the planet. He argued that Mars had once been a watery \\nplanet and that the topographical features known as canals had been built by \\nintelligent beings. The idea of intelligent life on Mars remained in the popular \\nimagination for a long time, and only with the scientific data returned from \\nNASA probes to the planet since the beginning of the Space Age did this begin \\nto change.\\nBy the latter 1960s, NASA had been successful in reaching Mars only once, \\nwith Mariner 5 in 1965. Those results had been disappointing for those who \\nsought life on the Red Planet. U.S. News and World Report  announced that \\n“Mars is dead.”4 Even President Lyndon Johnson pronounced that “life as we \\nknow it with its humanity is more unique than many have thought” because of \\nthe imagery from Mariner 5. Mariner 6 and Mariner 7, launched in February \\nand March 1969, each passed Mars in August 1969, studying its atmosphere \\nand surface to lay the groundwork for an eventual landing on the planet.5 Their \\npictures verified the Moon-like appearance of Mars and gave no hint that Mars \\nhad ever been able to support life.\\nThere was still hope, however, and the search for signs of life prompted \\nemphasis on the exploration of Mars. NASA Administrator James C. Fletcher, \\nfor example, commented on this possibility in 1975:\\nAlthough the discoveries we shall make on our neighboring worlds will revolu -\\ntionize our knowledge of the Universe, and probably transform human society, \\nit is unlikely that we will find intelligent life on the other planets of our Sun. \\nYet, it is'], retrieval_context=None, additional_metadata=None, comments=None, source_file='../../02-KB-Documents/NASA/NACA-to-NASA-to-NOW_TAGGED.pdf'),\n",
       " Golden(input=\"Analyze the effects of the Space Shuttle program's hiatus on ISS crew capacity and operations.\", actual_output=None, expected_output=\"The Space Shuttle program's hiatus, resulting from the Columbia accident in 2003, reduced the ISS crew to two members, a skeleton workforce, and limited access to the Station to only the Russian Soyuz capsule, until the Shuttle resumed operations in 2006.\", context=['Chapter 10: Toward a Permanent Human Presence in Space 199\\nbeginning of the 21st century, the effort involved 16 nations, and through the \\nending of the Space Shuttle in 2011 concerted efforts took place to complete \\nthe ISS.\\nThe Columbia accident of 1 February 2003, resulting in the deaths of seven \\nastronauts, grounded the Space Shuttle fleet and thereby placed on hold con -\\nstruction of the ISS. Access to the Station, thereafter, came only through the \\nuse of the Russian Soyuz capsule, a reliable but limited vehicle whose technol -\\nogy extended back to the 1960s. Because of this limitation, the ISS crew was \\ncut to two members in May 2003, a skeleton workforce designed to keep the \\nStation operational.\\nWhen the Space Shuttle resumed operations in 2006, efforts to complete \\nthe ISS took a more aggressive turn. In all, between 1998 and 2011, NASA \\nand the Russian Space Agency made 40 assembly flights for the ISS. Thirty-\\nfour of those assembly flights were completed by astronauts aboard Space \\nShuttle missions. Figure 10-3. STS-88 mission specialist James Newman, holding on to a handrail, waves \\nback at the camera during the first of three extravehicular activities (EVAs) performed during \\nthe mission in 1998. The orbiter can be seen reflected in his visor. (NASA, STS088-343-025)\\n'], retrieval_context=None, additional_metadata=None, comments=None, source_file='../../02-KB-Documents/NASA/NACA-to-NASA-to-NOW_TAGGED.pdf'),\n",
       " Golden(input='What limited but reliable technology, developed in the 1960s, provided access to the ISS after the Columbia accident?', actual_output=None, expected_output='The Russian Soyuz capsule.', context=['Chapter 10: Toward a Permanent Human Presence in Space 199\\nbeginning of the 21st century, the effort involved 16 nations, and through the \\nending of the Space Shuttle in 2011 concerted efforts took place to complete \\nthe ISS.\\nThe Columbia accident of 1 February 2003, resulting in the deaths of seven \\nastronauts, grounded the Space Shuttle fleet and thereby placed on hold con -\\nstruction of the ISS. Access to the Station, thereafter, came only through the \\nuse of the Russian Soyuz capsule, a reliable but limited vehicle whose technol -\\nogy extended back to the 1960s. Because of this limitation, the ISS crew was \\ncut to two members in May 2003, a skeleton workforce designed to keep the \\nStation operational.\\nWhen the Space Shuttle resumed operations in 2006, efforts to complete \\nthe ISS took a more aggressive turn. In all, between 1998 and 2011, NASA \\nand the Russian Space Agency made 40 assembly flights for the ISS. Thirty-\\nfour of those assembly flights were completed by astronauts aboard Space \\nShuttle missions. Figure 10-3. STS-88 mission specialist James Newman, holding on to a handrail, waves \\nback at the camera during the first of three extravehicular activities (EVAs) performed during \\nthe mission in 1998. The orbiter can be seen reflected in his visor. (NASA, STS088-343-025)\\n'], retrieval_context=None, additional_metadata=None, comments=None, source_file='../../02-KB-Documents/NASA/NACA-to-NASA-to-NOW_TAGGED.pdf'),\n",
       " Golden(input='What was the purpose of the X-34 RLV concept in terms of space transportation and payload delivery?', actual_output=None, expected_output='The X-34 RLV concept was designed for space transportation and payload delivery, with a focus on providing a reusable launch vehicle (RLV) capable of carrying payloads to space.', context=['34A, 1–2, 33, 73, 78–83, 87\\nX-34B, 33, 78–79, 83, 87, 89\\nX-34 Program (Renewed), 91–92, 96n70, \\n99–100, 123–149, 128, 249, 276. See \\nalso X-34 Project; X-34 Technology Testbed Demonstrator (TTD); individual vehicles\\nA-series vehicles, 113, 120n45air launch, 103–104, 123, 191–193, 225, \\n230, 312\\nannounced, 100\\nASTP (Advanced Space Transportation \\nProgram), 112\\navionics systems, 118\\nbudget, 113, 114, 258–259cancellation, 118, 207, 294–318, 302\\nchallenges, 106\\ncommercial market, 112, 237\\ncompared to X-15 Program, 123–126, 124\\ncompared to X-33 Program, 108–109\\ncontract modification, 257–258\\ncosts, 102, 105, 109–111, 113\\nCritical Design Review (CDR), 112, 132, 265, \\n335, 338, 350\\nDC-XA Program precedents, 112\\ndelays, 110, 149, 217, 223, 246, 286, 306, \\n313–314, 316', ', 23\\ndefined, 4development, 34–35\\ndimensions, 80–81\\nengine design, 78, 82–87fuel tanks, 78\\nGoldin, Daniel, 36\\nlaunch aircraft, 78, 83\\nmilestones, 91\\nmission conception, 81\\npayloads, 64, 67, 69–70, 82, 275propulsion systems, 83\\nredesign, 27\\nRSB/HSRV comparison, 67\\nSSTO Phase II, 38\\nsecond-generation, 275, 304\\nstudy, 30n61\\ntesting, 74–76, 79–81\\nthird-generation, 275\\nX-34 TTD, 100, 102X-34A, 2, 33, 73, 78–83, 87\\nX-34B, 2, 33, 78–79, 83, 87, 89, 103–104, \\n128\\nX-34 Technology Testbed Demonstrator (TTD), \\n2, 5, 33, 98, 100, 107, 183n16, 249. See also X-34 Project; X-34 Program (Renewed); \\nindividual vehicles\\nabort option, 101, 108, 169–170aerodynamic database, 103, 162, 164–166, \\n168, 170, 171–172\\nAerodynamic Preliminary Analysis System \\n(APAS), 163–164', 'Index\\n395restart, 299–300, 314\\nrestructuring, 112, 275, 281–287, 284, \\n303–304, 306, 313–314\\nrisk mitigation, 114–118, 258, 267, 269, \\n281–282, 305–307\\nrisks, 114–115, 115–118, 143–144, \\n148–149, 255, 281, 284\\nsafety, 132, 255–256, 267, 337\\nsafety features, 138–140, 143, 147\\nschedule, 110–111, 258, 264, 266, \\n271–272, 305, 316\\nsoftware, 127, 139–140, 145Space Launch Initiative (SLI), 299–300\\nSpace Shuttle precedents, 123, 127, \\n132–133, 148–149\\nstructure, 126\\nsubcontractors, 134\\nsystem design freeze (SDF), 73, 133–134\\nTask Agreement, 110teams, 142\\ntechnical challenges, 136\\ntelemetry, 137\\nTerminal Area Energy Management (TAEM), \\n245\\ntest flights number, 282, 286\\ntest models, 314\\ntesting, 128–129, 138, 145, 148, 282, 286, \\n306–307, 320n28\\nthermal protection system (TPS), 132–133, \\n147\\nthrust structures, 137wind tunnel testing, 263\\nwings, 127, 133, 134–135, 149\\nX-33 cancellation, 306\\nX-34 A-1, 129, 154, 148–149, 150n13, \\n222\\nX-34 A-1 completion, 149, 165X-34 A-1A, 149, 150n13\\nX-34 A-2, 133, 148–149\\nX-34 Renewed Program, 113–114, 273, 281X-34B, 2, 103–104, 128\\nX-34 RLV concept, viii, 1–2, 18–19, 33, 62, \\n79–82. See also X-34 “First” Program; \\nindividual vehicles\\nair launch, 81, 91, 100\\nattributes, 67\\nboosters, 74, 80, 84compared to Shenlong (“Divine Dragon”), 26\\ncompared to X-33, 20, 23\\ndefined, 4development, 34–35\\ndimensions, 80–81\\nengine'], retrieval_context=None, additional_metadata=None, comments=None, source_file='../../02-KB-Documents/NASA/promise-denied_tagged.pdf'),\n",
       " Golden(input='What evidence supports the claim that the X-34 Program was successful despite its cancellation and numerous challenges?', actual_output=None, expected_output=\"There is no evidence in the provided context that supports the claim that the X-34 Program was successful despite its cancellation and numerous challenges. The context primarily discusses the program's challenges, delays, and cancellation, with no mention of its success.\", context=['34A, 1–2, 33, 73, 78–83, 87\\nX-34B, 33, 78–79, 83, 87, 89\\nX-34 Program (Renewed), 91–92, 96n70, \\n99–100, 123–149, 128, 249, 276. See \\nalso X-34 Project; X-34 Technology Testbed Demonstrator (TTD); individual vehicles\\nA-series vehicles, 113, 120n45air launch, 103–104, 123, 191–193, 225, \\n230, 312\\nannounced, 100\\nASTP (Advanced Space Transportation \\nProgram), 112\\navionics systems, 118\\nbudget, 113, 114, 258–259cancellation, 118, 207, 294–318, 302\\nchallenges, 106\\ncommercial market, 112, 237\\ncompared to X-15 Program, 123–126, 124\\ncompared to X-33 Program, 108–109\\ncontract modification, 257–258\\ncosts, 102, 105, 109–111, 113\\nCritical Design Review (CDR), 112, 132, 265, \\n335, 338, 350\\nDC-XA Program precedents, 112\\ndelays, 110, 149, 217, 223, 246, 286, 306, \\n313–314, 316', ', 23\\ndefined, 4development, 34–35\\ndimensions, 80–81\\nengine design, 78, 82–87fuel tanks, 78\\nGoldin, Daniel, 36\\nlaunch aircraft, 78, 83\\nmilestones, 91\\nmission conception, 81\\npayloads, 64, 67, 69–70, 82, 275propulsion systems, 83\\nredesign, 27\\nRSB/HSRV comparison, 67\\nSSTO Phase II, 38\\nsecond-generation, 275, 304\\nstudy, 30n61\\ntesting, 74–76, 79–81\\nthird-generation, 275\\nX-34 TTD, 100, 102X-34A, 2, 33, 73, 78–83, 87\\nX-34B, 2, 33, 78–79, 83, 87, 89, 103–104, \\n128\\nX-34 Technology Testbed Demonstrator (TTD), \\n2, 5, 33, 98, 100, 107, 183n16, 249. See also X-34 Project; X-34 Program (Renewed); \\nindividual vehicles\\nabort option, 101, 108, 169–170aerodynamic database, 103, 162, 164–166, \\n168, 170, 171–172\\nAerodynamic Preliminary Analysis System \\n(APAS), 163–164', 'Index\\n395restart, 299–300, 314\\nrestructuring, 112, 275, 281–287, 284, \\n303–304, 306, 313–314\\nrisk mitigation, 114–118, 258, 267, 269, \\n281–282, 305–307\\nrisks, 114–115, 115–118, 143–144, \\n148–149, 255, 281, 284\\nsafety, 132, 255–256, 267, 337\\nsafety features, 138–140, 143, 147\\nschedule, 110–111, 258, 264, 266, \\n271–272, 305, 316\\nsoftware, 127, 139–140, 145Space Launch Initiative (SLI), 299–300\\nSpace Shuttle precedents, 123, 127, \\n132–133, 148–149\\nstructure, 126\\nsubcontractors, 134\\nsystem design freeze (SDF), 73, 133–134\\nTask Agreement, 110teams, 142\\ntechnical challenges, 136\\ntelemetry, 137\\nTerminal Area Energy Management (TAEM), \\n245\\ntest flights number, 282, 286\\ntest models, 314\\ntesting, 128–129, 138, 145, 148, 282, 286, \\n306–307, 320n28\\nthermal protection system (TPS), 132–133, \\n147\\nthrust structures, 137wind tunnel testing, 263\\nwings, 127, 133, 134–135, 149\\nX-33 cancellation, 306\\nX-34 A-1, 129, 154, 148–149, 150n13, \\n222\\nX-34 A-1 completion, 149, 165X-34 A-1A, 149, 150n13\\nX-34 A-2, 133, 148–149\\nX-34 Renewed Program, 113–114, 273, 281X-34B, 2, 103–104, 128\\nX-34 RLV concept, viii, 1–2, 18–19, 33, 62, \\n79–82. See also X-34 “First” Program; \\nindividual vehicles\\nair launch, 81, 91, 100\\nattributes, 67\\nboosters, 74, 80, 84compared to Shenlong (“Divine Dragon”), 26\\ncompared to X-33, 20, 23\\ndefined, 4development, 34–35\\ndimensions, 80–81\\nengine'], retrieval_context=None, additional_metadata=None, comments=None, source_file='../../02-KB-Documents/NASA/promise-denied_tagged.pdf'),\n",
       " Golden(input='Compare the technological goals of the X-34 program with those of the DC-X and DC-XA programs.', actual_output=None, expected_output='The X-34 program aimed to demonstrate low-cost operation, following in the footsteps of the DC-X and DC-XA programs, which broke new ground in low-cost operations with small workforce involvement in processing, launch, and rapid turnaround.', context=['Orbital Gets a Second Chance\\n109obtained through the use of a small workforce to operate an integrated mobile \\nground operations center and an aircraftlike propellant loading system. The \\nthird focus area involved testing a host of experiments.30 Back in America, \\nLondon noted that “the Number One goal for us technologically with X-34 is \\nto demonstrate low-cost operation…. We’re trying to follow in the footsteps of \\nthe work that was done by the DC-X and DC-XA programs that really broke a lot of new ground in the area of low cost operations, with small numbers of people involved in the actual processing and launch and rapid turnaround of \\nthe vehicle.” He added hopefully, “So we’re going to try to continue to push \\nthe football down the field.”\\n31\\nThe X-34 Hosted-Experiments Program\\nIn response to NASA’s first requests for hosted experiments, the Agency \\naccepted 27 proposals and rejected 6. Requests came from seven different U.S. \\ncompanies, two NASA Centers, and two foreign companies. The proposals fell \\ninto the following four categories:\\n1. Thermal Protection Systems (TPS)  18 experiments\\n2. Guidance, Navigation, and Control (GN&C)  3 experiments\\n3. Propulsion/Auxiliary Power Units (P/APU)  3 experiments\\n4. Structural Instrumentation (SI)  3 experiments\\nAltogether, NASA budgeted $2 million [$3 million in 2016] for X-34 \\nexperiments.32 Although NASA evaluators judged all 27 proposals as worth -\\nwhile, budget limitations eventually resulted in their only selecting seven: five \\ncollectively from Boeing and McDonnell Douglas, and one each from Daimler-\\nBenz and Alenia.33\\nAssigned X-34 Task Agreement Relationships\\nOrbital and NASA each had an X-34 program manager, with the Orbital \\nprogram manager held accountable to the NASA program manager. Over the program, Orbital had two different program managers—Robert E. Lindberg, Jr. (also Orbital vice president and X-34 program principal investigator), and \\nG. D avid Lowe.34 NASA had four managers, beginning with Jack Levine, fol-\\nlowed in sequence by John R. London III, Michael D. Allen, and finally Mark Fisher. In'], retrieval_context=None, additional_metadata=None, comments=None, source_file='../../02-KB-Documents/NASA/promise-denied_tagged.pdf'),\n",
       " Golden(input='Compare the number and categories of proposed experiments to those selected for the X-34 program, and what was the budget for these experiments?', actual_output=None, expected_output='27 proposals were submitted, categorized into 4 areas: TPS (18), GN&C (3), P/APU (3), and SI (3). 7 experiments were selected, with a budget of $2 million ($3 million in 2016).', context=['Orbital Gets a Second Chance\\n109obtained through the use of a small workforce to operate an integrated mobile \\nground operations center and an aircraftlike propellant loading system. The \\nthird focus area involved testing a host of experiments.30 Back in America, \\nLondon noted that “the Number One goal for us technologically with X-34 is \\nto demonstrate low-cost operation…. We’re trying to follow in the footsteps of \\nthe work that was done by the DC-X and DC-XA programs that really broke a lot of new ground in the area of low cost operations, with small numbers of people involved in the actual processing and launch and rapid turnaround of \\nthe vehicle.” He added hopefully, “So we’re going to try to continue to push \\nthe football down the field.”\\n31\\nThe X-34 Hosted-Experiments Program\\nIn response to NASA’s first requests for hosted experiments, the Agency \\naccepted 27 proposals and rejected 6. Requests came from seven different U.S. \\ncompanies, two NASA Centers, and two foreign companies. The proposals fell \\ninto the following four categories:\\n1. Thermal Protection Systems (TPS)  18 experiments\\n2. Guidance, Navigation, and Control (GN&C)  3 experiments\\n3. Propulsion/Auxiliary Power Units (P/APU)  3 experiments\\n4. Structural Instrumentation (SI)  3 experiments\\nAltogether, NASA budgeted $2 million [$3 million in 2016] for X-34 \\nexperiments.32 Although NASA evaluators judged all 27 proposals as worth -\\nwhile, budget limitations eventually resulted in their only selecting seven: five \\ncollectively from Boeing and McDonnell Douglas, and one each from Daimler-\\nBenz and Alenia.33\\nAssigned X-34 Task Agreement Relationships\\nOrbital and NASA each had an X-34 program manager, with the Orbital \\nprogram manager held accountable to the NASA program manager. Over the program, Orbital had two different program managers—Robert E. Lindberg, Jr. (also Orbital vice president and X-34 program principal investigator), and \\nG. D avid Lowe.34 NASA had four managers, beginning with Jack Levine, fol-\\nlowed in sequence by John R. London III, Michael D. Allen, and finally Mark Fisher. In'], retrieval_context=None, additional_metadata=None, comments=None, source_file='../../02-KB-Documents/NASA/promise-denied_tagged.pdf'),\n",
       " Golden(input=\"How did the collaboration between the project manager and PI contribute to the Dawn project's success, and what did they learn from each other?\", actual_output=None, expected_output=\"The collaboration between the project manager and PI contributed to the Dawn project's success by enabling them to address mass, power, and budget problems together, harness resources, and proceed in a unified direction, ultimately preventing the mission from being canceled. They learned to respect each other's roles, with the PI knowing when not to interfere in engineering and the project manager honoring science requirements.\", context=['ures highlighted at the program mission and systems review. The two were able, \\nquickly, to address the mass, power, and budget problems, facing them as a team rather \\nthan leaders of opposing sides. Working together, they harnessed their resources to \\nproceed in a unified direction and keep the mission from being canceled.\\nThe next Dawn project manager, who appeared at another critical juncture, agreed \\nthat the working relationship between the project manager and PI was essential. The \\nPI needs to know when not to interfere in the engineering, and the project manager \\nneeds to honor the science requirements. This project manager had also been the project \\nmanager on Deep Impact just before launch, and he appreciated that the Deep Impact '], retrieval_context=None, additional_metadata=None, comments=None, source_file='../../02-KB-Documents/NASA/discovery-program-ebook.pdf'),\n",
       " Golden(input='How did the collaborative efforts of the project manager and PI mitigate the mass, power, and budget problems threatening the mission?', actual_output=None, expected_output='They worked together as a team, harnessing their resources to proceed in a unified direction, addressing the problems quickly and keeping the mission from being canceled.', context=['ures highlighted at the program mission and systems review. The two were able, \\nquickly, to address the mass, power, and budget problems, facing them as a team rather \\nthan leaders of opposing sides. Working together, they harnessed their resources to \\nproceed in a unified direction and keep the mission from being canceled.\\nThe next Dawn project manager, who appeared at another critical juncture, agreed \\nthat the working relationship between the project manager and PI was essential. The \\nPI needs to know when not to interfere in the engineering, and the project manager \\nneeds to honor the science requirements. This project manager had also been the project \\nmanager on Deep Impact just before launch, and he appreciated that the Deep Impact '], retrieval_context=None, additional_metadata=None, comments=None, source_file='../../02-KB-Documents/NASA/discovery-program-ebook.pdf'),\n",
       " Golden(input=\"Analyze the impact of budget constraints on NASA's decision-making process for interplanetary missions.\", actual_output=None, expected_output=\"Budget constraints significantly impacted NASA's decision-making process for interplanetary missions, as seen in the Dawn mission's cancellation and subsequent reinstatement. The cost of the mission was high, with $284 million already spent, and unresolved technical and management issues threatened to increase it further. This led to the cancellation, with rumors of funds being diverted to other projects, such as the space shuttle and space station.\", context=['Chapter 6:  Renewed Commitment: Dawn235for Dawn at Los Alamos, admitted that he was stunned, but regrouped, saying, “We \\nneed to suck in our guts and rehabilitate this mission and fly it one way or another. ”133\\nA few days later, Cleave addressed the topic with the National Research Council \\nSpace Studies Board, saying that the cost was high and unresolved technical and man -\\nagement issues threatened to push it even higher; project managers couldn’t get the \\nproject estimate back in the box, despite the mission’s maturity, having already spent \\n$284 million of the $446 million estimate to complete.134 Rumors abounded, and \\narticles were published stating that NASA was “cannibalizing its science missions to \\npay for the space shuttle and the space station and future plans to send astronauts \\nback to the moon. ”135\\nOn 6 March 2006, the Jet Propulsion Laboratory officially appealed to the Office of \\nthe Administrator using a new institutional procedure, informally called the reclama \\nprocess, widely seen as the first time in recent memory that a NASA center challenged \\na NASA Headquarters decision on a mission.136 Three days later, NASA announced \\nthat it would consider reinstating the mission. A team that included a newly promoted \\nAssociate Administrator Rex Geveden and NASA Chief Engineer Chris Scolese was \\nassembled for a review that included presentations from JPL and the Dawn Integrated \\nAction Team, including, reportedly, additional information from JPL not provided to \\nthe Science Mission Directorate earlier in the year.\\nThe review proceeded quietly while, at the annual meeting of the Lunar and Planetary \\nScience Conference the following week, co-investigators and other researchers harshly \\ncriticized the cancellation.137 Gerhard Neukum, a co-investigator and professor of \\nplanetary sciences at Germany’s Freie Universität Berlin, said, “It’s totally unaccept -\\nable what’s happening now. NASA has responsibility to their cooperation partners first \\nand foremost before they go to the last resort of canceling a mission. ” The community \\nwas alternately suspicious that the money had been repurposed and confused about \\nprocedure, a fact not improved when Dantzler would not address the specifics of the \\ncancell'], retrieval_context=None, additional_metadata=None, comments=None, source_file='../../02-KB-Documents/NASA/discovery-program-ebook.pdf'),\n",
       " Golden(input=\"Analyze the impact of NASA's budget reallocation on international collaborative space projects.\", actual_output=None, expected_output=\"NASA's budget reallocation led to the cancellation of the Dawn mission, causing suspicion and confusion among international cooperation partners, with some feeling that NASA had not fulfilled its responsibilities to them.\", context=['Chapter 6:  Renewed Commitment: Dawn235for Dawn at Los Alamos, admitted that he was stunned, but regrouped, saying, “We \\nneed to suck in our guts and rehabilitate this mission and fly it one way or another. ”133\\nA few days later, Cleave addressed the topic with the National Research Council \\nSpace Studies Board, saying that the cost was high and unresolved technical and man -\\nagement issues threatened to push it even higher; project managers couldn’t get the \\nproject estimate back in the box, despite the mission’s maturity, having already spent \\n$284 million of the $446 million estimate to complete.134 Rumors abounded, and \\narticles were published stating that NASA was “cannibalizing its science missions to \\npay for the space shuttle and the space station and future plans to send astronauts \\nback to the moon. ”135\\nOn 6 March 2006, the Jet Propulsion Laboratory officially appealed to the Office of \\nthe Administrator using a new institutional procedure, informally called the reclama \\nprocess, widely seen as the first time in recent memory that a NASA center challenged \\na NASA Headquarters decision on a mission.136 Three days later, NASA announced \\nthat it would consider reinstating the mission. A team that included a newly promoted \\nAssociate Administrator Rex Geveden and NASA Chief Engineer Chris Scolese was \\nassembled for a review that included presentations from JPL and the Dawn Integrated \\nAction Team, including, reportedly, additional information from JPL not provided to \\nthe Science Mission Directorate earlier in the year.\\nThe review proceeded quietly while, at the annual meeting of the Lunar and Planetary \\nScience Conference the following week, co-investigators and other researchers harshly \\ncriticized the cancellation.137 Gerhard Neukum, a co-investigator and professor of \\nplanetary sciences at Germany’s Freie Universität Berlin, said, “It’s totally unaccept -\\nable what’s happening now. NASA has responsibility to their cooperation partners first \\nand foremost before they go to the last resort of canceling a mission. ” The community \\nwas alternately suspicious that the money had been repurposed and confused about \\nprocedure, a fact not improved when Dantzler would not address the specifics of the \\ncancell'], retrieval_context=None, additional_metadata=None, comments=None, source_file='../../02-KB-Documents/NASA/discovery-program-ebook.pdf'),\n",
       " Golden(input=\"Compare Pratt & Whitney Aircraft's contributions to aircraft engine development with those of General Electric.\", actual_output=None, expected_output=\"Pratt & Whitney Aircraft contributed to aircraft engine development through the 578-DX demonstrator engine, Advanced Control Technology for Integrated Vehicles (ACTIVE) program, and Advanced Subsonic Technology (AST) program. In contrast, General Electric's contributions include the F101 engine, F404 turbofan, F414 engine, GE36 UDF UHB engine, GE90 engine series, and GEnx turbofan.\", context=[' Science , 124\\nPorter, Lisa, 218\\nPower Jets, Ltd., 23\\npower plants. See engines\\nPratt & Whitney Aircraft\\n578-DX demonstrator engine, 123–124, \\n123\\nAdvanced Control Technology for Integrated \\nVehicles (ACTIVE) program, 156\\nAdvanced Ducted Propulsor (ADP), 185\\nAdvanced Ducted Propulsor (ADP) low-speed \\nfan, 186, 192\\nAdvanced Subsonic Technology (AST) \\nprogram, 188–193, 192–193\\nAdvanced Turboprop Project (ATP), 115\\naircraft testing, 188\\nairliner market, 112\\nalloys, 168, 180\\nchevron studies, 193\\nchevron-enhanced engines, 197\\ncomputer software, 199\\ncreation of, 17, 26\\nCritical Propulsion Components (CPC), 198\\nEnergy Efficient Engine (E3), 110–113, 125\\nEngine Alliance GP7200 engine, 180\\nEngine Component Improvement (ECI) \\nProgram, 106–110', ' Ducted Propulsor (ADP), 185\\nAdvanced Gas Turbine (AGT), 168\\nAdvanced General Aviation Transportation \\nExperiments (AGATE), 180–181\\nAdvanced Subsonic Technology (AST) \\nprogram,169 188–190\\nAdvanced Supersonic Propulsion and \\nIntegration Research (ASPIRE) project, 199\\nAdvanced Turbine Technology Applications \\n(ATTAP) program, 168\\nAdvanced Turboprop Project (ATP), 105–106, \\n114–118, 179\\naeronautics research, 73, 217, 228\\nAeronautics Research Mission Directorate \\n(ARMD), 226\\nAerospace Industry Technology Program, 169\\nafterburning turbofan design, 66\\naircraft analytics, 65\\nAircraft Energy Efficiency (ACEE) program, \\n104–126, 131', 'fan, 63\\ncomputational fluid dynamics (CFD), 63\\nCritical Propulsion Components (CPC), 198\\ndouble annular axially parallel engine design, \\n87\\nEnergy Efficient Engine (E3), 112, 125\\nEnergy Efficient Engine (E3) demonstrator, \\n102\\nEngine Alliance GP7200 engine, 180\\nEngine Component Improvement (ECI) \\nProgram, 106, 110–113\\nengine-component noise nomenclature, 190\\nExperimental Clean Combustor Program \\n(ECCP), 111\\nF101 engine, 92, 178\\nF404 turbofan, 121, 168\\nF414 engine, 178\\n“fan” (propfan), 124\\nFlight Propulsion System (FPS), 110–111\\nfuel efficiency, 132n8\\nGE F404 turbofan, 155\\nGE4 turbojet, 52–53\\nGE36 UDF UHB engine, 114, 114, 121, 123\\nGE90 engine series, 112–113, 125, 168\\nGEnx turbofan, 169, 174–175, 196\\nGEnx-2B engine, 174\\nHigh Temperature Engine Materials \\nTechnology Program (HITEMP), 169\\nhigh-bypass-ratio engines, 93, 187, 192'], retrieval_context=None, additional_metadata=None, comments=None, source_file='../../02-KB-Documents/NASA/power-for-flight-tagged.pdf'),\n",
       " Golden(input='Explore the development of advanced turboprop engines for next-generation aircraft.', actual_output=None, expected_output='The Advanced Turboprop Project (ATP) was a program that developed advanced turboprop engines for next-generation aircraft, with a focus on improving fuel efficiency and reducing emissions. The program, which ran from 1984 to 1994, resulted in the development of the GE36 UDF UHB engine, a high-bypass-ratio turboprop engine that demonstrated significant improvements in fuel efficiency and noise reduction.', context=[' Science , 124\\nPorter, Lisa, 218\\nPower Jets, Ltd., 23\\npower plants. See engines\\nPratt & Whitney Aircraft\\n578-DX demonstrator engine, 123–124, \\n123\\nAdvanced Control Technology for Integrated \\nVehicles (ACTIVE) program, 156\\nAdvanced Ducted Propulsor (ADP), 185\\nAdvanced Ducted Propulsor (ADP) low-speed \\nfan, 186, 192\\nAdvanced Subsonic Technology (AST) \\nprogram, 188–193, 192–193\\nAdvanced Turboprop Project (ATP), 115\\naircraft testing, 188\\nairliner market, 112\\nalloys, 168, 180\\nchevron studies, 193\\nchevron-enhanced engines, 197\\ncomputer software, 199\\ncreation of, 17, 26\\nCritical Propulsion Components (CPC), 198\\nEnergy Efficient Engine (E3), 110–113, 125\\nEngine Alliance GP7200 engine, 180\\nEngine Component Improvement (ECI) \\nProgram, 106–110', ' Ducted Propulsor (ADP), 185\\nAdvanced Gas Turbine (AGT), 168\\nAdvanced General Aviation Transportation \\nExperiments (AGATE), 180–181\\nAdvanced Subsonic Technology (AST) \\nprogram,169 188–190\\nAdvanced Supersonic Propulsion and \\nIntegration Research (ASPIRE) project, 199\\nAdvanced Turbine Technology Applications \\n(ATTAP) program, 168\\nAdvanced Turboprop Project (ATP), 105–106, \\n114–118, 179\\naeronautics research, 73, 217, 228\\nAeronautics Research Mission Directorate \\n(ARMD), 226\\nAerospace Industry Technology Program, 169\\nafterburning turbofan design, 66\\naircraft analytics, 65\\nAircraft Energy Efficiency (ACEE) program, \\n104–126, 131', 'fan, 63\\ncomputational fluid dynamics (CFD), 63\\nCritical Propulsion Components (CPC), 198\\ndouble annular axially parallel engine design, \\n87\\nEnergy Efficient Engine (E3), 112, 125\\nEnergy Efficient Engine (E3) demonstrator, \\n102\\nEngine Alliance GP7200 engine, 180\\nEngine Component Improvement (ECI) \\nProgram, 106, 110–113\\nengine-component noise nomenclature, 190\\nExperimental Clean Combustor Program \\n(ECCP), 111\\nF101 engine, 92, 178\\nF404 turbofan, 121, 168\\nF414 engine, 178\\n“fan” (propfan), 124\\nFlight Propulsion System (FPS), 110–111\\nfuel efficiency, 132n8\\nGE F404 turbofan, 155\\nGE4 turbojet, 52–53\\nGE36 UDF UHB engine, 114, 114, 121, 123\\nGE90 engine series, 112–113, 125, 168\\nGEnx turbofan, 169, 174–175, 196\\nGEnx-2B engine, 174\\nHigh Temperature Engine Materials \\nTechnology Program (HITEMP), 169\\nhigh-bypass-ratio engines, 93, 187, 192'], retrieval_context=None, additional_metadata=None, comments=None, source_file='../../02-KB-Documents/NASA/power-for-flight-tagged.pdf'),\n",
       " Golden(input='Which American military aircraft, including the F-14, F-15, F-16, and B-1, benefited from F-111 inlet-engine compatibility research?', actual_output=None, expected_output='The Grumman F-14 Tomcat, McDonnell Douglas F-15 Eagle, General Dynamics F-16 Fighting Falcon, and Rockwell B-1 Lancer.', context=[' issue of commonality and on the problems \\nof airframe-engine integration. For the long term, the research conducted to \\nsolve the inlet-engine compatibility problems related to the F-111 proved \\nbeneficial to the development of later American military aircraft, including the \\nGrumman F-14 Tomcat, McDonnell Douglas F-15 Eagle, General Dynamics \\nF-16 Fighting Falcon, and Rockwell B-1 Lancer.28\\nDeveloping and Refining Advanced \\nMilitary Aircraft Engines\\nThe Military and NASA Lewis’s Propulsion Systems Laboratory (PSL)\\nSince its creation, NASA supported engine development for American aircraft. \\nIn 1966, with much of the work on the Apollo program already accomplished, '], retrieval_context=None, additional_metadata=None, comments=None, source_file='../../02-KB-Documents/NASA/power-for-flight-tagged.pdf'),\n",
       " Golden(input=\"How did NASA Lewis's PSL contribute to the development of engines for aircraft like F-14, F-15, F-16, and B-1?\", actual_output=None, expected_output=\"NASA Lewis's PSL contributed to the development of engines for aircraft like F-14, F-15, F-16, and B-1 through its support of engine development for American aircraft, building on research conducted to solve inlet-engine compatibility problems related to the F-111.\", context=[' issue of commonality and on the problems \\nof airframe-engine integration. For the long term, the research conducted to \\nsolve the inlet-engine compatibility problems related to the F-111 proved \\nbeneficial to the development of later American military aircraft, including the \\nGrumman F-14 Tomcat, McDonnell Douglas F-15 Eagle, General Dynamics \\nF-16 Fighting Falcon, and Rockwell B-1 Lancer.28\\nDeveloping and Refining Advanced \\nMilitary Aircraft Engines\\nThe Military and NASA Lewis’s Propulsion Systems Laboratory (PSL)\\nSince its creation, NASA supported engine development for American aircraft. \\nIn 1966, with much of the work on the Apollo program already accomplished, '], retrieval_context=None, additional_metadata=None, comments=None, source_file='../../02-KB-Documents/NASA/power-for-flight-tagged.pdf')]"
      ]
     },
     "execution_count": 3,
     "metadata": {},
     "output_type": "execute_result"
    }
   ],
   "execution_count": 3
  },
  {
   "cell_type": "code",
   "id": "initial_id",
   "metadata": {
    "ExecuteTime": {
     "end_time": "2024-08-26T12:12:18.138284Z",
     "start_time": "2024-08-26T12:12:18.109800Z"
    }
   },
   "source": [
    "# Display the generated test set as a Pandas dataframe\n",
    "test_set_df = goldens_to_pandas(synthesizer.synthetic_goldens)\n",
    "display(test_set_df)"
   ],
   "outputs": [
    {
     "data": {
      "text/plain": [
       "                                                query  \\\n",
       "0   Explore the application of space-derived cardi...   \n",
       "1   How do space cardiology research and technolog...   \n",
       "2   Investigate the effects of microgravity on pla...   \n",
       "3   Investigate the effects of microgravity on mou...   \n",
       "4   What risks did Carl Sagan highlight in asteroi...   \n",
       "5   What specific asteroid-related danger did Carl...   \n",
       "6   What is the mean diameter of the satellite orb...   \n",
       "7   Compare the roles of Arecibo and Goldstone rad...   \n",
       "8   Compare the objectives and outcomes of Zond 7 ...   \n",
       "9   What was the USSR's primary launch vehicle and...   \n",
       "10  Identify the six scientific instruments onboar...   \n",
       "11  Compare the OSIRIS-REx mission's goals and ins...   \n",
       "12  Analyze the impact of rotor blade stalling on ...   \n",
       "13  Considering the rotor's speed stability and fu...   \n",
       "14  What is the function of the main longitudinal ...   \n",
       "15  How do lateral projections like sponsons enhan...   \n",
       "16  Compare the management styles and priorities o...   \n",
       "17  What changes did the Bush administration, led ...   \n",
       "18  What was the total federal outlay in 2004, as ...   \n",
       "19  What is the source of NSF budget data accordin...   \n",
       "20  Analyze the role of end credits in documenting...   \n",
       "21  What is the total number of sections listed on...   \n",
       "22  How do astronomers utilize a Super-Jupiter's c...   \n",
       "23  What atmospheric features of 2M1207b, a young,...   \n",
       "24  Considering Percival Lowell's theories and NAS...   \n",
       "25  Investigate the possibility of microbial life ...   \n",
       "26  Analyze the effects of the Space Shuttle progr...   \n",
       "27  What limited but reliable technology, develope...   \n",
       "28  What was the purpose of the X-34 RLV concept i...   \n",
       "29  What evidence supports the claim that the X-34...   \n",
       "30  Compare the technological goals of the X-34 pr...   \n",
       "31  Compare the number and categories of proposed ...   \n",
       "32  How did the collaboration between the project ...   \n",
       "33  How did the collaborative efforts of the proje...   \n",
       "34  Analyze the impact of budget constraints on NA...   \n",
       "35  Analyze the impact of NASA's budget reallocati...   \n",
       "36  Compare Pratt & Whitney Aircraft's contributio...   \n",
       "37  Explore the development of advanced turboprop ...   \n",
       "38  Which American military aircraft, including th...   \n",
       "39  How did NASA Lewis's PSL contribute to the dev...   \n",
       "\n",
       "                                     reference_answer  \n",
       "0   Space-derived cardiovascular monitoring techno...  \n",
       "1   Space cardiology research and technologies, su...  \n",
       "2   Mazars, Christian, et al. \"Microsome-associate...  \n",
       "3   The effects of microgravity on mouse skeletal ...  \n",
       "4   Carl Sagan highlighted the dangers of asteroid...  \n",
       "5                                Asteroid deflection.  \n",
       "6                                   About 500 meters.  \n",
       "7   Arecibo and Goldstone radar observations playe...  \n",
       "8   Zond 7, 5, and 6 all had circumlunar objective...  \n",
       "9   The USSR's primary launch vehicle for lunar an...  \n",
       "10  The six scientific instruments onboard OSIRIS-...  \n",
       "11  OSIRIS-REx, New Horizons, and Juno are all par...  \n",
       "12  Rotor blade stalling in high-speed forward fli...  \n",
       "13  The helicopter exhibits a pronounced type of i...  \n",
       "14  The main longitudinal strength member, known a...  \n",
       "15  Lateral projections like sponsons enhance tran...  \n",
       "16  Daniel Goldin favored horizontal management st...  \n",
       "17  The Bush administration implemented changes at...  \n",
       "18  The total federal outlay in 2004 was $5,092.00...  \n",
       "19  The White House Office of Management and Budge...  \n",
       "20  End credits document film production contribut...  \n",
       "21                                                  3  \n",
       "22  Astronomers use a Super-Jupiter's cloudy skies...  \n",
       "23  Variegated cloud cover of bright and dark patc...  \n",
       "24  Despite Percival Lowell's theories being dispr...  \n",
       "25             Not mentioned in the provided context.  \n",
       "26  The Space Shuttle program's hiatus, resulting ...  \n",
       "27                         The Russian Soyuz capsule.  \n",
       "28  The X-34 RLV concept was designed for space tr...  \n",
       "29  There is no evidence in the provided context t...  \n",
       "30  The X-34 program aimed to demonstrate low-cost...  \n",
       "31  27 proposals were submitted, categorized into ...  \n",
       "32  The collaboration between the project manager ...  \n",
       "33  They worked together as a team, harnessing the...  \n",
       "34  Budget constraints significantly impacted NASA...  \n",
       "35  NASA's budget reallocation led to the cancella...  \n",
       "36  Pratt & Whitney Aircraft contributed to aircra...  \n",
       "37  The Advanced Turboprop Project (ATP) was a pro...  \n",
       "38  The Grumman F-14 Tomcat, McDonnell Douglas F-1...  \n",
       "39  NASA Lewis's PSL contributed to the developmen...  "
      ],
      "text/html": [
       "<div>\n",
       "<style scoped>\n",
       "    .dataframe tbody tr th:only-of-type {\n",
       "        vertical-align: middle;\n",
       "    }\n",
       "\n",
       "    .dataframe tbody tr th {\n",
       "        vertical-align: top;\n",
       "    }\n",
       "\n",
       "    .dataframe thead th {\n",
       "        text-align: right;\n",
       "    }\n",
       "</style>\n",
       "<table border=\"1\" class=\"dataframe\">\n",
       "  <thead>\n",
       "    <tr style=\"text-align: right;\">\n",
       "      <th></th>\n",
       "      <th>query</th>\n",
       "      <th>reference_answer</th>\n",
       "    </tr>\n",
       "  </thead>\n",
       "  <tbody>\n",
       "    <tr>\n",
       "      <th>0</th>\n",
       "      <td>Explore the application of space-derived cardi...</td>\n",
       "      <td>Space-derived cardiovascular monitoring techno...</td>\n",
       "    </tr>\n",
       "    <tr>\n",
       "      <th>1</th>\n",
       "      <td>How do space cardiology research and technolog...</td>\n",
       "      <td>Space cardiology research and technologies, su...</td>\n",
       "    </tr>\n",
       "    <tr>\n",
       "      <th>2</th>\n",
       "      <td>Investigate the effects of microgravity on pla...</td>\n",
       "      <td>Mazars, Christian, et al. \"Microsome-associate...</td>\n",
       "    </tr>\n",
       "    <tr>\n",
       "      <th>3</th>\n",
       "      <td>Investigate the effects of microgravity on mou...</td>\n",
       "      <td>The effects of microgravity on mouse skeletal ...</td>\n",
       "    </tr>\n",
       "    <tr>\n",
       "      <th>4</th>\n",
       "      <td>What risks did Carl Sagan highlight in asteroi...</td>\n",
       "      <td>Carl Sagan highlighted the dangers of asteroid...</td>\n",
       "    </tr>\n",
       "    <tr>\n",
       "      <th>5</th>\n",
       "      <td>What specific asteroid-related danger did Carl...</td>\n",
       "      <td>Asteroid deflection.</td>\n",
       "    </tr>\n",
       "    <tr>\n",
       "      <th>6</th>\n",
       "      <td>What is the mean diameter of the satellite orb...</td>\n",
       "      <td>About 500 meters.</td>\n",
       "    </tr>\n",
       "    <tr>\n",
       "      <th>7</th>\n",
       "      <td>Compare the roles of Arecibo and Goldstone rad...</td>\n",
       "      <td>Arecibo and Goldstone radar observations playe...</td>\n",
       "    </tr>\n",
       "    <tr>\n",
       "      <th>8</th>\n",
       "      <td>Compare the objectives and outcomes of Zond 7 ...</td>\n",
       "      <td>Zond 7, 5, and 6 all had circumlunar objective...</td>\n",
       "    </tr>\n",
       "    <tr>\n",
       "      <th>9</th>\n",
       "      <td>What was the USSR's primary launch vehicle and...</td>\n",
       "      <td>The USSR's primary launch vehicle for lunar an...</td>\n",
       "    </tr>\n",
       "    <tr>\n",
       "      <th>10</th>\n",
       "      <td>Identify the six scientific instruments onboar...</td>\n",
       "      <td>The six scientific instruments onboard OSIRIS-...</td>\n",
       "    </tr>\n",
       "    <tr>\n",
       "      <th>11</th>\n",
       "      <td>Compare the OSIRIS-REx mission's goals and ins...</td>\n",
       "      <td>OSIRIS-REx, New Horizons, and Juno are all par...</td>\n",
       "    </tr>\n",
       "    <tr>\n",
       "      <th>12</th>\n",
       "      <td>Analyze the impact of rotor blade stalling on ...</td>\n",
       "      <td>Rotor blade stalling in high-speed forward fli...</td>\n",
       "    </tr>\n",
       "    <tr>\n",
       "      <th>13</th>\n",
       "      <td>Considering the rotor's speed stability and fu...</td>\n",
       "      <td>The helicopter exhibits a pronounced type of i...</td>\n",
       "    </tr>\n",
       "    <tr>\n",
       "      <th>14</th>\n",
       "      <td>What is the function of the main longitudinal ...</td>\n",
       "      <td>The main longitudinal strength member, known a...</td>\n",
       "    </tr>\n",
       "    <tr>\n",
       "      <th>15</th>\n",
       "      <td>How do lateral projections like sponsons enhan...</td>\n",
       "      <td>Lateral projections like sponsons enhance tran...</td>\n",
       "    </tr>\n",
       "    <tr>\n",
       "      <th>16</th>\n",
       "      <td>Compare the management styles and priorities o...</td>\n",
       "      <td>Daniel Goldin favored horizontal management st...</td>\n",
       "    </tr>\n",
       "    <tr>\n",
       "      <th>17</th>\n",
       "      <td>What changes did the Bush administration, led ...</td>\n",
       "      <td>The Bush administration implemented changes at...</td>\n",
       "    </tr>\n",
       "    <tr>\n",
       "      <th>18</th>\n",
       "      <td>What was the total federal outlay in 2004, as ...</td>\n",
       "      <td>The total federal outlay in 2004 was $5,092.00...</td>\n",
       "    </tr>\n",
       "    <tr>\n",
       "      <th>19</th>\n",
       "      <td>What is the source of NSF budget data accordin...</td>\n",
       "      <td>The White House Office of Management and Budge...</td>\n",
       "    </tr>\n",
       "    <tr>\n",
       "      <th>20</th>\n",
       "      <td>Analyze the role of end credits in documenting...</td>\n",
       "      <td>End credits document film production contribut...</td>\n",
       "    </tr>\n",
       "    <tr>\n",
       "      <th>21</th>\n",
       "      <td>What is the total number of sections listed on...</td>\n",
       "      <td>3</td>\n",
       "    </tr>\n",
       "    <tr>\n",
       "      <th>22</th>\n",
       "      <td>How do astronomers utilize a Super-Jupiter's c...</td>\n",
       "      <td>Astronomers use a Super-Jupiter's cloudy skies...</td>\n",
       "    </tr>\n",
       "    <tr>\n",
       "      <th>23</th>\n",
       "      <td>What atmospheric features of 2M1207b, a young,...</td>\n",
       "      <td>Variegated cloud cover of bright and dark patc...</td>\n",
       "    </tr>\n",
       "    <tr>\n",
       "      <th>24</th>\n",
       "      <td>Considering Percival Lowell's theories and NAS...</td>\n",
       "      <td>Despite Percival Lowell's theories being dispr...</td>\n",
       "    </tr>\n",
       "    <tr>\n",
       "      <th>25</th>\n",
       "      <td>Investigate the possibility of microbial life ...</td>\n",
       "      <td>Not mentioned in the provided context.</td>\n",
       "    </tr>\n",
       "    <tr>\n",
       "      <th>26</th>\n",
       "      <td>Analyze the effects of the Space Shuttle progr...</td>\n",
       "      <td>The Space Shuttle program's hiatus, resulting ...</td>\n",
       "    </tr>\n",
       "    <tr>\n",
       "      <th>27</th>\n",
       "      <td>What limited but reliable technology, develope...</td>\n",
       "      <td>The Russian Soyuz capsule.</td>\n",
       "    </tr>\n",
       "    <tr>\n",
       "      <th>28</th>\n",
       "      <td>What was the purpose of the X-34 RLV concept i...</td>\n",
       "      <td>The X-34 RLV concept was designed for space tr...</td>\n",
       "    </tr>\n",
       "    <tr>\n",
       "      <th>29</th>\n",
       "      <td>What evidence supports the claim that the X-34...</td>\n",
       "      <td>There is no evidence in the provided context t...</td>\n",
       "    </tr>\n",
       "    <tr>\n",
       "      <th>30</th>\n",
       "      <td>Compare the technological goals of the X-34 pr...</td>\n",
       "      <td>The X-34 program aimed to demonstrate low-cost...</td>\n",
       "    </tr>\n",
       "    <tr>\n",
       "      <th>31</th>\n",
       "      <td>Compare the number and categories of proposed ...</td>\n",
       "      <td>27 proposals were submitted, categorized into ...</td>\n",
       "    </tr>\n",
       "    <tr>\n",
       "      <th>32</th>\n",
       "      <td>How did the collaboration between the project ...</td>\n",
       "      <td>The collaboration between the project manager ...</td>\n",
       "    </tr>\n",
       "    <tr>\n",
       "      <th>33</th>\n",
       "      <td>How did the collaborative efforts of the proje...</td>\n",
       "      <td>They worked together as a team, harnessing the...</td>\n",
       "    </tr>\n",
       "    <tr>\n",
       "      <th>34</th>\n",
       "      <td>Analyze the impact of budget constraints on NA...</td>\n",
       "      <td>Budget constraints significantly impacted NASA...</td>\n",
       "    </tr>\n",
       "    <tr>\n",
       "      <th>35</th>\n",
       "      <td>Analyze the impact of NASA's budget reallocati...</td>\n",
       "      <td>NASA's budget reallocation led to the cancella...</td>\n",
       "    </tr>\n",
       "    <tr>\n",
       "      <th>36</th>\n",
       "      <td>Compare Pratt &amp; Whitney Aircraft's contributio...</td>\n",
       "      <td>Pratt &amp; Whitney Aircraft contributed to aircra...</td>\n",
       "    </tr>\n",
       "    <tr>\n",
       "      <th>37</th>\n",
       "      <td>Explore the development of advanced turboprop ...</td>\n",
       "      <td>The Advanced Turboprop Project (ATP) was a pro...</td>\n",
       "    </tr>\n",
       "    <tr>\n",
       "      <th>38</th>\n",
       "      <td>Which American military aircraft, including th...</td>\n",
       "      <td>The Grumman F-14 Tomcat, McDonnell Douglas F-1...</td>\n",
       "    </tr>\n",
       "    <tr>\n",
       "      <th>39</th>\n",
       "      <td>How did NASA Lewis's PSL contribute to the dev...</td>\n",
       "      <td>NASA Lewis's PSL contributed to the developmen...</td>\n",
       "    </tr>\n",
       "  </tbody>\n",
       "</table>\n",
       "</div>"
      ]
     },
     "metadata": {},
     "output_type": "display_data"
    }
   ],
   "execution_count": 4
  },
  {
   "cell_type": "code",
   "id": "1002853f8f6ddccb",
   "metadata": {
    "ExecuteTime": {
     "end_time": "2024-08-26T12:21:24.747314Z",
     "start_time": "2024-08-26T12:21:24.735549Z"
    }
   },
   "source": [
    "print(f\"Q/A test set successfully generated\")\n",
    "save_testset(test_set_df, config)\n",
    "stop = time.time()\n",
    "print(f\"Synthesizer execution time: {(stop-start)/60:.1f} minutes\")"
   ],
   "outputs": [
    {
     "name": "stdout",
     "output_type": "stream",
     "text": [
      "Q/A test set successfully generated\n",
      "Evaluation set saved at location: current/NASA_history_QA__Meta-Llama-3-70B-Instruct__generated.csv. \n",
      "Synthesizer execution time: 14.6 minutes\n"
     ]
    }
   ],
   "execution_count": 6
  },
  {
   "metadata": {},
   "cell_type": "code",
   "outputs": [],
   "execution_count": null,
   "source": "",
   "id": "87d4db08f21d27"
  }
 ],
 "metadata": {
  "kernelspec": {
   "display_name": "Python 3 (ipykernel)",
   "language": "python",
   "name": "python3"
  },
  "language_info": {
   "codemirror_mode": {
    "name": "ipython",
    "version": 3
   },
   "file_extension": ".py",
   "mimetype": "text/x-python",
   "name": "python",
   "nbconvert_exporter": "python",
   "pygments_lexer": "ipython3",
   "version": "3.11.9"
  }
 },
 "nbformat": 4,
 "nbformat_minor": 5
}
