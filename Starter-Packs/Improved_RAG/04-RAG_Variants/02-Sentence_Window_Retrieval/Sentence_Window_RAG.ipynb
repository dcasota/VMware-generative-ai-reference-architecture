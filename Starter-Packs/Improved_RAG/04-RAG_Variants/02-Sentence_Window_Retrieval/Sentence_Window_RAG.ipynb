{
 "cells": [
  {
   "cell_type": "markdown",
   "source": "# Sentence Window Improved RAG with PGVector",
   "metadata": {},
   "id": "21f9146a-c6f3-4a78-b3fb-0d262492e87c"
  },
  {
   "cell_type": "code",
   "source": [
    "import time\n",
    "# Start timer to time the notebook execution\n",
    "start = time.time()\n",
    "\n",
    "import pandas as pd\n",
    "import psycopg2\n",
    "from sqlalchemy import make_url\n",
    "\n",
    "import ipywidgets as widgets\n",
    "widgets.IntSlider()\n",
    "\n",
    "from llama_index.core import VectorStoreIndex\n",
    "from llama_index.vector_stores.postgres import PGVectorStore\n",
    "from llama_index.core import (\n",
    "    SimpleDirectoryReader,\n",
    "    StorageContext,\n",
    ")\n",
    "from llama_index.readers.file import PyMuPDFReader\n",
    "from llama_index.embeddings.huggingface import HuggingFaceEmbedding\n",
    "from llama_index.core import Settings\n",
    "from llama_index.llms.openai_like import OpenAILike\n",
    "from llama_index.core.node_parser import SentenceWindowNodeParser\n",
    "from llama_index.core.indices.postprocessor import (\n",
    "    MetadataReplacementPostProcessor,\n",
    "    SentenceTransformerRerank,\n",
    ")\n",
    "\n",
    "import sys\n",
    "utils_path = \"../../utils\"\n",
    "if utils_path not in sys.path:\n",
    "    sys.path.append(utils_path)\n",
    "\n",
    "from helpers import (\n",
    "    get_indices_with_nulls,\n",
    "    remove_elements,\n",
    "    generate_responses_dict,\n",
    "    get_short_docs,\n",
    ")"
   ],
   "metadata": {
    "collapsed": false,
    "ExecuteTime": {
     "end_time": "2024-04-09T00:35:44.754945Z",
     "start_time": "2024-04-09T00:35:40.346453Z"
    }
   },
   "id": "cb14fd5b562cb2ad",
   "outputs": [],
   "execution_count": 1
  },
  {
   "cell_type": "code",
   "source": [
    "# Path of the evaluation test set with Q/A pairs\n",
    "TEST_SET = (\"../../05-RAG_Dataset_Generation/LlamaIndex_generation/qa_datasets\"\n",
    "            \"/Mixtral-8x7B-Instruct-v0.1/NASA_history_qa_only.csv\")\n",
    "\n",
    "# Retriever and re_ranker settings\n",
    "SIMIL_TOP_K = 8 # Retrieve TOP_K most similar docs from the PGVector store\n",
    "RERANK_TOP_N = 5 # Rerank and pick the 5 most similar docs\n",
    "RERANK_MODEL = \"BAAI/bge-reranker-base\" # Re-ranking model\n",
    "\n",
    "# LLM service settings\n",
    "LLM_MODEL = \"HuggingFaceH4/zephyr-7b-alpha\"\n",
    "LLM_API_BASE = \"http://localhost:8010/v1\"\n",
    "LLM_API_KEY = \"NO_KEY\"\n",
    "GEN_TEMP=0.1\n",
    "MAX_TOKENS=512\n",
    "REP_PENALTY=1.03\n",
    "\n",
    "# LLamaIndex LLM provider\n",
    "Settings.llm = OpenAILike(\n",
    "    model=LLM_MODEL,\n",
    "    api_key=LLM_API_KEY,\n",
    "    api_base=LLM_API_BASE,\n",
    "    temperature=GEN_TEMP,\n",
    "    max_tokens=MAX_TOKENS,\n",
    "    repetition_penalty=REP_PENALTY,\n",
    ")\n",
    "\n",
    "# Ingestion pipeline settings\n",
    "NUM_WORKERS = 4\n",
    "CHUNK_SIZE = 1024\n",
    "MIN_DOC_LENGTH = 40 # Min number of words per doc\n",
    "PDF_FILES_PATH = \"../../02-KB-Documents/NASA\"\n",
    "\n",
    "# LLamaIndex embedding model\n",
    "EMB_MODEL=\"BAAI/bge-base-en-v1.5\" # For better results you can use the \"large\" variant\n",
    "DEVICE=\"cuda:0\" # If running out of GPU RAM, switch to \"cpu\" (although slower)\n",
    "Settings.embed_model = HuggingFaceEmbedding(\n",
    "    model_name=EMB_MODEL,\n",
    "    device=DEVICE\n",
    ")\n",
    "EMBEDDING_SIZE = len(Settings.embed_model.get_text_embedding(\"hi\"))"
   ],
   "metadata": {
    "collapsed": false,
    "ExecuteTime": {
     "end_time": "2024-04-09T00:35:47.722158Z",
     "start_time": "2024-04-09T00:35:44.757462Z"
    }
   },
   "id": "3eb2c391167f0fe1",
   "outputs": [],
   "execution_count": 2
  },
  {
   "cell_type": "markdown",
   "source": "## For this notebook, we'll use a set of E-books (PDF) about [NASA's history](https://www.nasa.gov/history/explore-nasas-history)",
   "metadata": {
    "collapsed": false
   },
   "id": "fc3bd5b0b6b8fa75"
  },
  {
   "cell_type": "code",
   "source": [
    "%%time\n",
    "# >> Text Extraction\n",
    "# The PyMuPDFReader takes ~ 1/20 the time it takes to the default reader to ingest the PDF files\n",
    "# Note: PyMuPDFReader creates a document object per page in a PDF document.\n",
    "\n",
    "# Lamda function to add the file name as metadata at loading time\n",
    "filename_fn = lambda filename: {\"file_name\": filename.split(\"/\")[-1]}\n",
    "\n",
    "reader = SimpleDirectoryReader(\n",
    "    input_dir=PDF_FILES_PATH,\n",
    "    required_exts=[\".pdf\"],\n",
    "    file_extractor={\".pdf\":PyMuPDFReader()},\n",
    "    file_metadata=filename_fn,\n",
    "    num_files_limit=10,\n",
    ")\n",
    "documents = reader.load_data()\n",
    "\n",
    "# Filter out documents with null (`\\x00') characters\n",
    "# which are incompatible with PGVector.\n",
    "# Also remove documents a number of words < MIN_DOC_LENGTH\n",
    "bad_docs = get_indices_with_nulls(documents)\n",
    "short_docs = get_short_docs(documents, MIN_DOC_LENGTH)\n",
    "docs_to_remove = set(bad_docs + short_docs)\n",
    "documents = remove_elements(documents, docs_to_remove)"
   ],
   "metadata": {
    "collapsed": false,
    "ExecuteTime": {
     "end_time": "2024-04-09T00:36:04.299714Z",
     "start_time": "2024-04-09T00:35:47.723991Z"
    }
   },
   "id": "62a5607ae62bfc69",
   "outputs": [
    {
     "name": "stdout",
     "output_type": "stream",
     "text": [
      "CPU times: user 16.2 s, sys: 395 ms, total: 16.6 s\n",
      "Wall time: 16.6 s\n"
     ]
    }
   ],
   "execution_count": 3
  },
  {
   "cell_type": "code",
   "source": [
    "#  Create the sentence window node parser\n",
    "node_parser = SentenceWindowNodeParser.from_defaults(\n",
    "    window_size=3,\n",
    "    window_metadata_key=\"window\",\n",
    "    original_text_metadata_key=\"original_text\",\n",
    ")\n",
    "\n",
    "# Extract the nodes from the documents\n",
    "nodes = node_parser.get_nodes_from_documents(\n",
    "    documents=documents,\n",
    "    show_progress=True,\n",
    ")"
   ],
   "metadata": {
    "collapsed": false,
    "ExecuteTime": {
     "end_time": "2024-04-09T00:36:14.850148Z",
     "start_time": "2024-04-09T00:36:04.301338Z"
    }
   },
   "id": "4635cfb46f8ca816",
   "outputs": [
    {
     "data": {
      "text/plain": [
       "Parsing nodes:   0%|          | 0/3692 [00:00<?, ?it/s]"
      ],
      "application/vnd.jupyter.widget-view+json": {
       "version_major": 2,
       "version_minor": 0,
       "model_id": "4f344bec2bc84228ac55be5d58e081f2"
      }
     },
     "metadata": {},
     "output_type": "display_data"
    }
   ],
   "execution_count": 4
  },
  {
   "cell_type": "markdown",
   "source": "## Building the index on a new DB table called NASA_HISTORY_BOOKS_SENTENCE_INDEX",
   "metadata": {},
   "id": "fea97dda-8457-4f32-a2c7-26ae92eaf0b4"
  },
  {
   "cell_type": "code",
   "source": [
    "%%time\n",
    "# PGVector DB params\n",
    "DB_PORT = 5432\n",
    "DB_USER = \"demouser\"\n",
    "DB_PASSWD = \"demopasswd\"\n",
    "DEFAULT_DB = \"postgres\"\n",
    "DB_NAME = \"vectordb\"\n",
    "DB_HOST = \"localhost\"\n",
    "TABLE_NAME = \"NASA_HISTORY_BOOKS_SENTENCE_INDEX\"\n",
    "\n",
    "connection_string = f\"postgresql://{DB_USER}:{DB_PASSWD}@{DB_HOST}:{DB_PORT}/{DEFAULT_DB}\"\n",
    "url = make_url(connection_string)\n",
    "\n",
    "# Drop the DB table if exists\n",
    "conn = psycopg2.connect(connection_string)\n",
    "cursor = conn.cursor()\n",
    "sql = f\"DROP TABLE IF EXISTS {TABLE_NAME}\"\n",
    "cursor.execute(sql)\n",
    "conn.commit()\n",
    "conn.close()\n",
    "\n",
    "# Open the connection to the DB engine\n",
    "vector_store = PGVectorStore.from_params(\n",
    "    database=DB_NAME,\n",
    "    host=url.host,\n",
    "    password=url.password,\n",
    "    port=url.port,\n",
    "    user=url.username,\n",
    "    table_name=TABLE_NAME,\n",
    "    embed_dim=EMBEDDING_SIZE, # embedding model dimension\n",
    "    cache_ok=True,\n",
    "    hybrid_search=True,\n",
    ")\n",
    "\n",
    "# Populate the new index with documents (nodes) and their embeddings.\n",
    "storage_context = StorageContext.from_defaults(vector_store=vector_store)\n",
    "sentence_index = VectorStoreIndex(\n",
    "    nodes=nodes,\n",
    "    storage_context=storage_context,\n",
    "    show_progress=True,\n",
    "    transformations=None,\n",
    ")"
   ],
   "metadata": {
    "collapsed": false,
    "ExecuteTime": {
     "end_time": "2024-04-09T00:44:59.071266Z",
     "start_time": "2024-04-09T00:36:14.851668Z"
    }
   },
   "id": "e099027279772442",
   "outputs": [
    {
     "data": {
      "text/plain": [
       "Generating embeddings:   0%|          | 0/2048 [00:00<?, ?it/s]"
      ],
      "application/vnd.jupyter.widget-view+json": {
       "version_major": 2,
       "version_minor": 0,
       "model_id": "ececa64299e44d338db691d7750a1d01"
      }
     },
     "metadata": {},
     "output_type": "display_data"
    },
    {
     "data": {
      "text/plain": [
       "Generating embeddings:   0%|          | 0/2048 [00:00<?, ?it/s]"
      ],
      "application/vnd.jupyter.widget-view+json": {
       "version_major": 2,
       "version_minor": 0,
       "model_id": "9fd422b212414e9e805231910295143b"
      }
     },
     "metadata": {},
     "output_type": "display_data"
    },
    {
     "data": {
      "text/plain": [
       "Generating embeddings:   0%|          | 0/2048 [00:00<?, ?it/s]"
      ],
      "application/vnd.jupyter.widget-view+json": {
       "version_major": 2,
       "version_minor": 0,
       "model_id": "92a5996bdd484ce186092bc1e795f3a4"
      }
     },
     "metadata": {},
     "output_type": "display_data"
    },
    {
     "data": {
      "text/plain": [
       "Generating embeddings:   0%|          | 0/2048 [00:00<?, ?it/s]"
      ],
      "application/vnd.jupyter.widget-view+json": {
       "version_major": 2,
       "version_minor": 0,
       "model_id": "cfb63e1fa23c47c5abf368be2df27765"
      }
     },
     "metadata": {},
     "output_type": "display_data"
    },
    {
     "data": {
      "text/plain": [
       "Generating embeddings:   0%|          | 0/2048 [00:00<?, ?it/s]"
      ],
      "application/vnd.jupyter.widget-view+json": {
       "version_major": 2,
       "version_minor": 0,
       "model_id": "7679a269571043b59d3ed64695af2277"
      }
     },
     "metadata": {},
     "output_type": "display_data"
    },
    {
     "data": {
      "text/plain": [
       "Generating embeddings:   0%|          | 0/2048 [00:00<?, ?it/s]"
      ],
      "application/vnd.jupyter.widget-view+json": {
       "version_major": 2,
       "version_minor": 0,
       "model_id": "9b2081fc65794ba8b5e236fec48f6400"
      }
     },
     "metadata": {},
     "output_type": "display_data"
    },
    {
     "data": {
      "text/plain": [
       "Generating embeddings:   0%|          | 0/2048 [00:00<?, ?it/s]"
      ],
      "application/vnd.jupyter.widget-view+json": {
       "version_major": 2,
       "version_minor": 0,
       "model_id": "3fc454ead2c34905a6394a270488f224"
      }
     },
     "metadata": {},
     "output_type": "display_data"
    },
    {
     "data": {
      "text/plain": [
       "Generating embeddings:   0%|          | 0/2048 [00:00<?, ?it/s]"
      ],
      "application/vnd.jupyter.widget-view+json": {
       "version_major": 2,
       "version_minor": 0,
       "model_id": "86aa5e5fbaf445fe86906ce03a654d94"
      }
     },
     "metadata": {},
     "output_type": "display_data"
    },
    {
     "data": {
      "text/plain": [
       "Generating embeddings:   0%|          | 0/2048 [00:00<?, ?it/s]"
      ],
      "application/vnd.jupyter.widget-view+json": {
       "version_major": 2,
       "version_minor": 0,
       "model_id": "28cc9b20d81f4702bb6a5aa13e010788"
      }
     },
     "metadata": {},
     "output_type": "display_data"
    },
    {
     "data": {
      "text/plain": [
       "Generating embeddings:   0%|          | 0/2048 [00:00<?, ?it/s]"
      ],
      "application/vnd.jupyter.widget-view+json": {
       "version_major": 2,
       "version_minor": 0,
       "model_id": "b34afccb0690420f824c39c34de9e8c2"
      }
     },
     "metadata": {},
     "output_type": "display_data"
    },
    {
     "data": {
      "text/plain": [
       "Generating embeddings:   0%|          | 0/2048 [00:00<?, ?it/s]"
      ],
      "application/vnd.jupyter.widget-view+json": {
       "version_major": 2,
       "version_minor": 0,
       "model_id": "5e2c71bbd41f480292702a9e266aff0c"
      }
     },
     "metadata": {},
     "output_type": "display_data"
    },
    {
     "data": {
      "text/plain": [
       "Generating embeddings:   0%|          | 0/2048 [00:00<?, ?it/s]"
      ],
      "application/vnd.jupyter.widget-view+json": {
       "version_major": 2,
       "version_minor": 0,
       "model_id": "6a74957ae6224acfbaf8d6e7fa5b067d"
      }
     },
     "metadata": {},
     "output_type": "display_data"
    },
    {
     "data": {
      "text/plain": [
       "Generating embeddings:   0%|          | 0/2048 [00:00<?, ?it/s]"
      ],
      "application/vnd.jupyter.widget-view+json": {
       "version_major": 2,
       "version_minor": 0,
       "model_id": "ac503f4a79124a95b33b647bf64daf56"
      }
     },
     "metadata": {},
     "output_type": "display_data"
    },
    {
     "data": {
      "text/plain": [
       "Generating embeddings:   0%|          | 0/2048 [00:00<?, ?it/s]"
      ],
      "application/vnd.jupyter.widget-view+json": {
       "version_major": 2,
       "version_minor": 0,
       "model_id": "81077d0895d64159bb2b1066c4fdf446"
      }
     },
     "metadata": {},
     "output_type": "display_data"
    },
    {
     "data": {
      "text/plain": [
       "Generating embeddings:   0%|          | 0/2048 [00:00<?, ?it/s]"
      ],
      "application/vnd.jupyter.widget-view+json": {
       "version_major": 2,
       "version_minor": 0,
       "model_id": "1349e9661ed642dca42cf177af1a10c6"
      }
     },
     "metadata": {},
     "output_type": "display_data"
    },
    {
     "data": {
      "text/plain": [
       "Generating embeddings:   0%|          | 0/2048 [00:00<?, ?it/s]"
      ],
      "application/vnd.jupyter.widget-view+json": {
       "version_major": 2,
       "version_minor": 0,
       "model_id": "defcc6f209264bb1a7812d4540632076"
      }
     },
     "metadata": {},
     "output_type": "display_data"
    },
    {
     "data": {
      "text/plain": [
       "Generating embeddings:   0%|          | 0/2048 [00:00<?, ?it/s]"
      ],
      "application/vnd.jupyter.widget-view+json": {
       "version_major": 2,
       "version_minor": 0,
       "model_id": "0bb4baf738204c4a84dd9c1f8ad73a91"
      }
     },
     "metadata": {},
     "output_type": "display_data"
    },
    {
     "data": {
      "text/plain": [
       "Generating embeddings:   0%|          | 0/2048 [00:00<?, ?it/s]"
      ],
      "application/vnd.jupyter.widget-view+json": {
       "version_major": 2,
       "version_minor": 0,
       "model_id": "761caba9df71465892178fbe5b3fd134"
      }
     },
     "metadata": {},
     "output_type": "display_data"
    },
    {
     "data": {
      "text/plain": [
       "Generating embeddings:   0%|          | 0/2048 [00:00<?, ?it/s]"
      ],
      "application/vnd.jupyter.widget-view+json": {
       "version_major": 2,
       "version_minor": 0,
       "model_id": "379faabb8fe24c5ab24cf772a1fdfe9c"
      }
     },
     "metadata": {},
     "output_type": "display_data"
    },
    {
     "data": {
      "text/plain": [
       "Generating embeddings:   0%|          | 0/2048 [00:00<?, ?it/s]"
      ],
      "application/vnd.jupyter.widget-view+json": {
       "version_major": 2,
       "version_minor": 0,
       "model_id": "5bcc6d62bbae42f5a256d4386b8b736d"
      }
     },
     "metadata": {},
     "output_type": "display_data"
    },
    {
     "data": {
      "text/plain": [
       "Generating embeddings:   0%|          | 0/2048 [00:00<?, ?it/s]"
      ],
      "application/vnd.jupyter.widget-view+json": {
       "version_major": 2,
       "version_minor": 0,
       "model_id": "228d15d480624fcc99610be247a898c7"
      }
     },
     "metadata": {},
     "output_type": "display_data"
    },
    {
     "data": {
      "text/plain": [
       "Generating embeddings:   0%|          | 0/2048 [00:00<?, ?it/s]"
      ],
      "application/vnd.jupyter.widget-view+json": {
       "version_major": 2,
       "version_minor": 0,
       "model_id": "6ef6af69c6d447cba30ea116cda9990d"
      }
     },
     "metadata": {},
     "output_type": "display_data"
    },
    {
     "data": {
      "text/plain": [
       "Generating embeddings:   0%|          | 0/2048 [00:00<?, ?it/s]"
      ],
      "application/vnd.jupyter.widget-view+json": {
       "version_major": 2,
       "version_minor": 0,
       "model_id": "860947231b414847aa0816678fb92d56"
      }
     },
     "metadata": {},
     "output_type": "display_data"
    },
    {
     "data": {
      "text/plain": [
       "Generating embeddings:   0%|          | 0/2048 [00:00<?, ?it/s]"
      ],
      "application/vnd.jupyter.widget-view+json": {
       "version_major": 2,
       "version_minor": 0,
       "model_id": "2de2bd1aeadc4ea1b3f96c12771df1d1"
      }
     },
     "metadata": {},
     "output_type": "display_data"
    },
    {
     "data": {
      "text/plain": [
       "Generating embeddings:   0%|          | 0/2048 [00:00<?, ?it/s]"
      ],
      "application/vnd.jupyter.widget-view+json": {
       "version_major": 2,
       "version_minor": 0,
       "model_id": "6c27a80766224b92b113f0210f5f5799"
      }
     },
     "metadata": {},
     "output_type": "display_data"
    },
    {
     "data": {
      "text/plain": [
       "Generating embeddings:   0%|          | 0/2048 [00:00<?, ?it/s]"
      ],
      "application/vnd.jupyter.widget-view+json": {
       "version_major": 2,
       "version_minor": 0,
       "model_id": "d133119be2a54389866aca78efdd3dbb"
      }
     },
     "metadata": {},
     "output_type": "display_data"
    },
    {
     "data": {
      "text/plain": [
       "Generating embeddings:   0%|          | 0/2048 [00:00<?, ?it/s]"
      ],
      "application/vnd.jupyter.widget-view+json": {
       "version_major": 2,
       "version_minor": 0,
       "model_id": "39517a70c76f4b30a4b94fa1fcdba42f"
      }
     },
     "metadata": {},
     "output_type": "display_data"
    },
    {
     "data": {
      "text/plain": [
       "Generating embeddings:   0%|          | 0/2048 [00:00<?, ?it/s]"
      ],
      "application/vnd.jupyter.widget-view+json": {
       "version_major": 2,
       "version_minor": 0,
       "model_id": "21230f1d2acd4a0f9aa669429e61afad"
      }
     },
     "metadata": {},
     "output_type": "display_data"
    },
    {
     "data": {
      "text/plain": [
       "Generating embeddings:   0%|          | 0/2048 [00:00<?, ?it/s]"
      ],
      "application/vnd.jupyter.widget-view+json": {
       "version_major": 2,
       "version_minor": 0,
       "model_id": "f225b223d39f434e8d7659419ff9ab9e"
      }
     },
     "metadata": {},
     "output_type": "display_data"
    },
    {
     "data": {
      "text/plain": [
       "Generating embeddings:   0%|          | 0/2048 [00:00<?, ?it/s]"
      ],
      "application/vnd.jupyter.widget-view+json": {
       "version_major": 2,
       "version_minor": 0,
       "model_id": "58699d0fb2354158b00c12a8f1f5fc7e"
      }
     },
     "metadata": {},
     "output_type": "display_data"
    },
    {
     "data": {
      "text/plain": [
       "Generating embeddings:   0%|          | 0/2048 [00:00<?, ?it/s]"
      ],
      "application/vnd.jupyter.widget-view+json": {
       "version_major": 2,
       "version_minor": 0,
       "model_id": "877ff62023dd492cbb3137cdd478cd86"
      }
     },
     "metadata": {},
     "output_type": "display_data"
    },
    {
     "data": {
      "text/plain": [
       "Generating embeddings:   0%|          | 0/2048 [00:00<?, ?it/s]"
      ],
      "application/vnd.jupyter.widget-view+json": {
       "version_major": 2,
       "version_minor": 0,
       "model_id": "07e7063fb641464cbfbdb231908f6f60"
      }
     },
     "metadata": {},
     "output_type": "display_data"
    },
    {
     "data": {
      "text/plain": [
       "Generating embeddings:   0%|          | 0/2048 [00:00<?, ?it/s]"
      ],
      "application/vnd.jupyter.widget-view+json": {
       "version_major": 2,
       "version_minor": 0,
       "model_id": "07b4f6f2da654b98b929029051863ad7"
      }
     },
     "metadata": {},
     "output_type": "display_data"
    },
    {
     "data": {
      "text/plain": [
       "Generating embeddings:   0%|          | 0/2048 [00:00<?, ?it/s]"
      ],
      "application/vnd.jupyter.widget-view+json": {
       "version_major": 2,
       "version_minor": 0,
       "model_id": "7654efa0885d4beaa1c0b98ade212d1c"
      }
     },
     "metadata": {},
     "output_type": "display_data"
    },
    {
     "data": {
      "text/plain": [
       "Generating embeddings:   0%|          | 0/2048 [00:00<?, ?it/s]"
      ],
      "application/vnd.jupyter.widget-view+json": {
       "version_major": 2,
       "version_minor": 0,
       "model_id": "a03a95dbca674fbda425d68871463a98"
      }
     },
     "metadata": {},
     "output_type": "display_data"
    },
    {
     "data": {
      "text/plain": [
       "Generating embeddings:   0%|          | 0/1628 [00:00<?, ?it/s]"
      ],
      "application/vnd.jupyter.widget-view+json": {
       "version_major": 2,
       "version_minor": 0,
       "model_id": "cb0602ee5fed4df7841e9c59d9333ed9"
      }
     },
     "metadata": {},
     "output_type": "display_data"
    },
    {
     "name": "stdout",
     "output_type": "stream",
     "text": [
      "CPU times: user 11min 54s, sys: 46.6 s, total: 12min 40s\n",
      "Wall time: 8min 44s\n"
     ]
    }
   ],
   "execution_count": 5
  },
  {
   "cell_type": "code",
   "source": [
    "# Initialize a post processor on nodes retrieved by the index\n",
    "post_processor = MetadataReplacementPostProcessor(\n",
    "    target_metadata_key=\"window\",\n",
    ")\n",
    "\n",
    "# Initialize the re-ranker to post-process nodes retrieved by the index\n",
    "re_ranker = SentenceTransformerRerank(\n",
    "    top_n=RERANK_TOP_N,\n",
    "    model=RERANK_MODEL,\n",
    ")\n",
    "\n",
    "# Initialize the index. This type retrieved nodes will be post-processed \n",
    "# by the post-processor and re-ranking tasks.\n",
    "sentence_window_engine = sentence_index.as_query_engine(\n",
    "    similarity_top_k=SIMIL_TOP_K,\n",
    "    node_postprocessors=[\n",
    "        post_processor,\n",
    "        re_ranker\n",
    "    ],\n",
    "    vector_store_kwargs={\"hnsw_ef_search\": 256},\n",
    ")"
   ],
   "metadata": {
    "collapsed": false,
    "ExecuteTime": {
     "end_time": "2024-04-09T00:45:01.175208Z",
     "start_time": "2024-04-09T00:44:59.075026Z"
    }
   },
   "id": "21d60d07aed00265",
   "outputs": [],
   "execution_count": 6
  },
  {
   "cell_type": "code",
   "source": [
    "%%time\n",
    "# Run a simple test to ensure all is working\n",
    "print(\">> Quick test on the RAG system.\")\n",
    "question = \"What are the main Hubble telescope discoveries about exoplanets?\"\n",
    "print(f\" > Question: {question}\")\n",
    "response = sentence_window_engine.query(question)\n",
    "print(f\" > Response:\\n\", response.response)"
   ],
   "metadata": {
    "collapsed": false,
    "ExecuteTime": {
     "end_time": "2024-04-09T00:45:07.067387Z",
     "start_time": "2024-04-09T00:45:01.178205Z"
    }
   },
   "id": "3f2bdfee1583b51f",
   "outputs": [
    {
     "name": "stdout",
     "output_type": "stream",
     "text": [
      ">> Quick test on the RAG system.\n",
      " > Question: What are the main Hubble telescope discoveries about exoplanets?\n",
      " > Response:\n",
      " \n",
      "\n",
      "Hubble has revealed exceedingly valuable information about hundreds of other worlds, including the discovery of atmospheres that contain sodium, oxygen, carbon, hydrogen, carbon dioxide, methane, and water vapor. Hubble has confrmed that a planet orbits two suns, and made a detailed global map of another world showing the temperature at different layers in its atmosphere and the amount and distribution of its water vapor. Hubble has also identified water vapor on planets that orbit in their star’s habitable zone. Hubble observes the universe from Earth orbit, just outside our planet’s atmosphere, and can detect objects as faint as 31st magnitude, which is about 10 billion times fainter than the human eye can see. Hubble can see faint objects near bright objects, which is an important requirement for studying the regions around stars and close to the glowing nuclei of active galaxies. Hubble’s view is optically stable, meaning the quality of its observing conditions never changes from day to day or even orbit to orbit, which is crucial for precision observations in which astronomers try to detect small changes in the light, motion, or other behavior of a celestial object.\n",
      "CPU times: user 499 ms, sys: 123 ms, total: 623 ms\n",
      "Wall time: 5.88 s\n"
     ]
    }
   ],
   "execution_count": 7
  },
  {
   "cell_type": "code",
   "source": [
    "%%time\n",
    "\n",
    "# Load a test set to run inference on multiple Q/A pairs\n",
    "test_set_df = pd.read_csv(\n",
    "    filepath_or_buffer=TEST_SET,\n",
    "    usecols=['query', 'reference_answer'],\n",
    ")\n",
    "\n",
    "# Run inference on the Q/A pairs and keep the responses\n",
    "# for future comparison vs.other RAG approaches.\n",
    "responses = generate_responses_dict(\n",
    "    query_engine=sentence_window_engine,\n",
    "    test_set_df=test_set_df\n",
    ")"
   ],
   "metadata": {
    "collapsed": false,
    "ExecuteTime": {
     "end_time": "2024-04-09T00:56:15.507041Z",
     "start_time": "2024-04-09T00:45:07.069459Z"
    }
   },
   "id": "27599fc98920a4a0",
   "outputs": [
    {
     "data": {
      "text/plain": [
       "  0%|          | 0/137 [00:00<?, ?it/s]"
      ],
      "application/vnd.jupyter.widget-view+json": {
       "version_major": 2,
       "version_minor": 0,
       "model_id": "7bd65d39cafe46368026eda8a4b6881a"
      }
     },
     "metadata": {},
     "output_type": "display_data"
    },
    {
     "name": "stdout",
     "output_type": "stream",
     "text": [
      "CPU times: user 28.6 s, sys: 2.16 s, total: 30.8 s\n",
      "Wall time: 11min 8s\n"
     ]
    }
   ],
   "execution_count": 8
  },
  {
   "cell_type": "code",
   "source": [
    "# Convert the responses into a Pandas data frame\n",
    "responses_df = pd.DataFrame.from_dict(responses)\n",
    "\n",
    "# Serialize the inference results dataframe\n",
    "file_name = (f\"Sentence_Window_RAG_{LLM_MODEL.split('/')[1]}\"\n",
    "             f\"_{EMB_MODEL.split('/')[1]}.csv\")\n",
    "\n",
    "responses_df.to_csv(\n",
    "    path_or_buf=file_name,\n",
    "    index=False,\n",
    ")\n",
    "stop = time.time()\n",
    "print(f\"Notebook execution time: {(stop-start)/60:.1f} minutes\")"
   ],
   "metadata": {
    "collapsed": false,
    "ExecuteTime": {
     "end_time": "2024-04-09T00:56:15.563589Z",
     "start_time": "2024-04-09T00:56:15.511706Z"
    }
   },
   "id": "5874fc41d4e1c6b3",
   "outputs": [
    {
     "name": "stdout",
     "output_type": "stream",
     "text": [
      "Notebook execution time: 20.6 minutes\n"
     ]
    }
   ],
   "execution_count": 9
  },
  {
   "cell_type": "markdown",
   "source": [],
   "metadata": {
    "collapsed": false
   },
   "id": "a98a925dfc8b393a"
  }
 ],
 "metadata": {
  "kernelspec": {
   "display_name": "Python 3 (ipykernel)",
   "language": "python",
   "name": "python3"
  },
  "language_info": {
   "codemirror_mode": {
    "name": "ipython",
    "version": 3
   },
   "file_extension": ".py",
   "mimetype": "text/x-python",
   "name": "python",
   "nbconvert_exporter": "python",
   "pygments_lexer": "ipython3",
   "version": "3.10.9"
  }
 },
 "nbformat": 4,
 "nbformat_minor": 5
}
