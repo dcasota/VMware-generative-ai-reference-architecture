{
 "cells": [
  {
   "cell_type": "markdown",
   "source": "#  Auto-Merging Improved RAG with a PostgreSQL Document Store",
   "metadata": {},
   "id": "21f9146a-c6f3-4a78-b3fb-0d262492e87c"
  },
  {
   "cell_type": "code",
   "source": [
    "import time\n",
    "# Start timer to time the notebook execution\n",
    "start = time.time()\n",
    "\n",
    "import pandas as pd\n",
    "import psycopg2\n",
    "from sqlalchemy import make_url\n",
    "\n",
    "import ipywidgets as widgets\n",
    "widgets.IntSlider()\n",
    "\n",
    "from llama_index.core import VectorStoreIndex\n",
    "from llama_index.storage.docstore.postgres import PostgresDocumentStore\n",
    "from llama_index.core import (\n",
    "    SimpleDirectoryReader,\n",
    "    StorageContext,\n",
    ")\n",
    "from llama_index.readers.file import PyMuPDFReader\n",
    "from llama_index.embeddings.huggingface import HuggingFaceEmbedding\n",
    "from llama_index.core import Settings\n",
    "from llama_index.llms.openai_like import OpenAILike\n",
    "from llama_index.core.node_parser import (\n",
    "    HierarchicalNodeParser,\n",
    "    get_leaf_nodes,\n",
    ")\n",
    "from llama_index.core.retrievers import AutoMergingRetriever\n",
    "from llama_index.core.query_engine import RetrieverQueryEngine\n",
    "from llama_index.core.indices.postprocessor import SentenceTransformerRerank\n",
    "\n",
    "import sys\n",
    "\n",
    "utils_path = \"../../utils\"\n",
    "if utils_path not in sys.path:\n",
    "    sys.path.append(utils_path)\n",
    "\n",
    "from helpers import (\n",
    "    get_indices_with_nulls,\n",
    "    remove_elements,\n",
    "    generate_responses_dict,\n",
    "    get_short_docs,\n",
    ")"
   ],
   "metadata": {
    "collapsed": false,
    "ExecuteTime": {
     "end_time": "2024-04-09T01:17:57.344913Z",
     "start_time": "2024-04-09T01:17:52.314805Z"
    }
   },
   "id": "cb14fd5b562cb2ad",
   "outputs": [],
   "execution_count": 1
  },
  {
   "cell_type": "code",
   "source": [
    "# Path of the evaluation test set with Q/A pairs\n",
    "TEST_SET = (\"../../05-RAG_Dataset_Generation/LlamaIndex_generation/qa_datasets\"\n",
    "            \"/Mixtral-8x7B-Instruct-v0.1/NASA_history_qa_only.csv\")\n",
    "\n",
    "# Retriever and re_ranker settings\n",
    "SIMIL_TOP_K = 8\n",
    "RERANK_TOP_N = 5\n",
    "RERANK_MODEL = \"BAAI/bge-reranker-base\"\n",
    "\n",
    "# LLM service settings\n",
    "LLM_MODEL = \"HuggingFaceH4/zephyr-7b-alpha\"\n",
    "LLM_API_BASE = \"http://localhost:8010/v1\"\n",
    "LLM_API_KEY = \"NO_KEY\"\n",
    "GEN_TEMP=0.1\n",
    "MAX_TOKENS=512\n",
    "REP_PENALTY=1.03\n",
    "\n",
    "# Ingestion pipeline settings\n",
    "NUM_WORKERS = 4\n",
    "CHUNK_SIZE = 1024\n",
    "MIN_DOC_LENGTH = 40 # Min number of words per doc\n",
    "PDF_FILES_PATH = \"../../02-KB-Documents/NASA\"\n",
    "\n",
    "# LLamaIndex embedding model\n",
    "EMB_MODEL=\"BAAI/bge-base-en-v1.5\" # For better results you can use the \"large\" variant\n",
    "DEVICE=\"cuda:0\" # If running out of GPU RAM, switch to \"cpu\" (although slower)\n",
    "Settings.embed_model = HuggingFaceEmbedding(\n",
    "    model_name=EMB_MODEL,\n",
    "    device=DEVICE\n",
    ")\n",
    "EMBEDDING_SIZE = len(Settings.embed_model.get_text_embedding(\"hi\"))\n",
    "\n",
    "# LLamaIndex LLM provider\n",
    "Settings.llm = OpenAILike(\n",
    "    model=LLM_MODEL,\n",
    "    api_key=LLM_API_KEY,\n",
    "    api_base=LLM_API_BASE,\n",
    "    temperature=GEN_TEMP,\n",
    "    max_tokens=MAX_TOKENS,\n",
    "    repetition_penalty=REP_PENALTY,\n",
    ")"
   ],
   "metadata": {
    "collapsed": false,
    "ExecuteTime": {
     "end_time": "2024-04-09T01:18:00.484235Z",
     "start_time": "2024-04-09T01:17:57.346918Z"
    }
   },
   "id": "369e556abd5864c5",
   "outputs": [],
   "execution_count": 2
  },
  {
   "cell_type": "markdown",
   "source": [
    "## For this notebook, we'll use a set of E-books (PDF) about [NASA's history](https://www.nasa.gov/history/explore-nasas-history)"
   ],
   "metadata": {
    "collapsed": false
   },
   "id": "fc3bd5b0b6b8fa75"
  },
  {
   "cell_type": "code",
   "source": [
    "%%time\n",
    "# >> Text Extraction\n",
    "# The PyMuPDFReader takes ~ 1/20 the time it takes to the default reader to ingest the PDF files\n",
    "# Note: PyMuPDFReader creates a document object per page in a PDF document.\n",
    "\n",
    "# Lamda function to add the file name as metadata at loading time\n",
    "filename_fn = lambda filename: {\"file_name\": filename.split(\"/\")[-1]}\n",
    "\n",
    "reader = SimpleDirectoryReader(\n",
    "    input_dir=PDF_FILES_PATH,\n",
    "    required_exts=[\".pdf\"],\n",
    "    file_extractor={\".pdf\":PyMuPDFReader()},\n",
    "    file_metadata=filename_fn,\n",
    "    num_files_limit=10,\n",
    ")\n",
    "documents = reader.load_data()\n",
    "\n",
    "# Filter out documents with null (`\\x00') characters\n",
    "# which are incompatible with PGVector.\n",
    "# Also remove documents a number of words < MIN_DOC_LENGTH\n",
    "bad_docs = get_indices_with_nulls(documents)\n",
    "short_docs = get_short_docs(documents, MIN_DOC_LENGTH)\n",
    "docs_to_remove = set(bad_docs + short_docs)\n",
    "documents = remove_elements(documents, docs_to_remove)"
   ],
   "metadata": {
    "collapsed": false,
    "ExecuteTime": {
     "end_time": "2024-04-09T01:18:18.644069Z",
     "start_time": "2024-04-09T01:18:00.486829Z"
    }
   },
   "id": "62a5607ae62bfc69",
   "outputs": [
    {
     "name": "stdout",
     "output_type": "stream",
     "text": [
      "CPU times: user 17.9 s, sys: 305 ms, total: 18.2 s\n",
      "Wall time: 18.1 s\n"
     ]
    }
   ],
   "execution_count": 3
  },
  {
   "cell_type": "code",
   "source": [
    "# Create the hierarchical node parser w/ default settings\n",
    "node_parser = HierarchicalNodeParser.from_defaults(\n",
    "    chunk_sizes=[2048, 512, 128]\n",
    ")\n",
    "\n",
    "# Extract nodes from documents\n",
    "nodes = node_parser.get_nodes_from_documents(\n",
    "    documents=documents,\n",
    "    show_progress=True,\n",
    ")\n",
    "\n",
    "# Extract \"leaf nodes\" to be used later \n",
    "leaf_nodes = get_leaf_nodes(nodes)"
   ],
   "metadata": {
    "collapsed": false,
    "ExecuteTime": {
     "end_time": "2024-04-09T01:18:46.012741Z",
     "start_time": "2024-04-09T01:18:18.646457Z"
    }
   },
   "id": "4635cfb46f8ca816",
   "outputs": [
    {
     "data": {
      "text/plain": [
       "Parsing documents into nodes:   0%|          | 0/3692 [00:00<?, ?it/s]"
      ],
      "application/vnd.jupyter.widget-view+json": {
       "version_major": 2,
       "version_minor": 0,
       "model_id": "c0c62759a5844e22864b1464aa6717d5"
      }
     },
     "metadata": {},
     "output_type": "display_data"
    }
   ],
   "execution_count": 4
  },
  {
   "cell_type": "markdown",
   "source": "### Building the index on DB table NASA_HIST_BOOKS_DOCSTORE",
   "metadata": {},
   "id": "fea97dda-8457-4f32-a2c7-26ae92eaf0b4"
  },
  {
   "cell_type": "code",
   "source": [
    "%%time\n",
    "# PGVector DB params\n",
    "DB_PORT = 5432\n",
    "DB_USER = \"demouser\"\n",
    "DB_PASSWD = \"demopasswd\"\n",
    "DEFAULT_DB = \"postgres\"\n",
    "DB_NAME = \"vectordb\"\n",
    "DB_HOST = \"localhost\"\n",
    "DOC_STORE_TABLE = \"NASA_HIST_BOOKS_DOCSTORE\"\n",
    "\n",
    "connection_string = f\"postgresql://{DB_USER}:{DB_PASSWD}@{DB_HOST}:{DB_PORT}/{DEFAULT_DB}\"\n",
    "url = make_url(connection_string)\n",
    "\n",
    "# Drop the DB table if exists\n",
    "conn = psycopg2.connect(connection_string)\n",
    "cursor = conn.cursor()\n",
    "sql = f\"DROP TABLE IF EXISTS {DOC_STORE_TABLE}\"\n",
    "cursor.execute(sql)\n",
    "conn.commit()\n",
    "conn.close()\n",
    "\n",
    "# Unlike the other 2 approaches, this time a PGVector index is not used\n",
    "# instead PostgreSQL document store gets used. \n",
    "docstore = PostgresDocumentStore.from_params(\n",
    "    database=DB_NAME,\n",
    "    host=url.host,\n",
    "    password=url.password,\n",
    "    port=url.port,\n",
    "    user=url.username,\n",
    "    table_name=DOC_STORE_TABLE,\n",
    ")\n",
    "\n",
    "# Add the documents to the \"docstore\". This process is much slower\n",
    "# than creating a PGVector store. \n",
    "docstore.add_documents(nodes)\n",
    "storage_context = StorageContext.from_defaults(docstore=docstore)"
   ],
   "metadata": {
    "collapsed": false,
    "ExecuteTime": {
     "end_time": "2024-04-09T01:26:36.015202Z",
     "start_time": "2024-04-09T01:18:46.014229Z"
    }
   },
   "id": "cae15da3be2ce48d",
   "outputs": [
    {
     "name": "stdout",
     "output_type": "stream",
     "text": [
      "CPU times: user 2min 24s, sys: 23.6 s, total: 2min 48s\n",
      "Wall time: 7min 49s\n"
     ]
    }
   ],
   "execution_count": 5
  },
  {
   "cell_type": "code",
   "source": [
    "%%time\n",
    "base_index = VectorStoreIndex(\n",
    "    leaf_nodes,\n",
    "    storage_context=storage_context,\n",
    "    show_progress=True,\n",
    ")"
   ],
   "metadata": {
    "collapsed": false,
    "ExecuteTime": {
     "end_time": "2024-04-09T01:40:37.459487Z",
     "start_time": "2024-04-09T01:26:36.017927Z"
    }
   },
   "id": "9e6a5721591464a7",
   "outputs": [
    {
     "data": {
      "text/plain": [
       "Generating embeddings:   0%|          | 0/2048 [00:00<?, ?it/s]"
      ],
      "application/vnd.jupyter.widget-view+json": {
       "version_major": 2,
       "version_minor": 0,
       "model_id": "8b2dbf9fe66647678bceb9c61e309a52"
      }
     },
     "metadata": {},
     "output_type": "display_data"
    },
    {
     "data": {
      "text/plain": [
       "Generating embeddings:   0%|          | 0/2048 [00:00<?, ?it/s]"
      ],
      "application/vnd.jupyter.widget-view+json": {
       "version_major": 2,
       "version_minor": 0,
       "model_id": "1896f051faf846ffa0bdf4dcf29120c7"
      }
     },
     "metadata": {},
     "output_type": "display_data"
    },
    {
     "data": {
      "text/plain": [
       "Generating embeddings:   0%|          | 0/2048 [00:00<?, ?it/s]"
      ],
      "application/vnd.jupyter.widget-view+json": {
       "version_major": 2,
       "version_minor": 0,
       "model_id": "2544e9682c0d41a198b5ff4e01a6deed"
      }
     },
     "metadata": {},
     "output_type": "display_data"
    },
    {
     "data": {
      "text/plain": [
       "Generating embeddings:   0%|          | 0/2048 [00:00<?, ?it/s]"
      ],
      "application/vnd.jupyter.widget-view+json": {
       "version_major": 2,
       "version_minor": 0,
       "model_id": "2709dd38c0a849acb428e0e8710f4c09"
      }
     },
     "metadata": {},
     "output_type": "display_data"
    },
    {
     "data": {
      "text/plain": [
       "Generating embeddings:   0%|          | 0/2048 [00:00<?, ?it/s]"
      ],
      "application/vnd.jupyter.widget-view+json": {
       "version_major": 2,
       "version_minor": 0,
       "model_id": "00401b55bb644731bcb7f6ae6324c823"
      }
     },
     "metadata": {},
     "output_type": "display_data"
    },
    {
     "data": {
      "text/plain": [
       "Generating embeddings:   0%|          | 0/2048 [00:00<?, ?it/s]"
      ],
      "application/vnd.jupyter.widget-view+json": {
       "version_major": 2,
       "version_minor": 0,
       "model_id": "fdbe89baa8094f689c293e5ca5deb630"
      }
     },
     "metadata": {},
     "output_type": "display_data"
    },
    {
     "data": {
      "text/plain": [
       "Generating embeddings:   0%|          | 0/2048 [00:00<?, ?it/s]"
      ],
      "application/vnd.jupyter.widget-view+json": {
       "version_major": 2,
       "version_minor": 0,
       "model_id": "1ff4c6f26304484fb18dd8befbc7de76"
      }
     },
     "metadata": {},
     "output_type": "display_data"
    },
    {
     "data": {
      "text/plain": [
       "Generating embeddings:   0%|          | 0/2048 [00:00<?, ?it/s]"
      ],
      "application/vnd.jupyter.widget-view+json": {
       "version_major": 2,
       "version_minor": 0,
       "model_id": "76bf5b33e3b841bfbd8ec76fc5c0422a"
      }
     },
     "metadata": {},
     "output_type": "display_data"
    },
    {
     "data": {
      "text/plain": [
       "Generating embeddings:   0%|          | 0/2048 [00:00<?, ?it/s]"
      ],
      "application/vnd.jupyter.widget-view+json": {
       "version_major": 2,
       "version_minor": 0,
       "model_id": "af7f860d2d624d0a97440a545829363e"
      }
     },
     "metadata": {},
     "output_type": "display_data"
    },
    {
     "data": {
      "text/plain": [
       "Generating embeddings:   0%|          | 0/2048 [00:00<?, ?it/s]"
      ],
      "application/vnd.jupyter.widget-view+json": {
       "version_major": 2,
       "version_minor": 0,
       "model_id": "a1ffbf1b2daa47338b7e8bea5b587464"
      }
     },
     "metadata": {},
     "output_type": "display_data"
    },
    {
     "data": {
      "text/plain": [
       "Generating embeddings:   0%|          | 0/2048 [00:00<?, ?it/s]"
      ],
      "application/vnd.jupyter.widget-view+json": {
       "version_major": 2,
       "version_minor": 0,
       "model_id": "5d6acce38a114c3cbb239d43c9b03deb"
      }
     },
     "metadata": {},
     "output_type": "display_data"
    },
    {
     "data": {
      "text/plain": [
       "Generating embeddings:   0%|          | 0/2048 [00:00<?, ?it/s]"
      ],
      "application/vnd.jupyter.widget-view+json": {
       "version_major": 2,
       "version_minor": 0,
       "model_id": "31484505f5b64a4aa6ff40c44a8171f3"
      }
     },
     "metadata": {},
     "output_type": "display_data"
    },
    {
     "data": {
      "text/plain": [
       "Generating embeddings:   0%|          | 0/2048 [00:00<?, ?it/s]"
      ],
      "application/vnd.jupyter.widget-view+json": {
       "version_major": 2,
       "version_minor": 0,
       "model_id": "de4cae80e4c54e40aafecfc8e2d4bdc9"
      }
     },
     "metadata": {},
     "output_type": "display_data"
    },
    {
     "data": {
      "text/plain": [
       "Generating embeddings:   0%|          | 0/2048 [00:00<?, ?it/s]"
      ],
      "application/vnd.jupyter.widget-view+json": {
       "version_major": 2,
       "version_minor": 0,
       "model_id": "391c1887916142f79affaebfba4705ad"
      }
     },
     "metadata": {},
     "output_type": "display_data"
    },
    {
     "data": {
      "text/plain": [
       "Generating embeddings:   0%|          | 0/2048 [00:00<?, ?it/s]"
      ],
      "application/vnd.jupyter.widget-view+json": {
       "version_major": 2,
       "version_minor": 0,
       "model_id": "3a7aea7cc74748cea901b91828bc8885"
      }
     },
     "metadata": {},
     "output_type": "display_data"
    },
    {
     "data": {
      "text/plain": [
       "Generating embeddings:   0%|          | 0/2048 [00:00<?, ?it/s]"
      ],
      "application/vnd.jupyter.widget-view+json": {
       "version_major": 2,
       "version_minor": 0,
       "model_id": "9702d1354935423facb5833d06a5400c"
      }
     },
     "metadata": {},
     "output_type": "display_data"
    },
    {
     "data": {
      "text/plain": [
       "Generating embeddings:   0%|          | 0/2048 [00:00<?, ?it/s]"
      ],
      "application/vnd.jupyter.widget-view+json": {
       "version_major": 2,
       "version_minor": 0,
       "model_id": "1957e53236ca422b88ba28ffef4dee54"
      }
     },
     "metadata": {},
     "output_type": "display_data"
    },
    {
     "data": {
      "text/plain": [
       "Generating embeddings:   0%|          | 0/2048 [00:00<?, ?it/s]"
      ],
      "application/vnd.jupyter.widget-view+json": {
       "version_major": 2,
       "version_minor": 0,
       "model_id": "cea6d55d498c450fbf7d4adaff1e14fd"
      }
     },
     "metadata": {},
     "output_type": "display_data"
    },
    {
     "data": {
      "text/plain": [
       "Generating embeddings:   0%|          | 0/2048 [00:00<?, ?it/s]"
      ],
      "application/vnd.jupyter.widget-view+json": {
       "version_major": 2,
       "version_minor": 0,
       "model_id": "bde29007fc484a4aa1d88651492dc669"
      }
     },
     "metadata": {},
     "output_type": "display_data"
    },
    {
     "data": {
      "text/plain": [
       "Generating embeddings:   0%|          | 0/2048 [00:00<?, ?it/s]"
      ],
      "application/vnd.jupyter.widget-view+json": {
       "version_major": 2,
       "version_minor": 0,
       "model_id": "447580a2fefc44088205da39bd813488"
      }
     },
     "metadata": {},
     "output_type": "display_data"
    },
    {
     "data": {
      "text/plain": [
       "Generating embeddings:   0%|          | 0/2048 [00:00<?, ?it/s]"
      ],
      "application/vnd.jupyter.widget-view+json": {
       "version_major": 2,
       "version_minor": 0,
       "model_id": "a66d5fecebd64ca2a1be15bd94c50cf1"
      }
     },
     "metadata": {},
     "output_type": "display_data"
    },
    {
     "data": {
      "text/plain": [
       "Generating embeddings:   0%|          | 0/2048 [00:00<?, ?it/s]"
      ],
      "application/vnd.jupyter.widget-view+json": {
       "version_major": 2,
       "version_minor": 0,
       "model_id": "d9d9de8561e34b3b8f62c27640b94591"
      }
     },
     "metadata": {},
     "output_type": "display_data"
    },
    {
     "data": {
      "text/plain": [
       "Generating embeddings:   0%|          | 0/2048 [00:00<?, ?it/s]"
      ],
      "application/vnd.jupyter.widget-view+json": {
       "version_major": 2,
       "version_minor": 0,
       "model_id": "88a4705107394082925aa296e6c2ce55"
      }
     },
     "metadata": {},
     "output_type": "display_data"
    },
    {
     "data": {
      "text/plain": [
       "Generating embeddings:   0%|          | 0/2048 [00:00<?, ?it/s]"
      ],
      "application/vnd.jupyter.widget-view+json": {
       "version_major": 2,
       "version_minor": 0,
       "model_id": "5b83777f50984f6f9c12a7ba17a05de3"
      }
     },
     "metadata": {},
     "output_type": "display_data"
    },
    {
     "data": {
      "text/plain": [
       "Generating embeddings:   0%|          | 0/2048 [00:00<?, ?it/s]"
      ],
      "application/vnd.jupyter.widget-view+json": {
       "version_major": 2,
       "version_minor": 0,
       "model_id": "349d502b5ddf4612acc10ba6d27f4661"
      }
     },
     "metadata": {},
     "output_type": "display_data"
    },
    {
     "data": {
      "text/plain": [
       "Generating embeddings:   0%|          | 0/2048 [00:00<?, ?it/s]"
      ],
      "application/vnd.jupyter.widget-view+json": {
       "version_major": 2,
       "version_minor": 0,
       "model_id": "6d5d6bb2d30d414f9b105f2e0532f99a"
      }
     },
     "metadata": {},
     "output_type": "display_data"
    },
    {
     "data": {
      "text/plain": [
       "Generating embeddings:   0%|          | 0/1260 [00:00<?, ?it/s]"
      ],
      "application/vnd.jupyter.widget-view+json": {
       "version_major": 2,
       "version_minor": 0,
       "model_id": "d89c79659c5c485eae51698342199f8c"
      }
     },
     "metadata": {},
     "output_type": "display_data"
    },
    {
     "name": "stdout",
     "output_type": "stream",
     "text": [
      "CPU times: user 11min 58s, sys: 1min 1s, total: 13min\n",
      "Wall time: 14min 1s\n"
     ]
    }
   ],
   "execution_count": 6
  },
  {
   "cell_type": "code",
   "source": [
    "# Initialized the base retriever to be improved\n",
    "base_retriever = base_index.as_retriever(\n",
    "    similarity_top_k=SIMIL_TOP_K\n",
    ")\n",
    "\n",
    "# Initialize the auto-merging retriever from \n",
    "# the base retrived and the docstore.\n",
    "retriever = AutoMergingRetriever(\n",
    "    vector_retriever=base_retriever,\n",
    "    storage_context=StorageContext.from_defaults(\n",
    "        docstore=docstore\n",
    "    ),\n",
    "    verbose=True,\n",
    ")\n",
    "\n",
    "# Initialize the re-ranker post processor\n",
    "re_ranker = SentenceTransformerRerank(\n",
    "    top_n=RERANK_TOP_N,\n",
    "    model=RERANK_MODEL,\n",
    ")\n",
    "\n",
    "# Initialize the query engine from the auto-merging retriever\n",
    "# and the re-ranking post-processor.\n",
    "auto_merging_engine = RetrieverQueryEngine.from_args(\n",
    "    retriever=retriever, \n",
    "    node_postprocessors=[re_ranker],\n",
    ")"
   ],
   "metadata": {
    "collapsed": false,
    "ExecuteTime": {
     "end_time": "2024-04-09T01:40:40.987716Z",
     "start_time": "2024-04-09T01:40:37.461868Z"
    }
   },
   "id": "328e67192776f347",
   "outputs": [],
   "execution_count": 7
  },
  {
   "cell_type": "code",
   "source": [
    "%%time\n",
    "# Run a quick test on the query engine.\n",
    "print(\">> Quick test on the RAG system.\")\n",
    "question = \"What are the main Hubble telescope discoveries about exoplanets?\"\n",
    "print(f\" > Question: {question}\")\n",
    "response = auto_merging_engine.query(question)\n",
    "print(f\" > Response:\\n\", response.response)"
   ],
   "metadata": {
    "collapsed": false,
    "ExecuteTime": {
     "end_time": "2024-04-09T01:40:47.907377Z",
     "start_time": "2024-04-09T01:40:40.990428Z"
    }
   },
   "id": "3f2bdfee1583b51f",
   "outputs": [
    {
     "name": "stdout",
     "output_type": "stream",
     "text": [
      ">> Quick test on the RAG system.\n",
      " > Question: What are the main Hubble telescope discoveries about exoplanets?\n",
      " > Response:\n",
      " \n",
      "\n",
      "The Hubble telescope has made several significant discoveries about exoplanets, including:\n",
      "\n",
      "1. Observing the two innermost planets and finding that they lack puffy, hydrogen-dominated atmospheres that are common for gaseous worlds like Neptune.\n",
      "\n",
      "2. Demonstrating that the basic organic components for life can be detected and measured on planets orbiting other stars, setting the stage for more detailed studies with future observatories.\n",
      "\n",
      "3. Confirming that a planet orbits two suns.\n",
      "\n",
      "4. Making recent discoveries about strange new worlds, including the detection of helium in an exoplanet's atmosphere around a turbulent star.\n",
      "\n",
      "5. Providing more information about the Hubble Space Telescope mission and its discoveries, as well as resources and social media sites for following Hubble's exploration of exoplanets.\n",
      "\n",
      "Overall, Hubble's contributions are often in partnership with other space telescopes and those on the ground.\n",
      "CPU times: user 3.03 s, sys: 282 ms, total: 3.31 s\n",
      "Wall time: 6.91 s\n"
     ]
    }
   ],
   "execution_count": 8
  },
  {
   "cell_type": "code",
   "source": [
    "%%time\n",
    "\n",
    "# Load a test set to run inference on multiple Q/A pairs\n",
    "test_set_df = pd.read_csv(\n",
    "    filepath_or_buffer=TEST_SET,\n",
    "    usecols=['query', 'reference_answer'],\n",
    ")\n",
    "\n",
    "# Run inference on the Q/A pairs and keep the responses\n",
    "# for future comparison vs.other RAG approaches.\n",
    "responses = generate_responses_dict(\n",
    "    query_engine=auto_merging_engine,\n",
    "    test_set_df=test_set_df\n",
    ")"
   ],
   "metadata": {
    "collapsed": false,
    "ExecuteTime": {
     "end_time": "2024-04-09T01:52:59.353443Z",
     "start_time": "2024-04-09T01:40:47.910823Z"
    }
   },
   "id": "359710a4741ead5",
   "outputs": [
    {
     "data": {
      "text/plain": [
       "  0%|          | 0/137 [00:00<?, ?it/s]"
      ],
      "application/vnd.jupyter.widget-view+json": {
       "version_major": 2,
       "version_minor": 0,
       "model_id": "f0e78fa95b7b4be08adfb309897c6309"
      }
     },
     "metadata": {},
     "output_type": "display_data"
    },
    {
     "name": "stdout",
     "output_type": "stream",
     "text": [
      "> Merging 4 nodes into parent node.\n",
      "> Parent node id: 47939186-0176-4e87-bf28-16bf844c3cb1.\n",
      "> Parent node text: The Power for Flight\n",
      "74\n",
      "that noise was “the curse of modern times and a major environmental prob­...\n",
      "\n",
      "> Merging 5 nodes into parent node.\n",
      "> Parent node id: bdaf5ad9-4c49-4912-94c5-c5cf670d30ee.\n",
      "> Parent node text: 813\n",
      "Documents 5-49 (a–d)\n",
      "In July 1985, an intensive flight evaluation of a three-axis sidestick c...\n",
      "\n",
      "> Merging 5 nodes into parent node.\n",
      "> Parent node id: 3e753de3-4051-4369-b230-25137794739b.\n",
      "> Parent node text: 347\n",
      "Document 5-23 (a–c)\n",
      "foodstuffs and galley supplies is 256 pounds[,] making a total of 490 pou...\n",
      "\n",
      "> Merging 1 nodes into parent node.\n",
      "> Parent node id: 1188caad-d9b3-4bc5-b878-0bea4fdc8345.\n",
      "> Parent node text: 25–26.\n",
      "PLANING-TAIL HULLS\n",
      "Hydrodynamic research on the planing-tail type of hull has been continu...\n",
      "\n",
      "> Merging 2 nodes into parent node.\n",
      "> Parent node id: b8632215-bb5c-45f1-9f04-8888e834c52a.\n",
      "> Parent node text: Chapter 2: Big Dreams\n",
      "89\n",
      "Figure 2-3: Aerogel in the Payload Hazardous Servicing Facility \n",
      "The aer...\n",
      "\n",
      "> Merging 1 nodes into parent node.\n",
      "> Parent node id: 87a6093c-b819-45a2-b338-32cc33b531c8.\n",
      "> Parent node text: Chapter 2: Big Dreams\n",
      "89\n",
      "Figure 2-3: Aerogel in the Payload Hazardous Servicing Facility \n",
      "The aer...\n",
      "\n",
      "> Merging 4 nodes into parent node.\n",
      "> Parent node id: 4c7e75d7-3592-4e4b-b821-f8f8f994b803.\n",
      "> Parent node text: Since that period the rest of the world is rightfully gaining \n",
      "an increasing share. Even so, the ...\n",
      "\n",
      "> Merging 3 nodes into parent node.\n",
      "> Parent node id: 406a06f5-6d45-4f1e-82d7-e0b544542006.\n",
      "> Parent node text: military establishment generally. By 1925, only 117 flying boats could \n",
      "be counted, mostly obsole...\n",
      "\n",
      "> Merging 1 nodes into parent node.\n",
      "> Parent node id: 9302927f-d7dd-471f-8e9e-339b39b56962.\n",
      "> Parent node text: All of the papers at this 1994 NASA conference titled “The Personal Aircraft” \n",
      "proved stimulating...\n",
      "\n",
      "> Merging 5 nodes into parent node.\n",
      "> Parent node id: bb81947e-0d23-48cd-9858-88009a44699e.\n",
      "> Parent node text: 187\n",
      "Improving Climate Models on Earth \n",
      "Climate models are essential in forecasting global \n",
      "change...\n",
      "\n",
      "CPU times: user 5min 36s, sys: 15.1 s, total: 5min 51s\n",
      "Wall time: 12min 11s\n"
     ]
    }
   ],
   "execution_count": 9
  },
  {
   "cell_type": "code",
   "source": [
    "# Convert the responses into a Pandas data frame\n",
    "responses_df = pd.DataFrame.from_dict(responses)\n",
    "\n",
    "# Serialize the inference results dataframe\n",
    "file_name = (f\"Auto_Merging_RAG_{LLM_MODEL.split('/')[1]}\"\n",
    "             f\"_{EMB_MODEL.split('/')[1]}.csv\")\n",
    "\n",
    "responses_df.to_csv(\n",
    "    path_or_buf=file_name,\n",
    "    index=False,\n",
    ")\n",
    "stop = time.time()\n",
    "print(f\"Notebook execution time: {(stop-start)/60:.1f} minutes\")"
   ],
   "metadata": {
    "collapsed": false,
    "ExecuteTime": {
     "end_time": "2024-04-09T01:52:59.386394Z",
     "start_time": "2024-04-09T01:52:59.359522Z"
    }
   },
   "id": "541705c60e55f038",
   "outputs": [
    {
     "name": "stdout",
     "output_type": "stream",
     "text": [
      "Notebook execution time: 35.1 minutes\n"
     ]
    }
   ],
   "execution_count": 10
  },
  {
   "metadata": {
    "ExecuteTime": {
     "end_time": "2024-04-09T01:52:59.393322Z",
     "start_time": "2024-04-09T01:52:59.388915Z"
    }
   },
   "cell_type": "code",
   "source": "",
   "id": "bcbbb3c7fa09f029",
   "outputs": [],
   "execution_count": 10
  }
 ],
 "metadata": {
  "kernelspec": {
   "display_name": "Python 3 (ipykernel)",
   "language": "python",
   "name": "python3"
  },
  "language_info": {
   "codemirror_mode": {
    "name": "ipython",
    "version": 3
   },
   "file_extension": ".py",
   "mimetype": "text/x-python",
   "name": "python",
   "nbconvert_exporter": "python",
   "pygments_lexer": "ipython3",
   "version": "3.10.9"
  }
 },
 "nbformat": 4,
 "nbformat_minor": 5
}
