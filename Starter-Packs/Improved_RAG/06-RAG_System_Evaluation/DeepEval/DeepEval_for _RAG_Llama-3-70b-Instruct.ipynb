{
 "cells": [
  {
   "metadata": {},
   "cell_type": "code",
   "source": [
    "import time\n",
    "# Start timer to time the notebook execution\n",
    "start = time.time()\n",
    "\n",
    "import numpy as np\n",
    "from datetime import datetime\n",
    "import pandas as pd\n",
    "import os\n",
    "import yaml\n",
    "from dotmap import DotMap\n",
    "import ipywidgets as widgets\n",
    "widgets.IntSlider()\n",
    "\n",
    "pd.set_option(\n",
    "    'display.precision', 2,\n",
    "    'display.max_colwidth', 200\n",
    ")\n",
    "\n",
    "from deepeval.metrics import (\n",
    "    ContextualPrecisionMetric,\n",
    "    FaithfulnessMetric,\n",
    "    ContextualRecallMetric,\n",
    "    AnswerRelevancyMetric,\n",
    "    HallucinationMetric,\n",
    ")\n",
    "\n",
    "import sys\n",
    "utils_path = \"../../08-Utils\"\n",
    "if utils_path not in sys.path:\n",
    "    sys.path.append(utils_path)\n",
    "\n",
    "from helpers import (\n",
    "    CustomEvaluationModel,\n",
    "    run_evaluations,\n",
    "    deepeval_on_test_sets,\n",
    "    deepeval_to_dict,\n",
    ")"
   ],
   "id": "77b59ab9e55e055",
   "outputs": [],
   "execution_count": null
  },
  {
   "metadata": {},
   "cell_type": "markdown",
   "source": "",
   "id": "a125b60be97ada4"
  },
  {
   "metadata": {
    "ExecuteTime": {
     "end_time": "2024-08-27T12:38:03.782240Z",
     "start_time": "2024-08-27T12:38:03.764400Z"
    }
   },
   "cell_type": "code",
   "source": [
    "# Open the Starter Pack global configuration file\n",
    "with open('../../07-Starter_Pack_config/improved_rag_config.yaml', 'r') as file:\n",
    "    config = yaml.safe_load(file)\n",
    "config = DotMap(config)"
   ],
   "id": "c805c767238c6a47",
   "outputs": [],
   "execution_count": 2
  },
  {
   "metadata": {
    "ExecuteTime": {
     "end_time": "2024-08-27T12:38:03.786625Z",
     "start_time": "2024-08-27T12:38:03.783507Z"
    }
   },
   "cell_type": "code",
   "source": [
    "# File paths for the inference results from each RAG variant\n",
    "# on the same Q/A pairs evaluation dataset.\n",
    "base_path = config.file_paths.rag_base_path\n",
    "simple_rag_file = config.file_paths.simple_rag\n",
    "sentence_window_rag = config.file_paths.sentence_window_rag\n",
    "auto_merging_retrieval = config.file_paths.auto_merging_retrieval\n",
    "suffix = config.file_paths.common_suffix\n",
    "judge_llm_cfg = config.deep_eval.osrc_judge_llm\n",
    "judge_llm = CustomEvaluationModel(llm_cfg=judge_llm_cfg)"
   ],
   "id": "1369b6d83239b94a",
   "outputs": [],
   "execution_count": 3
  },
  {
   "metadata": {
    "ExecuteTime": {
     "end_time": "2024-08-27T12:38:03.794445Z",
     "start_time": "2024-08-27T12:38:03.788111Z"
    }
   },
   "cell_type": "code",
   "source": [
    "test_sets_folders = [\n",
    "    base_path + simple_rag_file + suffix,\n",
    "    base_path + sentence_window_rag + suffix,\n",
    "    base_path + auto_merging_retrieval + suffix,\n",
    "]\n",
    "\n",
    "test_sets = []\n",
    "for folder in test_sets_folders:\n",
    "    file_list = os.listdir(folder)\n",
    "    current_file = file_list[0] if len(file_list) > 0 else None\n",
    "    if current_file is not None:\n",
    "        test_sets.append(f\"{folder}/{current_file}\")\n",
    "\n",
    "eval_parameters = {\n",
    "    \"threshold\": config.deep_eval.decision_threshold,\n",
    "    \"model\": judge_llm,\n",
    "    \"include_reason\": config.deep_eval.include_reason,\n",
    "    \"async_mode\": False,\n",
    "}\n",
    "\n",
    "# DeepEval list of metrics to get applied on each\n",
    "# test case.\n",
    "metrics = [\n",
    "    ContextualPrecisionMetric(**eval_parameters),\n",
    "    ContextualRecallMetric(**eval_parameters),\n",
    "    AnswerRelevancyMetric(**eval_parameters),\n",
    "    FaithfulnessMetric(**eval_parameters),\n",
    "    HallucinationMetric(**eval_parameters),\n",
    "]\n"
   ],
   "id": "bb95a7f6a84d32f9",
   "outputs": [],
   "execution_count": 4
  },
  {
   "metadata": {
    "ExecuteTime": {
     "end_time": "2024-08-27T15:42:58.476870Z",
     "start_time": "2024-08-27T12:38:03.797209Z"
    }
   },
   "cell_type": "code",
   "source": [
    "# Execute DeepEval evaluations on test cases\n",
    "print(\"Running evaluations...\")\n",
    "evals = deepeval_on_test_sets(\n",
    "    test_sets,\n",
    "    metrics,\n",
    "    config.deep_eval.num_eval_samples,\n",
    ")"
   ],
   "id": "90ad6744d706d370",
   "outputs": [
    {
     "name": "stdout",
     "output_type": "stream",
     "text": [
      "Running evaluations...\n"
     ]
    },
    {
     "data": {
      "text/plain": [
       "  0%|          | 0/3 [00:00<?, ?it/s]"
      ],
      "application/vnd.jupyter.widget-view+json": {
       "version_major": 2,
       "version_minor": 0,
       "model_id": "6ff71a80d41342718483940b3d4fc7e9"
      }
     },
     "metadata": {},
     "output_type": "display_data"
    },
    {
     "name": "stdout",
     "output_type": "stream",
     "text": [
      "Evaluating Standard RAG__llama3-8b-instruct__nv-embedqa-e5-v5__nv-rerankqa-mistral-4b-v3\n"
     ]
    },
    {
     "data": {
      "text/plain": [
       "✅ Tests finished! Run \u001B[32m\"deepeval login\"\u001B[0m to view evaluation results on the web.\n"
      ],
      "text/html": [
       "<pre style=\"white-space:pre;overflow-x:auto;line-height:normal;font-family:Menlo,'DejaVu Sans Mono',consolas,'Courier New',monospace\">✅ Tests finished! Run <span style=\"color: #008000; text-decoration-color: #008000\">\"deepeval login\"</span> to view evaluation results on the web.\n",
       "</pre>\n"
      ]
     },
     "metadata": {},
     "output_type": "display_data"
    },
    {
     "name": "stdout",
     "output_type": "stream",
     "text": [
      "Evaluating Sentence_Window_RAG__llama3-8b-instruct__nv-embedqa-e5-v5__nv-rerankqa-mistral-4b-v3\n"
     ]
    },
    {
     "data": {
      "text/plain": [
       "✅ Tests finished! Run \u001B[32m\"deepeval login\"\u001B[0m to view evaluation results on the web.\n"
      ],
      "text/html": [
       "<pre style=\"white-space:pre;overflow-x:auto;line-height:normal;font-family:Menlo,'DejaVu Sans Mono',consolas,'Courier New',monospace\">✅ Tests finished! Run <span style=\"color: #008000; text-decoration-color: #008000\">\"deepeval login\"</span> to view evaluation results on the web.\n",
       "</pre>\n"
      ]
     },
     "metadata": {},
     "output_type": "display_data"
    },
    {
     "name": "stdout",
     "output_type": "stream",
     "text": [
      "Evaluating Auto_Merging_RAG__llama3-8b-instruct__nv-embedqa-e5-v5__nv-rerankqa-mistral-4b-v3\n"
     ]
    },
    {
     "data": {
      "text/plain": [
       "✅ Tests finished! Run \u001B[32m\"deepeval login\"\u001B[0m to view evaluation results on the web.\n"
      ],
      "text/html": [
       "<pre style=\"white-space:pre;overflow-x:auto;line-height:normal;font-family:Menlo,'DejaVu Sans Mono',consolas,'Courier New',monospace\">✅ Tests finished! Run <span style=\"color: #008000; text-decoration-color: #008000\">\"deepeval login\"</span> to view evaluation results on the web.\n",
       "</pre>\n"
      ]
     },
     "metadata": {},
     "output_type": "display_data"
    }
   ],
   "execution_count": 5
  },
  {
   "metadata": {},
   "cell_type": "markdown",
   "source": [
    "### Display DeepEval summarized results\n",
    "\n",
    "- Notice __there is no absolute winner RAG approach__. Further tweaking is required to get a configuration\n",
    "that maximizes the metric(s) of interest.\n",
    "- It might be (too) hard to make a single RAG approach get\n",
    "the highest scores all across the board.  "
   ],
   "id": "795018c72d3b6806"
  },
  {
   "metadata": {
    "ExecuteTime": {
     "end_time": "2024-08-27T15:42:58.548843Z",
     "start_time": "2024-08-27T15:42:58.478666Z"
    }
   },
   "cell_type": "code",
   "source": [
    "# Display the evaluation results. \n",
    "# Use a summarized view of the results to facilitate the comparison\n",
    "print(\"DeepEval Results\")\n",
    "summary = deepeval_to_dict(evals)\n",
    "labels = [modelmix for modelmix in summary.keys()]\n",
    "dframes = [pd.DataFrame.from_dict(summary[label]).describe(percentiles=[]) for label in labels]\n",
    "results_df = pd.concat(dframes, keys=labels)\n",
    "display(results_df) "
   ],
   "id": "3cf3ac8de82b20fa",
   "outputs": [
    {
     "name": "stdout",
     "output_type": "stream",
     "text": [
      "DeepEval Results\n"
     ]
    },
    {
     "data": {
      "text/plain": [
       "                                                                                            Contextual Precision Score  \\\n",
       "Standard RAG__llama3-8b-instruct__nv-embedqa-e5-v5__nv-rerankqa-mistral-4b-v3        count                       37.00   \n",
       "                                                                                     mean                         0.80   \n",
       "                                                                                     std                          0.28   \n",
       "                                                                                     min                          0.00   \n",
       "                                                                                     50%                          0.89   \n",
       "                                                                                     max                          1.00   \n",
       "Sentence_Window_RAG__llama3-8b-instruct__nv-embedqa-e5-v5__nv-rerankqa-mistral-4b-v3 count                       39.00   \n",
       "                                                                                     mean                         0.89   \n",
       "                                                                                     std                          0.23   \n",
       "                                                                                     min                          0.00   \n",
       "                                                                                     50%                          1.00   \n",
       "                                                                                     max                          1.00   \n",
       "Auto_Merging_RAG__llama3-8b-instruct__nv-embedqa-e5-v5__nv-rerankqa-mistral-4b-v3    count                       40.00   \n",
       "                                                                                     mean                         0.83   \n",
       "                                                                                     std                          0.27   \n",
       "                                                                                     min                          0.00   \n",
       "                                                                                     50%                          0.97   \n",
       "                                                                                     max                          1.00   \n",
       "\n",
       "                                                                                            Contextual Recall Score  \\\n",
       "Standard RAG__llama3-8b-instruct__nv-embedqa-e5-v5__nv-rerankqa-mistral-4b-v3        count                    40.00   \n",
       "                                                                                     mean                      0.83   \n",
       "                                                                                     std                       0.32   \n",
       "                                                                                     min                       0.00   \n",
       "                                                                                     50%                       1.00   \n",
       "                                                                                     max                       1.00   \n",
       "Sentence_Window_RAG__llama3-8b-instruct__nv-embedqa-e5-v5__nv-rerankqa-mistral-4b-v3 count                    40.00   \n",
       "                                                                                     mean                      0.79   \n",
       "                                                                                     std                       0.33   \n",
       "                                                                                     min                       0.00   \n",
       "                                                                                     50%                       1.00   \n",
       "                                                                                     max                       1.00   \n",
       "Auto_Merging_RAG__llama3-8b-instruct__nv-embedqa-e5-v5__nv-rerankqa-mistral-4b-v3    count                    40.00   \n",
       "                                                                                     mean                      0.84   \n",
       "                                                                                     std                       0.29   \n",
       "                                                                                     min                       0.00   \n",
       "                                                                                     50%                       1.00   \n",
       "                                                                                     max                       1.00   \n",
       "\n",
       "                                                                                            Answer Relevancy Score  \\\n",
       "Standard RAG__llama3-8b-instruct__nv-embedqa-e5-v5__nv-rerankqa-mistral-4b-v3        count                   39.00   \n",
       "                                                                                     mean                     0.84   \n",
       "                                                                                     std                      0.20   \n",
       "                                                                                     min                      0.20   \n",
       "                                                                                     50%                      0.88   \n",
       "                                                                                     max                      1.00   \n",
       "Sentence_Window_RAG__llama3-8b-instruct__nv-embedqa-e5-v5__nv-rerankqa-mistral-4b-v3 count                   37.00   \n",
       "                                                                                     mean                     0.80   \n",
       "                                                                                     std                      0.23   \n",
       "                                                                                     min                      0.23   \n",
       "                                                                                     50%                      0.89   \n",
       "                                                                                     max                      1.00   \n",
       "Auto_Merging_RAG__llama3-8b-instruct__nv-embedqa-e5-v5__nv-rerankqa-mistral-4b-v3    count                   39.00   \n",
       "                                                                                     mean                     0.82   \n",
       "                                                                                     std                      0.24   \n",
       "                                                                                     min                      0.25   \n",
       "                                                                                     50%                      0.92   \n",
       "                                                                                     max                      1.00   \n",
       "\n",
       "                                                                                            Faithfulness Score  \\\n",
       "Standard RAG__llama3-8b-instruct__nv-embedqa-e5-v5__nv-rerankqa-mistral-4b-v3        count               40.00   \n",
       "                                                                                     mean                 0.94   \n",
       "                                                                                     std                  0.10   \n",
       "                                                                                     min                  0.67   \n",
       "                                                                                     50%                  1.00   \n",
       "                                                                                     max                  1.00   \n",
       "Sentence_Window_RAG__llama3-8b-instruct__nv-embedqa-e5-v5__nv-rerankqa-mistral-4b-v3 count               39.00   \n",
       "                                                                                     mean                 0.96   \n",
       "                                                                                     std                  0.07   \n",
       "                                                                                     min                  0.71   \n",
       "                                                                                     50%                  1.00   \n",
       "                                                                                     max                  1.00   \n",
       "Auto_Merging_RAG__llama3-8b-instruct__nv-embedqa-e5-v5__nv-rerankqa-mistral-4b-v3    count               40.00   \n",
       "                                                                                     mean                 0.96   \n",
       "                                                                                     std                  0.07   \n",
       "                                                                                     min                  0.75   \n",
       "                                                                                     50%                  1.00   \n",
       "                                                                                     max                  1.00   \n",
       "\n",
       "                                                                                            Hallucination Score  \n",
       "Standard RAG__llama3-8b-instruct__nv-embedqa-e5-v5__nv-rerankqa-mistral-4b-v3        count                40.00  \n",
       "                                                                                     mean                  0.43  \n",
       "                                                                                     std                   0.28  \n",
       "                                                                                     min                   0.00  \n",
       "                                                                                     50%                   0.40  \n",
       "                                                                                     max                   1.00  \n",
       "Sentence_Window_RAG__llama3-8b-instruct__nv-embedqa-e5-v5__nv-rerankqa-mistral-4b-v3 count                39.00  \n",
       "                                                                                     mean                  0.31  \n",
       "                                                                                     std                   0.27  \n",
       "                                                                                     min                   0.00  \n",
       "                                                                                     50%                   0.25  \n",
       "                                                                                     max                   1.00  \n",
       "Auto_Merging_RAG__llama3-8b-instruct__nv-embedqa-e5-v5__nv-rerankqa-mistral-4b-v3    count                40.00  \n",
       "                                                                                     mean                  0.40  \n",
       "                                                                                     std                   0.31  \n",
       "                                                                                     min                   0.00  \n",
       "                                                                                     50%                   0.50  \n",
       "                                                                                     max                   1.00  "
      ],
      "text/html": [
       "<div>\n",
       "<style scoped>\n",
       "    .dataframe tbody tr th:only-of-type {\n",
       "        vertical-align: middle;\n",
       "    }\n",
       "\n",
       "    .dataframe tbody tr th {\n",
       "        vertical-align: top;\n",
       "    }\n",
       "\n",
       "    .dataframe thead th {\n",
       "        text-align: right;\n",
       "    }\n",
       "</style>\n",
       "<table border=\"1\" class=\"dataframe\">\n",
       "  <thead>\n",
       "    <tr style=\"text-align: right;\">\n",
       "      <th></th>\n",
       "      <th></th>\n",
       "      <th>Contextual Precision Score</th>\n",
       "      <th>Contextual Recall Score</th>\n",
       "      <th>Answer Relevancy Score</th>\n",
       "      <th>Faithfulness Score</th>\n",
       "      <th>Hallucination Score</th>\n",
       "    </tr>\n",
       "  </thead>\n",
       "  <tbody>\n",
       "    <tr>\n",
       "      <th rowspan=\"6\" valign=\"top\">Standard RAG__llama3-8b-instruct__nv-embedqa-e5-v5__nv-rerankqa-mistral-4b-v3</th>\n",
       "      <th>count</th>\n",
       "      <td>37.00</td>\n",
       "      <td>40.00</td>\n",
       "      <td>39.00</td>\n",
       "      <td>40.00</td>\n",
       "      <td>40.00</td>\n",
       "    </tr>\n",
       "    <tr>\n",
       "      <th>mean</th>\n",
       "      <td>0.80</td>\n",
       "      <td>0.83</td>\n",
       "      <td>0.84</td>\n",
       "      <td>0.94</td>\n",
       "      <td>0.43</td>\n",
       "    </tr>\n",
       "    <tr>\n",
       "      <th>std</th>\n",
       "      <td>0.28</td>\n",
       "      <td>0.32</td>\n",
       "      <td>0.20</td>\n",
       "      <td>0.10</td>\n",
       "      <td>0.28</td>\n",
       "    </tr>\n",
       "    <tr>\n",
       "      <th>min</th>\n",
       "      <td>0.00</td>\n",
       "      <td>0.00</td>\n",
       "      <td>0.20</td>\n",
       "      <td>0.67</td>\n",
       "      <td>0.00</td>\n",
       "    </tr>\n",
       "    <tr>\n",
       "      <th>50%</th>\n",
       "      <td>0.89</td>\n",
       "      <td>1.00</td>\n",
       "      <td>0.88</td>\n",
       "      <td>1.00</td>\n",
       "      <td>0.40</td>\n",
       "    </tr>\n",
       "    <tr>\n",
       "      <th>max</th>\n",
       "      <td>1.00</td>\n",
       "      <td>1.00</td>\n",
       "      <td>1.00</td>\n",
       "      <td>1.00</td>\n",
       "      <td>1.00</td>\n",
       "    </tr>\n",
       "    <tr>\n",
       "      <th rowspan=\"6\" valign=\"top\">Sentence_Window_RAG__llama3-8b-instruct__nv-embedqa-e5-v5__nv-rerankqa-mistral-4b-v3</th>\n",
       "      <th>count</th>\n",
       "      <td>39.00</td>\n",
       "      <td>40.00</td>\n",
       "      <td>37.00</td>\n",
       "      <td>39.00</td>\n",
       "      <td>39.00</td>\n",
       "    </tr>\n",
       "    <tr>\n",
       "      <th>mean</th>\n",
       "      <td>0.89</td>\n",
       "      <td>0.79</td>\n",
       "      <td>0.80</td>\n",
       "      <td>0.96</td>\n",
       "      <td>0.31</td>\n",
       "    </tr>\n",
       "    <tr>\n",
       "      <th>std</th>\n",
       "      <td>0.23</td>\n",
       "      <td>0.33</td>\n",
       "      <td>0.23</td>\n",
       "      <td>0.07</td>\n",
       "      <td>0.27</td>\n",
       "    </tr>\n",
       "    <tr>\n",
       "      <th>min</th>\n",
       "      <td>0.00</td>\n",
       "      <td>0.00</td>\n",
       "      <td>0.23</td>\n",
       "      <td>0.71</td>\n",
       "      <td>0.00</td>\n",
       "    </tr>\n",
       "    <tr>\n",
       "      <th>50%</th>\n",
       "      <td>1.00</td>\n",
       "      <td>1.00</td>\n",
       "      <td>0.89</td>\n",
       "      <td>1.00</td>\n",
       "      <td>0.25</td>\n",
       "    </tr>\n",
       "    <tr>\n",
       "      <th>max</th>\n",
       "      <td>1.00</td>\n",
       "      <td>1.00</td>\n",
       "      <td>1.00</td>\n",
       "      <td>1.00</td>\n",
       "      <td>1.00</td>\n",
       "    </tr>\n",
       "    <tr>\n",
       "      <th rowspan=\"6\" valign=\"top\">Auto_Merging_RAG__llama3-8b-instruct__nv-embedqa-e5-v5__nv-rerankqa-mistral-4b-v3</th>\n",
       "      <th>count</th>\n",
       "      <td>40.00</td>\n",
       "      <td>40.00</td>\n",
       "      <td>39.00</td>\n",
       "      <td>40.00</td>\n",
       "      <td>40.00</td>\n",
       "    </tr>\n",
       "    <tr>\n",
       "      <th>mean</th>\n",
       "      <td>0.83</td>\n",
       "      <td>0.84</td>\n",
       "      <td>0.82</td>\n",
       "      <td>0.96</td>\n",
       "      <td>0.40</td>\n",
       "    </tr>\n",
       "    <tr>\n",
       "      <th>std</th>\n",
       "      <td>0.27</td>\n",
       "      <td>0.29</td>\n",
       "      <td>0.24</td>\n",
       "      <td>0.07</td>\n",
       "      <td>0.31</td>\n",
       "    </tr>\n",
       "    <tr>\n",
       "      <th>min</th>\n",
       "      <td>0.00</td>\n",
       "      <td>0.00</td>\n",
       "      <td>0.25</td>\n",
       "      <td>0.75</td>\n",
       "      <td>0.00</td>\n",
       "    </tr>\n",
       "    <tr>\n",
       "      <th>50%</th>\n",
       "      <td>0.97</td>\n",
       "      <td>1.00</td>\n",
       "      <td>0.92</td>\n",
       "      <td>1.00</td>\n",
       "      <td>0.50</td>\n",
       "    </tr>\n",
       "    <tr>\n",
       "      <th>max</th>\n",
       "      <td>1.00</td>\n",
       "      <td>1.00</td>\n",
       "      <td>1.00</td>\n",
       "      <td>1.00</td>\n",
       "      <td>1.00</td>\n",
       "    </tr>\n",
       "  </tbody>\n",
       "</table>\n",
       "</div>"
      ]
     },
     "metadata": {},
     "output_type": "display_data"
    }
   ],
   "execution_count": 6
  },
  {
   "metadata": {
    "ExecuteTime": {
     "end_time": "2024-08-27T15:42:58.562440Z",
     "start_time": "2024-08-27T15:42:58.551142Z"
    }
   },
   "cell_type": "code",
   "source": [
    "# Separate the men values per each metric to facilidate comparisons. \n",
    "means_df = results_df[np.in1d(results_df.index.get_level_values(1), ['mean'])].reset_index(level=1, drop=True)\n",
    "means_df.index = means_df.index.to_series().str.split(pat='__').map(lambda x: x[0])\n",
    "means_df"
   ],
   "id": "a8895b9ee4822023",
   "outputs": [
    {
     "data": {
      "text/plain": [
       "                     Contextual Precision Score  Contextual Recall Score  \\\n",
       "Standard RAG                               0.80                     0.83   \n",
       "Sentence_Window_RAG                        0.89                     0.79   \n",
       "Auto_Merging_RAG                           0.83                     0.84   \n",
       "\n",
       "                     Answer Relevancy Score  Faithfulness Score  \\\n",
       "Standard RAG                           0.84                0.94   \n",
       "Sentence_Window_RAG                    0.80                0.96   \n",
       "Auto_Merging_RAG                       0.82                0.96   \n",
       "\n",
       "                     Hallucination Score  \n",
       "Standard RAG                        0.43  \n",
       "Sentence_Window_RAG                 0.31  \n",
       "Auto_Merging_RAG                    0.40  "
      ],
      "text/html": [
       "<div>\n",
       "<style scoped>\n",
       "    .dataframe tbody tr th:only-of-type {\n",
       "        vertical-align: middle;\n",
       "    }\n",
       "\n",
       "    .dataframe tbody tr th {\n",
       "        vertical-align: top;\n",
       "    }\n",
       "\n",
       "    .dataframe thead th {\n",
       "        text-align: right;\n",
       "    }\n",
       "</style>\n",
       "<table border=\"1\" class=\"dataframe\">\n",
       "  <thead>\n",
       "    <tr style=\"text-align: right;\">\n",
       "      <th></th>\n",
       "      <th>Contextual Precision Score</th>\n",
       "      <th>Contextual Recall Score</th>\n",
       "      <th>Answer Relevancy Score</th>\n",
       "      <th>Faithfulness Score</th>\n",
       "      <th>Hallucination Score</th>\n",
       "    </tr>\n",
       "  </thead>\n",
       "  <tbody>\n",
       "    <tr>\n",
       "      <th>Standard RAG</th>\n",
       "      <td>0.80</td>\n",
       "      <td>0.83</td>\n",
       "      <td>0.84</td>\n",
       "      <td>0.94</td>\n",
       "      <td>0.43</td>\n",
       "    </tr>\n",
       "    <tr>\n",
       "      <th>Sentence_Window_RAG</th>\n",
       "      <td>0.89</td>\n",
       "      <td>0.79</td>\n",
       "      <td>0.80</td>\n",
       "      <td>0.96</td>\n",
       "      <td>0.31</td>\n",
       "    </tr>\n",
       "    <tr>\n",
       "      <th>Auto_Merging_RAG</th>\n",
       "      <td>0.83</td>\n",
       "      <td>0.84</td>\n",
       "      <td>0.82</td>\n",
       "      <td>0.96</td>\n",
       "      <td>0.40</td>\n",
       "    </tr>\n",
       "  </tbody>\n",
       "</table>\n",
       "</div>"
      ]
     },
     "execution_count": 7,
     "metadata": {},
     "output_type": "execute_result"
    }
   ],
   "execution_count": 7
  },
  {
   "metadata": {
    "ExecuteTime": {
     "end_time": "2024-08-27T15:43:00.443377Z",
     "start_time": "2024-08-27T15:42:58.564237Z"
    }
   },
   "cell_type": "code",
   "source": [
    "# Plot and compare the mean values of every metric.\n",
    "ax = means_df.plot.bar(rot=0, figsize=(24, 8))\n",
    "ax.legend(bbox_to_anchor=(1.0, 1.0))\n",
    "ax.plot()"
   ],
   "id": "1997f6efc2a563a1",
   "outputs": [
    {
     "data": {
      "text/plain": [
       "[]"
      ]
     },
     "execution_count": 8,
     "metadata": {},
     "output_type": "execute_result"
    },
    {
     "data": {
      "text/plain": [
       "<Figure size 2400x800 with 1 Axes>"
      ],
      "image/png": "[encoded data removed]"
     },
     "metadata": {},
     "output_type": "display_data"
    }
   ],
   "execution_count": 8
  },
  {
   "metadata": {
    "ExecuteTime": {
     "end_time": "2024-08-27T15:43:00.453907Z",
     "start_time": "2024-08-27T15:43:00.444778Z"
    }
   },
   "cell_type": "code",
   "source": [
    "# Serialize the \"evals\" results.\n",
    "file_suffix = datetime.now().strftime(\"%Y_%m_%d-%I_%M_%S_%p\")\n",
    "file_name = f\"eval_runs/DeepEval_run.csv_{file_suffix}\"\n",
    "evals_df = pd.DataFrame.from_dict(summary)\n",
    "evals_df.to_csv(\n",
    "        path_or_buf=file_name,\n",
    "        index=False,\n",
    ")"
   ],
   "id": "a2bee0028638a722",
   "outputs": [],
   "execution_count": 9
  },
  {
   "metadata": {},
   "cell_type": "markdown",
   "source": "",
   "id": "52649b9a5e277fd5"
  }
 ],
 "metadata": {
  "kernelspec": {
   "display_name": "Python 3",
   "language": "python",
   "name": "python3"
  },
  "language_info": {
   "codemirror_mode": {
    "name": "ipython",
    "version": 2
   },
   "file_extension": ".py",
   "mimetype": "text/x-python",
   "name": "python",
   "nbconvert_exporter": "python",
   "pygments_lexer": "ipython2",
   "version": "2.7.6"
  }
 },
 "nbformat": 4,
 "nbformat_minor": 5
}
